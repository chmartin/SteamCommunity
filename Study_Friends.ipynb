{
 "cells": [
  {
   "cell_type": "markdown",
   "metadata": {},
   "source": [
    "# Study friend information\n",
    "\n",
    "This notebook looks at the players friend information."
   ]
  },
  {
   "cell_type": "code",
   "execution_count": 1,
   "metadata": {},
   "outputs": [],
   "source": [
    "import pandas as pd\n",
    "import numpy as np\n",
    "import matplotlib.pyplot as plt\n",
    "import matplotlib.dates as mdates"
   ]
  },
  {
   "cell_type": "code",
   "execution_count": 2,
   "metadata": {},
   "outputs": [],
   "source": [
    "api_calls_day = pd.Timestamp('2019-06-13')\n",
    "churn_cutoff = api_calls_day - pd.Timedelta(3,'M')"
   ]
  },
  {
   "cell_type": "code",
   "execution_count": 3,
   "metadata": {},
   "outputs": [],
   "source": [
    "df = pd.read_csv(\"player_friend_info_200k.csv\",dtype={'steamid': str}).drop(\"Unnamed: 0\", axis='columns')"
   ]
  },
  {
   "cell_type": "code",
   "execution_count": 4,
   "metadata": {},
   "outputs": [],
   "source": [
    "df = df[pd.to_datetime(df['friend_since'], unit='s') < churn_cutoff]"
   ]
  },
  {
   "cell_type": "code",
   "execution_count": 5,
   "metadata": {},
   "outputs": [
    {
     "data": {
      "text/html": [
       "<div>\n",
       "<style scoped>\n",
       "    .dataframe tbody tr th:only-of-type {\n",
       "        vertical-align: middle;\n",
       "    }\n",
       "\n",
       "    .dataframe tbody tr th {\n",
       "        vertical-align: top;\n",
       "    }\n",
       "\n",
       "    .dataframe thead th {\n",
       "        text-align: right;\n",
       "    }\n",
       "</style>\n",
       "<table border=\"1\" class=\"dataframe\">\n",
       "  <thead>\n",
       "    <tr style=\"text-align: right;\">\n",
       "      <th></th>\n",
       "      <th>friend_since</th>\n",
       "      <th>relationship</th>\n",
       "      <th>steamid</th>\n",
       "      <th>steamid_orig</th>\n",
       "    </tr>\n",
       "  </thead>\n",
       "  <tbody>\n",
       "    <tr>\n",
       "      <th>0</th>\n",
       "      <td>1434524498</td>\n",
       "      <td>friend</td>\n",
       "      <td>76561198007070703</td>\n",
       "      <td>76561198199710782</td>\n",
       "    </tr>\n",
       "    <tr>\n",
       "      <th>1</th>\n",
       "      <td>1437740667</td>\n",
       "      <td>friend</td>\n",
       "      <td>76561198041503217</td>\n",
       "      <td>76561198199710782</td>\n",
       "    </tr>\n",
       "    <tr>\n",
       "      <th>2</th>\n",
       "      <td>1438264541</td>\n",
       "      <td>friend</td>\n",
       "      <td>76561198238259518</td>\n",
       "      <td>76561198199710782</td>\n",
       "    </tr>\n",
       "    <tr>\n",
       "      <th>3</th>\n",
       "      <td>1421677696</td>\n",
       "      <td>friend</td>\n",
       "      <td>76561197960448312</td>\n",
       "      <td>76561198049785932</td>\n",
       "    </tr>\n",
       "    <tr>\n",
       "      <th>4</th>\n",
       "      <td>1490267324</td>\n",
       "      <td>friend</td>\n",
       "      <td>76561197961426758</td>\n",
       "      <td>76561198049785932</td>\n",
       "    </tr>\n",
       "  </tbody>\n",
       "</table>\n",
       "</div>"
      ],
      "text/plain": [
       "   friend_since relationship            steamid       steamid_orig\n",
       "0    1434524498       friend  76561198007070703  76561198199710782\n",
       "1    1437740667       friend  76561198041503217  76561198199710782\n",
       "2    1438264541       friend  76561198238259518  76561198199710782\n",
       "3    1421677696       friend  76561197960448312  76561198049785932\n",
       "4    1490267324       friend  76561197961426758  76561198049785932"
      ]
     },
     "execution_count": 5,
     "metadata": {},
     "output_type": "execute_result"
    }
   ],
   "source": [
    "df.head()"
   ]
  },
  {
   "cell_type": "code",
   "execution_count": 6,
   "metadata": {},
   "outputs": [
    {
     "data": {
      "text/html": [
       "<div>\n",
       "<style scoped>\n",
       "    .dataframe tbody tr th:only-of-type {\n",
       "        vertical-align: middle;\n",
       "    }\n",
       "\n",
       "    .dataframe tbody tr th {\n",
       "        vertical-align: top;\n",
       "    }\n",
       "\n",
       "    .dataframe thead th {\n",
       "        text-align: right;\n",
       "    }\n",
       "</style>\n",
       "<table border=\"1\" class=\"dataframe\">\n",
       "  <thead>\n",
       "    <tr style=\"text-align: right;\">\n",
       "      <th></th>\n",
       "      <th>friend_since</th>\n",
       "      <th>relationship</th>\n",
       "      <th>steamid</th>\n",
       "      <th>steamid_orig</th>\n",
       "    </tr>\n",
       "  </thead>\n",
       "  <tbody>\n",
       "    <tr>\n",
       "      <th>23957903</th>\n",
       "      <td>1439112895</td>\n",
       "      <td>friend</td>\n",
       "      <td>76561198240184600</td>\n",
       "      <td>76561198084135026</td>\n",
       "    </tr>\n",
       "    <tr>\n",
       "      <th>23957904</th>\n",
       "      <td>1465741880</td>\n",
       "      <td>friend</td>\n",
       "      <td>76561198256885545</td>\n",
       "      <td>76561198084135026</td>\n",
       "    </tr>\n",
       "    <tr>\n",
       "      <th>23957905</th>\n",
       "      <td>1449753326</td>\n",
       "      <td>friend</td>\n",
       "      <td>76561198267277378</td>\n",
       "      <td>76561198084135026</td>\n",
       "    </tr>\n",
       "    <tr>\n",
       "      <th>23957906</th>\n",
       "      <td>1462262043</td>\n",
       "      <td>friend</td>\n",
       "      <td>76561198273192861</td>\n",
       "      <td>76561198084135026</td>\n",
       "    </tr>\n",
       "    <tr>\n",
       "      <th>23957907</th>\n",
       "      <td>1492759425</td>\n",
       "      <td>friend</td>\n",
       "      <td>76561198322866773</td>\n",
       "      <td>76561198084135026</td>\n",
       "    </tr>\n",
       "  </tbody>\n",
       "</table>\n",
       "</div>"
      ],
      "text/plain": [
       "          friend_since relationship            steamid       steamid_orig\n",
       "23957903    1439112895       friend  76561198240184600  76561198084135026\n",
       "23957904    1465741880       friend  76561198256885545  76561198084135026\n",
       "23957905    1449753326       friend  76561198267277378  76561198084135026\n",
       "23957906    1462262043       friend  76561198273192861  76561198084135026\n",
       "23957907    1492759425       friend  76561198322866773  76561198084135026"
      ]
     },
     "execution_count": 6,
     "metadata": {},
     "output_type": "execute_result"
    }
   ],
   "source": [
    "df.tail()"
   ]
  },
  {
   "cell_type": "code",
   "execution_count": 7,
   "metadata": {},
   "outputs": [
    {
     "name": "stdout",
     "output_type": "stream",
     "text": [
      "<class 'pandas.core.frame.DataFrame'>\n",
      "Int64Index: 22928655 entries, 0 to 23957907\n",
      "Data columns (total 4 columns):\n",
      "friend_since    int64\n",
      "relationship    object\n",
      "steamid         object\n",
      "steamid_orig    int64\n",
      "dtypes: int64(2), object(2)\n",
      "memory usage: 874.7+ MB\n"
     ]
    }
   ],
   "source": [
    "df.info()"
   ]
  },
  {
   "cell_type": "code",
   "execution_count": 8,
   "metadata": {},
   "outputs": [
    {
     "data": {
      "text/plain": [
       "9837216"
      ]
     },
     "execution_count": 8,
     "metadata": {},
     "output_type": "execute_result"
    }
   ],
   "source": [
    "df['steamid'].nunique()"
   ]
  },
  {
   "cell_type": "code",
   "execution_count": 9,
   "metadata": {},
   "outputs": [
    {
     "data": {
      "text/plain": [
       "170877"
      ]
     },
     "execution_count": 9,
     "metadata": {},
     "output_type": "execute_result"
    }
   ],
   "source": [
    "df['steamid_orig'].nunique()"
   ]
  },
  {
   "cell_type": "code",
   "execution_count": 10,
   "metadata": {},
   "outputs": [
    {
     "data": {
      "text/plain": [
       "1"
      ]
     },
     "execution_count": 10,
     "metadata": {},
     "output_type": "execute_result"
    }
   ],
   "source": [
    "df['relationship'].nunique()"
   ]
  },
  {
   "cell_type": "code",
   "execution_count": 11,
   "metadata": {},
   "outputs": [],
   "source": [
    "df = df.drop('relationship',axis='columns')"
   ]
  },
  {
   "cell_type": "code",
   "execution_count": 12,
   "metadata": {},
   "outputs": [],
   "source": [
    "#df['Root'] = (df['steamid_orig'] == 76561197960434622)"
   ]
  },
  {
   "cell_type": "code",
   "execution_count": 13,
   "metadata": {},
   "outputs": [
    {
     "data": {
      "text/html": [
       "<div>\n",
       "<style scoped>\n",
       "    .dataframe tbody tr th:only-of-type {\n",
       "        vertical-align: middle;\n",
       "    }\n",
       "\n",
       "    .dataframe tbody tr th {\n",
       "        vertical-align: top;\n",
       "    }\n",
       "\n",
       "    .dataframe thead th {\n",
       "        text-align: right;\n",
       "    }\n",
       "</style>\n",
       "<table border=\"1\" class=\"dataframe\">\n",
       "  <thead>\n",
       "    <tr style=\"text-align: right;\">\n",
       "      <th></th>\n",
       "      <th>friend_since</th>\n",
       "      <th>steamid</th>\n",
       "      <th>steamid_orig</th>\n",
       "    </tr>\n",
       "  </thead>\n",
       "  <tbody>\n",
       "    <tr>\n",
       "      <th>0</th>\n",
       "      <td>1434524498</td>\n",
       "      <td>76561198007070703</td>\n",
       "      <td>76561198199710782</td>\n",
       "    </tr>\n",
       "    <tr>\n",
       "      <th>1</th>\n",
       "      <td>1437740667</td>\n",
       "      <td>76561198041503217</td>\n",
       "      <td>76561198199710782</td>\n",
       "    </tr>\n",
       "    <tr>\n",
       "      <th>2</th>\n",
       "      <td>1438264541</td>\n",
       "      <td>76561198238259518</td>\n",
       "      <td>76561198199710782</td>\n",
       "    </tr>\n",
       "    <tr>\n",
       "      <th>3</th>\n",
       "      <td>1421677696</td>\n",
       "      <td>76561197960448312</td>\n",
       "      <td>76561198049785932</td>\n",
       "    </tr>\n",
       "    <tr>\n",
       "      <th>4</th>\n",
       "      <td>1490267324</td>\n",
       "      <td>76561197961426758</td>\n",
       "      <td>76561198049785932</td>\n",
       "    </tr>\n",
       "  </tbody>\n",
       "</table>\n",
       "</div>"
      ],
      "text/plain": [
       "   friend_since            steamid       steamid_orig\n",
       "0    1434524498  76561198007070703  76561198199710782\n",
       "1    1437740667  76561198041503217  76561198199710782\n",
       "2    1438264541  76561198238259518  76561198199710782\n",
       "3    1421677696  76561197960448312  76561198049785932\n",
       "4    1490267324  76561197961426758  76561198049785932"
      ]
     },
     "execution_count": 13,
     "metadata": {},
     "output_type": "execute_result"
    }
   ],
   "source": [
    "df.head()"
   ]
  },
  {
   "cell_type": "code",
   "execution_count": 14,
   "metadata": {},
   "outputs": [
    {
     "data": {
      "text/html": [
       "<div>\n",
       "<style scoped>\n",
       "    .dataframe tbody tr th:only-of-type {\n",
       "        vertical-align: middle;\n",
       "    }\n",
       "\n",
       "    .dataframe tbody tr th {\n",
       "        vertical-align: top;\n",
       "    }\n",
       "\n",
       "    .dataframe thead th {\n",
       "        text-align: right;\n",
       "    }\n",
       "</style>\n",
       "<table border=\"1\" class=\"dataframe\">\n",
       "  <thead>\n",
       "    <tr style=\"text-align: right;\">\n",
       "      <th></th>\n",
       "      <th>friend_since</th>\n",
       "      <th>steamid</th>\n",
       "      <th>steamid_orig</th>\n",
       "    </tr>\n",
       "  </thead>\n",
       "  <tbody>\n",
       "    <tr>\n",
       "      <th>23957903</th>\n",
       "      <td>1439112895</td>\n",
       "      <td>76561198240184600</td>\n",
       "      <td>76561198084135026</td>\n",
       "    </tr>\n",
       "    <tr>\n",
       "      <th>23957904</th>\n",
       "      <td>1465741880</td>\n",
       "      <td>76561198256885545</td>\n",
       "      <td>76561198084135026</td>\n",
       "    </tr>\n",
       "    <tr>\n",
       "      <th>23957905</th>\n",
       "      <td>1449753326</td>\n",
       "      <td>76561198267277378</td>\n",
       "      <td>76561198084135026</td>\n",
       "    </tr>\n",
       "    <tr>\n",
       "      <th>23957906</th>\n",
       "      <td>1462262043</td>\n",
       "      <td>76561198273192861</td>\n",
       "      <td>76561198084135026</td>\n",
       "    </tr>\n",
       "    <tr>\n",
       "      <th>23957907</th>\n",
       "      <td>1492759425</td>\n",
       "      <td>76561198322866773</td>\n",
       "      <td>76561198084135026</td>\n",
       "    </tr>\n",
       "  </tbody>\n",
       "</table>\n",
       "</div>"
      ],
      "text/plain": [
       "          friend_since            steamid       steamid_orig\n",
       "23957903    1439112895  76561198240184600  76561198084135026\n",
       "23957904    1465741880  76561198256885545  76561198084135026\n",
       "23957905    1449753326  76561198267277378  76561198084135026\n",
       "23957906    1462262043  76561198273192861  76561198084135026\n",
       "23957907    1492759425  76561198322866773  76561198084135026"
      ]
     },
     "execution_count": 14,
     "metadata": {},
     "output_type": "execute_result"
    }
   ],
   "source": [
    "df.tail()"
   ]
  },
  {
   "cell_type": "code",
   "execution_count": 15,
   "metadata": {},
   "outputs": [],
   "source": [
    "#First_tier = list(df[df['Root']]['steamid'])"
   ]
  },
  {
   "cell_type": "code",
   "execution_count": 16,
   "metadata": {},
   "outputs": [],
   "source": [
    "#df['First_tier'] = df['steamid_orig'].apply(lambda x: x in First_tier)"
   ]
  },
  {
   "cell_type": "code",
   "execution_count": 17,
   "metadata": {},
   "outputs": [],
   "source": [
    "#Second_tier = list(df[df['First_tier']]['steamid'])"
   ]
  },
  {
   "cell_type": "code",
   "execution_count": 18,
   "metadata": {},
   "outputs": [],
   "source": [
    "#df['Second_tier'] = df['steamid_orig'].apply(lambda x: x in Second_tier)"
   ]
  },
  {
   "cell_type": "code",
   "execution_count": 19,
   "metadata": {},
   "outputs": [],
   "source": [
    "#df['Third_tier'] = ((~df['Second_tier']) & (~df['First_tier']))"
   ]
  },
  {
   "cell_type": "code",
   "execution_count": 20,
   "metadata": {},
   "outputs": [],
   "source": [
    "#df[df['Third_tier']]"
   ]
  },
  {
   "cell_type": "code",
   "execution_count": 21,
   "metadata": {},
   "outputs": [],
   "source": [
    "import seaborn as sns\n",
    "import matplotlib.pyplot as plt\n",
    "%matplotlib inline"
   ]
  },
  {
   "cell_type": "code",
   "execution_count": null,
   "metadata": {},
   "outputs": [],
   "source": []
  },
  {
   "cell_type": "code",
   "execution_count": 22,
   "metadata": {},
   "outputs": [],
   "source": [
    "df_num_Friends = (df.groupby('steamid_orig').count()['steamid']).to_frame()"
   ]
  },
  {
   "cell_type": "code",
   "execution_count": 23,
   "metadata": {},
   "outputs": [],
   "source": [
    "df_num_Friends = df_num_Friends.reset_index()"
   ]
  },
  {
   "cell_type": "code",
   "execution_count": 24,
   "metadata": {},
   "outputs": [],
   "source": [
    "df_num_Friends['num_Friends'] = df_num_Friends['steamid']"
   ]
  },
  {
   "cell_type": "code",
   "execution_count": 25,
   "metadata": {},
   "outputs": [
    {
     "data": {
      "text/html": [
       "<div>\n",
       "<style scoped>\n",
       "    .dataframe tbody tr th:only-of-type {\n",
       "        vertical-align: middle;\n",
       "    }\n",
       "\n",
       "    .dataframe tbody tr th {\n",
       "        vertical-align: top;\n",
       "    }\n",
       "\n",
       "    .dataframe thead th {\n",
       "        text-align: right;\n",
       "    }\n",
       "</style>\n",
       "<table border=\"1\" class=\"dataframe\">\n",
       "  <thead>\n",
       "    <tr style=\"text-align: right;\">\n",
       "      <th></th>\n",
       "      <th>steamid_orig</th>\n",
       "      <th>steamid</th>\n",
       "      <th>num_Friends</th>\n",
       "    </tr>\n",
       "  </thead>\n",
       "  <tbody>\n",
       "    <tr>\n",
       "      <th>766</th>\n",
       "      <td>76561197960434622</td>\n",
       "      <td>174</td>\n",
       "      <td>174</td>\n",
       "    </tr>\n",
       "  </tbody>\n",
       "</table>\n",
       "</div>"
      ],
      "text/plain": [
       "          steamid_orig  steamid  num_Friends\n",
       "766  76561197960434622      174          174"
      ]
     },
     "execution_count": 25,
     "metadata": {},
     "output_type": "execute_result"
    }
   ],
   "source": [
    "df_num_Friends[df_num_Friends['steamid_orig'] == 76561197960434622]"
   ]
  },
  {
   "cell_type": "code",
   "execution_count": 26,
   "metadata": {
    "scrolled": true
   },
   "outputs": [],
   "source": [
    "df_num_Friends = df_num_Friends.drop('steamid',axis='columns')"
   ]
  },
  {
   "cell_type": "code",
   "execution_count": 27,
   "metadata": {},
   "outputs": [],
   "source": [
    "df_num_Friends['steamid'] = df_num_Friends['steamid_orig']"
   ]
  },
  {
   "cell_type": "code",
   "execution_count": 28,
   "metadata": {},
   "outputs": [],
   "source": [
    "df_num_Friends = df_num_Friends.drop('steamid_orig',axis='columns')"
   ]
  },
  {
   "cell_type": "code",
   "execution_count": 29,
   "metadata": {},
   "outputs": [
    {
     "data": {
      "text/html": [
       "<div>\n",
       "<style scoped>\n",
       "    .dataframe tbody tr th:only-of-type {\n",
       "        vertical-align: middle;\n",
       "    }\n",
       "\n",
       "    .dataframe tbody tr th {\n",
       "        vertical-align: top;\n",
       "    }\n",
       "\n",
       "    .dataframe thead th {\n",
       "        text-align: right;\n",
       "    }\n",
       "</style>\n",
       "<table border=\"1\" class=\"dataframe\">\n",
       "  <thead>\n",
       "    <tr style=\"text-align: right;\">\n",
       "      <th></th>\n",
       "      <th>num_Friends</th>\n",
       "      <th>steamid</th>\n",
       "    </tr>\n",
       "  </thead>\n",
       "  <tbody>\n",
       "    <tr>\n",
       "      <th>0</th>\n",
       "      <td>9</td>\n",
       "      <td>76561197960265730</td>\n",
       "    </tr>\n",
       "    <tr>\n",
       "      <th>1</th>\n",
       "      <td>174</td>\n",
       "      <td>76561197960265731</td>\n",
       "    </tr>\n",
       "    <tr>\n",
       "      <th>2</th>\n",
       "      <td>70</td>\n",
       "      <td>76561197960265733</td>\n",
       "    </tr>\n",
       "    <tr>\n",
       "      <th>3</th>\n",
       "      <td>91</td>\n",
       "      <td>76561197960265738</td>\n",
       "    </tr>\n",
       "    <tr>\n",
       "      <th>4</th>\n",
       "      <td>66</td>\n",
       "      <td>76561197960265743</td>\n",
       "    </tr>\n",
       "  </tbody>\n",
       "</table>\n",
       "</div>"
      ],
      "text/plain": [
       "   num_Friends            steamid\n",
       "0            9  76561197960265730\n",
       "1          174  76561197960265731\n",
       "2           70  76561197960265733\n",
       "3           91  76561197960265738\n",
       "4           66  76561197960265743"
      ]
     },
     "execution_count": 29,
     "metadata": {},
     "output_type": "execute_result"
    }
   ],
   "source": [
    "df_num_Friends.head()"
   ]
  },
  {
   "cell_type": "code",
   "execution_count": 30,
   "metadata": {},
   "outputs": [],
   "source": [
    "df_max = df.loc[df.groupby('steamid_orig')['friend_since'].idxmax()]"
   ]
  },
  {
   "cell_type": "code",
   "execution_count": 31,
   "metadata": {},
   "outputs": [],
   "source": [
    "df_max = df_max.reset_index()"
   ]
  },
  {
   "cell_type": "code",
   "execution_count": 32,
   "metadata": {},
   "outputs": [
    {
     "data": {
      "text/html": [
       "<div>\n",
       "<style scoped>\n",
       "    .dataframe tbody tr th:only-of-type {\n",
       "        vertical-align: middle;\n",
       "    }\n",
       "\n",
       "    .dataframe tbody tr th {\n",
       "        vertical-align: top;\n",
       "    }\n",
       "\n",
       "    .dataframe thead th {\n",
       "        text-align: right;\n",
       "    }\n",
       "</style>\n",
       "<table border=\"1\" class=\"dataframe\">\n",
       "  <thead>\n",
       "    <tr style=\"text-align: right;\">\n",
       "      <th></th>\n",
       "      <th>index</th>\n",
       "      <th>friend_since</th>\n",
       "      <th>steamid</th>\n",
       "      <th>steamid_orig</th>\n",
       "    </tr>\n",
       "  </thead>\n",
       "  <tbody>\n",
       "    <tr>\n",
       "      <th>0</th>\n",
       "      <td>5616118</td>\n",
       "      <td>1455906659</td>\n",
       "      <td>76561198018064800</td>\n",
       "      <td>76561197960265730</td>\n",
       "    </tr>\n",
       "    <tr>\n",
       "      <th>1</th>\n",
       "      <td>5119362</td>\n",
       "      <td>1534046531</td>\n",
       "      <td>76561198105633837</td>\n",
       "      <td>76561197960265731</td>\n",
       "    </tr>\n",
       "    <tr>\n",
       "      <th>2</th>\n",
       "      <td>6366238</td>\n",
       "      <td>1498068231</td>\n",
       "      <td>76561197972491988</td>\n",
       "      <td>76561197960265733</td>\n",
       "    </tr>\n",
       "    <tr>\n",
       "      <th>3</th>\n",
       "      <td>5043230</td>\n",
       "      <td>1548739620</td>\n",
       "      <td>76561198262909170</td>\n",
       "      <td>76561197960265738</td>\n",
       "    </tr>\n",
       "    <tr>\n",
       "      <th>4</th>\n",
       "      <td>5038909</td>\n",
       "      <td>1534367618</td>\n",
       "      <td>76561198348711414</td>\n",
       "      <td>76561197960265743</td>\n",
       "    </tr>\n",
       "  </tbody>\n",
       "</table>\n",
       "</div>"
      ],
      "text/plain": [
       "     index  friend_since            steamid       steamid_orig\n",
       "0  5616118    1455906659  76561198018064800  76561197960265730\n",
       "1  5119362    1534046531  76561198105633837  76561197960265731\n",
       "2  6366238    1498068231  76561197972491988  76561197960265733\n",
       "3  5043230    1548739620  76561198262909170  76561197960265738\n",
       "4  5038909    1534367618  76561198348711414  76561197960265743"
      ]
     },
     "execution_count": 32,
     "metadata": {},
     "output_type": "execute_result"
    }
   ],
   "source": [
    "df_max.head()"
   ]
  },
  {
   "cell_type": "code",
   "execution_count": 33,
   "metadata": {},
   "outputs": [
    {
     "data": {
      "text/html": [
       "<div>\n",
       "<style scoped>\n",
       "    .dataframe tbody tr th:only-of-type {\n",
       "        vertical-align: middle;\n",
       "    }\n",
       "\n",
       "    .dataframe tbody tr th {\n",
       "        vertical-align: top;\n",
       "    }\n",
       "\n",
       "    .dataframe thead th {\n",
       "        text-align: right;\n",
       "    }\n",
       "</style>\n",
       "<table border=\"1\" class=\"dataframe\">\n",
       "  <thead>\n",
       "    <tr style=\"text-align: right;\">\n",
       "      <th></th>\n",
       "      <th>index</th>\n",
       "      <th>friend_since</th>\n",
       "      <th>steamid</th>\n",
       "      <th>steamid_orig</th>\n",
       "    </tr>\n",
       "  </thead>\n",
       "  <tbody>\n",
       "    <tr>\n",
       "      <th>766</th>\n",
       "      <td>5035903</td>\n",
       "      <td>1545543929</td>\n",
       "      <td>76561197994308495</td>\n",
       "      <td>76561197960434622</td>\n",
       "    </tr>\n",
       "  </tbody>\n",
       "</table>\n",
       "</div>"
      ],
      "text/plain": [
       "       index  friend_since            steamid       steamid_orig\n",
       "766  5035903    1545543929  76561197994308495  76561197960434622"
      ]
     },
     "execution_count": 33,
     "metadata": {},
     "output_type": "execute_result"
    }
   ],
   "source": [
    "df_max[df_max['steamid_orig'] == 76561197960434622]"
   ]
  },
  {
   "cell_type": "code",
   "execution_count": 34,
   "metadata": {},
   "outputs": [],
   "source": [
    "df_max['newest_friend_time'] = df_max['friend_since']"
   ]
  },
  {
   "cell_type": "code",
   "execution_count": 35,
   "metadata": {},
   "outputs": [],
   "source": [
    "df_max['newest_friend_steamid'] = df_max['steamid']"
   ]
  },
  {
   "cell_type": "code",
   "execution_count": 36,
   "metadata": {
    "scrolled": true
   },
   "outputs": [
    {
     "data": {
      "text/html": [
       "<div>\n",
       "<style scoped>\n",
       "    .dataframe tbody tr th:only-of-type {\n",
       "        vertical-align: middle;\n",
       "    }\n",
       "\n",
       "    .dataframe tbody tr th {\n",
       "        vertical-align: top;\n",
       "    }\n",
       "\n",
       "    .dataframe thead th {\n",
       "        text-align: right;\n",
       "    }\n",
       "</style>\n",
       "<table border=\"1\" class=\"dataframe\">\n",
       "  <thead>\n",
       "    <tr style=\"text-align: right;\">\n",
       "      <th></th>\n",
       "      <th>steamid_orig</th>\n",
       "      <th>newest_friend_time</th>\n",
       "      <th>newest_friend_steamid</th>\n",
       "    </tr>\n",
       "  </thead>\n",
       "  <tbody>\n",
       "    <tr>\n",
       "      <th>0</th>\n",
       "      <td>76561197960265730</td>\n",
       "      <td>1455906659</td>\n",
       "      <td>76561198018064800</td>\n",
       "    </tr>\n",
       "    <tr>\n",
       "      <th>1</th>\n",
       "      <td>76561197960265731</td>\n",
       "      <td>1534046531</td>\n",
       "      <td>76561198105633837</td>\n",
       "    </tr>\n",
       "    <tr>\n",
       "      <th>2</th>\n",
       "      <td>76561197960265733</td>\n",
       "      <td>1498068231</td>\n",
       "      <td>76561197972491988</td>\n",
       "    </tr>\n",
       "    <tr>\n",
       "      <th>3</th>\n",
       "      <td>76561197960265738</td>\n",
       "      <td>1548739620</td>\n",
       "      <td>76561198262909170</td>\n",
       "    </tr>\n",
       "    <tr>\n",
       "      <th>4</th>\n",
       "      <td>76561197960265743</td>\n",
       "      <td>1534367618</td>\n",
       "      <td>76561198348711414</td>\n",
       "    </tr>\n",
       "  </tbody>\n",
       "</table>\n",
       "</div>"
      ],
      "text/plain": [
       "        steamid_orig  newest_friend_time newest_friend_steamid\n",
       "0  76561197960265730          1455906659     76561198018064800\n",
       "1  76561197960265731          1534046531     76561198105633837\n",
       "2  76561197960265733          1498068231     76561197972491988\n",
       "3  76561197960265738          1548739620     76561198262909170\n",
       "4  76561197960265743          1534367618     76561198348711414"
      ]
     },
     "execution_count": 36,
     "metadata": {},
     "output_type": "execute_result"
    }
   ],
   "source": [
    "df_max = df_max.drop(['index','friend_since','steamid'],axis='columns')\n",
    "df_max.head()"
   ]
  },
  {
   "cell_type": "code",
   "execution_count": 37,
   "metadata": {},
   "outputs": [
    {
     "data": {
      "text/html": [
       "<div>\n",
       "<style scoped>\n",
       "    .dataframe tbody tr th:only-of-type {\n",
       "        vertical-align: middle;\n",
       "    }\n",
       "\n",
       "    .dataframe tbody tr th {\n",
       "        vertical-align: top;\n",
       "    }\n",
       "\n",
       "    .dataframe thead th {\n",
       "        text-align: right;\n",
       "    }\n",
       "</style>\n",
       "<table border=\"1\" class=\"dataframe\">\n",
       "  <thead>\n",
       "    <tr style=\"text-align: right;\">\n",
       "      <th></th>\n",
       "      <th>newest_friend_time</th>\n",
       "      <th>newest_friend_steamid</th>\n",
       "      <th>steamid</th>\n",
       "    </tr>\n",
       "  </thead>\n",
       "  <tbody>\n",
       "    <tr>\n",
       "      <th>0</th>\n",
       "      <td>1455906659</td>\n",
       "      <td>76561198018064800</td>\n",
       "      <td>76561197960265730</td>\n",
       "    </tr>\n",
       "    <tr>\n",
       "      <th>1</th>\n",
       "      <td>1534046531</td>\n",
       "      <td>76561198105633837</td>\n",
       "      <td>76561197960265731</td>\n",
       "    </tr>\n",
       "    <tr>\n",
       "      <th>2</th>\n",
       "      <td>1498068231</td>\n",
       "      <td>76561197972491988</td>\n",
       "      <td>76561197960265733</td>\n",
       "    </tr>\n",
       "    <tr>\n",
       "      <th>3</th>\n",
       "      <td>1548739620</td>\n",
       "      <td>76561198262909170</td>\n",
       "      <td>76561197960265738</td>\n",
       "    </tr>\n",
       "    <tr>\n",
       "      <th>4</th>\n",
       "      <td>1534367618</td>\n",
       "      <td>76561198348711414</td>\n",
       "      <td>76561197960265743</td>\n",
       "    </tr>\n",
       "  </tbody>\n",
       "</table>\n",
       "</div>"
      ],
      "text/plain": [
       "   newest_friend_time newest_friend_steamid            steamid\n",
       "0          1455906659     76561198018064800  76561197960265730\n",
       "1          1534046531     76561198105633837  76561197960265731\n",
       "2          1498068231     76561197972491988  76561197960265733\n",
       "3          1548739620     76561198262909170  76561197960265738\n",
       "4          1534367618     76561198348711414  76561197960265743"
      ]
     },
     "execution_count": 37,
     "metadata": {},
     "output_type": "execute_result"
    }
   ],
   "source": [
    "df_max['steamid'] = df_max['steamid_orig']\n",
    "df_max = df_max.drop('steamid_orig',axis='columns')\n",
    "df_max.head()"
   ]
  },
  {
   "cell_type": "code",
   "execution_count": 38,
   "metadata": {},
   "outputs": [
    {
     "name": "stdout",
     "output_type": "stream",
     "text": [
      "<class 'pandas.core.frame.DataFrame'>\n",
      "RangeIndex: 170877 entries, 0 to 170876\n",
      "Data columns (total 3 columns):\n",
      "newest_friend_time       170877 non-null int64\n",
      "newest_friend_steamid    170877 non-null object\n",
      "steamid                  170877 non-null int64\n",
      "dtypes: int64(2), object(1)\n",
      "memory usage: 3.9+ MB\n"
     ]
    }
   ],
   "source": [
    "df_max.info()"
   ]
  },
  {
   "cell_type": "code",
   "execution_count": 39,
   "metadata": {},
   "outputs": [
    {
     "data": {
      "text/plain": [
       "newest_friend_time       168151\n",
       "newest_friend_steamid    156637\n",
       "steamid                  170877\n",
       "dtype: int64"
      ]
     },
     "execution_count": 39,
     "metadata": {},
     "output_type": "execute_result"
    }
   ],
   "source": [
    "df_max.nunique()"
   ]
  },
  {
   "cell_type": "code",
   "execution_count": 40,
   "metadata": {},
   "outputs": [],
   "source": [
    "df_min = df.loc[df.groupby('steamid_orig')['friend_since'].idxmin()]"
   ]
  },
  {
   "cell_type": "code",
   "execution_count": 41,
   "metadata": {},
   "outputs": [],
   "source": [
    "df_min = df_min.reset_index()"
   ]
  },
  {
   "cell_type": "code",
   "execution_count": 42,
   "metadata": {},
   "outputs": [
    {
     "data": {
      "text/html": [
       "<div>\n",
       "<style scoped>\n",
       "    .dataframe tbody tr th:only-of-type {\n",
       "        vertical-align: middle;\n",
       "    }\n",
       "\n",
       "    .dataframe tbody tr th {\n",
       "        vertical-align: top;\n",
       "    }\n",
       "\n",
       "    .dataframe thead th {\n",
       "        text-align: right;\n",
       "    }\n",
       "</style>\n",
       "<table border=\"1\" class=\"dataframe\">\n",
       "  <thead>\n",
       "    <tr style=\"text-align: right;\">\n",
       "      <th></th>\n",
       "      <th>index</th>\n",
       "      <th>friend_since</th>\n",
       "      <th>steamid</th>\n",
       "      <th>steamid_orig</th>\n",
       "    </tr>\n",
       "  </thead>\n",
       "  <tbody>\n",
       "    <tr>\n",
       "      <th>0</th>\n",
       "      <td>5616116</td>\n",
       "      <td>1347313517</td>\n",
       "      <td>76561197974593417</td>\n",
       "      <td>76561197960265730</td>\n",
       "    </tr>\n",
       "    <tr>\n",
       "      <th>1</th>\n",
       "      <td>5119192</td>\n",
       "      <td>0</td>\n",
       "      <td>76561197960265733</td>\n",
       "      <td>76561197960265731</td>\n",
       "    </tr>\n",
       "    <tr>\n",
       "      <th>2</th>\n",
       "      <td>6366204</td>\n",
       "      <td>0</td>\n",
       "      <td>76561197960265731</td>\n",
       "      <td>76561197960265733</td>\n",
       "    </tr>\n",
       "    <tr>\n",
       "      <th>3</th>\n",
       "      <td>5043142</td>\n",
       "      <td>0</td>\n",
       "      <td>76561197960265731</td>\n",
       "      <td>76561197960265738</td>\n",
       "    </tr>\n",
       "    <tr>\n",
       "      <th>4</th>\n",
       "      <td>5038844</td>\n",
       "      <td>0</td>\n",
       "      <td>76561197960265737</td>\n",
       "      <td>76561197960265743</td>\n",
       "    </tr>\n",
       "  </tbody>\n",
       "</table>\n",
       "</div>"
      ],
      "text/plain": [
       "     index  friend_since            steamid       steamid_orig\n",
       "0  5616116    1347313517  76561197974593417  76561197960265730\n",
       "1  5119192             0  76561197960265733  76561197960265731\n",
       "2  6366204             0  76561197960265731  76561197960265733\n",
       "3  5043142             0  76561197960265731  76561197960265738\n",
       "4  5038844             0  76561197960265737  76561197960265743"
      ]
     },
     "execution_count": 42,
     "metadata": {},
     "output_type": "execute_result"
    }
   ],
   "source": [
    "df_min.head()"
   ]
  },
  {
   "cell_type": "code",
   "execution_count": 43,
   "metadata": {},
   "outputs": [
    {
     "data": {
      "text/html": [
       "<div>\n",
       "<style scoped>\n",
       "    .dataframe tbody tr th:only-of-type {\n",
       "        vertical-align: middle;\n",
       "    }\n",
       "\n",
       "    .dataframe tbody tr th {\n",
       "        vertical-align: top;\n",
       "    }\n",
       "\n",
       "    .dataframe thead th {\n",
       "        text-align: right;\n",
       "    }\n",
       "</style>\n",
       "<table border=\"1\" class=\"dataframe\">\n",
       "  <thead>\n",
       "    <tr style=\"text-align: right;\">\n",
       "      <th></th>\n",
       "      <th>index</th>\n",
       "      <th>friend_since</th>\n",
       "      <th>steamid</th>\n",
       "      <th>steamid_orig</th>\n",
       "    </tr>\n",
       "  </thead>\n",
       "  <tbody>\n",
       "    <tr>\n",
       "      <th>766</th>\n",
       "      <td>5035800</td>\n",
       "      <td>0</td>\n",
       "      <td>76561197960408176</td>\n",
       "      <td>76561197960434622</td>\n",
       "    </tr>\n",
       "  </tbody>\n",
       "</table>\n",
       "</div>"
      ],
      "text/plain": [
       "       index  friend_since            steamid       steamid_orig\n",
       "766  5035800             0  76561197960408176  76561197960434622"
      ]
     },
     "execution_count": 43,
     "metadata": {},
     "output_type": "execute_result"
    }
   ],
   "source": [
    "df_min[df_min['steamid_orig'] == 76561197960434622]"
   ]
  },
  {
   "cell_type": "code",
   "execution_count": 44,
   "metadata": {},
   "outputs": [],
   "source": [
    "df_min['oldest_friend_time'] = df_min['friend_since']"
   ]
  },
  {
   "cell_type": "code",
   "execution_count": 45,
   "metadata": {},
   "outputs": [],
   "source": [
    "df_min['oldest_friend_steamid'] = df_min['steamid']"
   ]
  },
  {
   "cell_type": "code",
   "execution_count": 46,
   "metadata": {
    "scrolled": true
   },
   "outputs": [
    {
     "data": {
      "text/html": [
       "<div>\n",
       "<style scoped>\n",
       "    .dataframe tbody tr th:only-of-type {\n",
       "        vertical-align: middle;\n",
       "    }\n",
       "\n",
       "    .dataframe tbody tr th {\n",
       "        vertical-align: top;\n",
       "    }\n",
       "\n",
       "    .dataframe thead th {\n",
       "        text-align: right;\n",
       "    }\n",
       "</style>\n",
       "<table border=\"1\" class=\"dataframe\">\n",
       "  <thead>\n",
       "    <tr style=\"text-align: right;\">\n",
       "      <th></th>\n",
       "      <th>steamid_orig</th>\n",
       "      <th>oldest_friend_time</th>\n",
       "      <th>oldest_friend_steamid</th>\n",
       "    </tr>\n",
       "  </thead>\n",
       "  <tbody>\n",
       "    <tr>\n",
       "      <th>0</th>\n",
       "      <td>76561197960265730</td>\n",
       "      <td>1347313517</td>\n",
       "      <td>76561197974593417</td>\n",
       "    </tr>\n",
       "    <tr>\n",
       "      <th>1</th>\n",
       "      <td>76561197960265731</td>\n",
       "      <td>0</td>\n",
       "      <td>76561197960265733</td>\n",
       "    </tr>\n",
       "    <tr>\n",
       "      <th>2</th>\n",
       "      <td>76561197960265733</td>\n",
       "      <td>0</td>\n",
       "      <td>76561197960265731</td>\n",
       "    </tr>\n",
       "    <tr>\n",
       "      <th>3</th>\n",
       "      <td>76561197960265738</td>\n",
       "      <td>0</td>\n",
       "      <td>76561197960265731</td>\n",
       "    </tr>\n",
       "    <tr>\n",
       "      <th>4</th>\n",
       "      <td>76561197960265743</td>\n",
       "      <td>0</td>\n",
       "      <td>76561197960265737</td>\n",
       "    </tr>\n",
       "  </tbody>\n",
       "</table>\n",
       "</div>"
      ],
      "text/plain": [
       "        steamid_orig  oldest_friend_time oldest_friend_steamid\n",
       "0  76561197960265730          1347313517     76561197974593417\n",
       "1  76561197960265731                   0     76561197960265733\n",
       "2  76561197960265733                   0     76561197960265731\n",
       "3  76561197960265738                   0     76561197960265731\n",
       "4  76561197960265743                   0     76561197960265737"
      ]
     },
     "execution_count": 46,
     "metadata": {},
     "output_type": "execute_result"
    }
   ],
   "source": [
    "df_min = df_min.drop(['index','friend_since','steamid'],axis='columns')\n",
    "df_min.head()"
   ]
  },
  {
   "cell_type": "code",
   "execution_count": 47,
   "metadata": {},
   "outputs": [
    {
     "name": "stdout",
     "output_type": "stream",
     "text": [
      "<class 'pandas.core.frame.DataFrame'>\n",
      "RangeIndex: 170877 entries, 0 to 170876\n",
      "Data columns (total 3 columns):\n",
      "oldest_friend_time       170877 non-null int64\n",
      "oldest_friend_steamid    170877 non-null object\n",
      "steamid                  170877 non-null int64\n",
      "dtypes: int64(2), object(1)\n",
      "memory usage: 3.9+ MB\n"
     ]
    },
    {
     "data": {
      "text/plain": [
       "oldest_friend_time       146337\n",
       "oldest_friend_steamid    156450\n",
       "steamid                  170877\n",
       "dtype: int64"
      ]
     },
     "execution_count": 47,
     "metadata": {},
     "output_type": "execute_result"
    }
   ],
   "source": [
    "df_min['steamid'] = df_min['steamid_orig']\n",
    "df_min = df_min.drop('steamid_orig',axis='columns')\n",
    "df_min.head()\n",
    "\n",
    "df_min.info()\n",
    "\n",
    "df_min.nunique()"
   ]
  },
  {
   "cell_type": "code",
   "execution_count": 48,
   "metadata": {},
   "outputs": [
    {
     "data": {
      "text/html": [
       "<div>\n",
       "<style scoped>\n",
       "    .dataframe tbody tr th:only-of-type {\n",
       "        vertical-align: middle;\n",
       "    }\n",
       "\n",
       "    .dataframe tbody tr th {\n",
       "        vertical-align: top;\n",
       "    }\n",
       "\n",
       "    .dataframe thead th {\n",
       "        text-align: right;\n",
       "    }\n",
       "</style>\n",
       "<table border=\"1\" class=\"dataframe\">\n",
       "  <thead>\n",
       "    <tr style=\"text-align: right;\">\n",
       "      <th></th>\n",
       "      <th>newest_friend_time</th>\n",
       "      <th>newest_friend_steamid</th>\n",
       "      <th>steamid</th>\n",
       "    </tr>\n",
       "  </thead>\n",
       "  <tbody>\n",
       "    <tr>\n",
       "      <th>0</th>\n",
       "      <td>1455906659</td>\n",
       "      <td>76561198018064800</td>\n",
       "      <td>76561197960265730</td>\n",
       "    </tr>\n",
       "    <tr>\n",
       "      <th>1</th>\n",
       "      <td>1534046531</td>\n",
       "      <td>76561198105633837</td>\n",
       "      <td>76561197960265731</td>\n",
       "    </tr>\n",
       "    <tr>\n",
       "      <th>2</th>\n",
       "      <td>1498068231</td>\n",
       "      <td>76561197972491988</td>\n",
       "      <td>76561197960265733</td>\n",
       "    </tr>\n",
       "    <tr>\n",
       "      <th>3</th>\n",
       "      <td>1548739620</td>\n",
       "      <td>76561198262909170</td>\n",
       "      <td>76561197960265738</td>\n",
       "    </tr>\n",
       "    <tr>\n",
       "      <th>4</th>\n",
       "      <td>1534367618</td>\n",
       "      <td>76561198348711414</td>\n",
       "      <td>76561197960265743</td>\n",
       "    </tr>\n",
       "  </tbody>\n",
       "</table>\n",
       "</div>"
      ],
      "text/plain": [
       "   newest_friend_time newest_friend_steamid            steamid\n",
       "0          1455906659     76561198018064800  76561197960265730\n",
       "1          1534046531     76561198105633837  76561197960265731\n",
       "2          1498068231     76561197972491988  76561197960265733\n",
       "3          1548739620     76561198262909170  76561197960265738\n",
       "4          1534367618     76561198348711414  76561197960265743"
      ]
     },
     "execution_count": 48,
     "metadata": {},
     "output_type": "execute_result"
    }
   ],
   "source": [
    "df_max.head()"
   ]
  },
  {
   "cell_type": "code",
   "execution_count": 49,
   "metadata": {},
   "outputs": [
    {
     "data": {
      "text/html": [
       "<div>\n",
       "<style scoped>\n",
       "    .dataframe tbody tr th:only-of-type {\n",
       "        vertical-align: middle;\n",
       "    }\n",
       "\n",
       "    .dataframe tbody tr th {\n",
       "        vertical-align: top;\n",
       "    }\n",
       "\n",
       "    .dataframe thead th {\n",
       "        text-align: right;\n",
       "    }\n",
       "</style>\n",
       "<table border=\"1\" class=\"dataframe\">\n",
       "  <thead>\n",
       "    <tr style=\"text-align: right;\">\n",
       "      <th></th>\n",
       "      <th>oldest_friend_time</th>\n",
       "      <th>oldest_friend_steamid</th>\n",
       "      <th>steamid</th>\n",
       "    </tr>\n",
       "  </thead>\n",
       "  <tbody>\n",
       "    <tr>\n",
       "      <th>0</th>\n",
       "      <td>1347313517</td>\n",
       "      <td>76561197974593417</td>\n",
       "      <td>76561197960265730</td>\n",
       "    </tr>\n",
       "    <tr>\n",
       "      <th>1</th>\n",
       "      <td>0</td>\n",
       "      <td>76561197960265733</td>\n",
       "      <td>76561197960265731</td>\n",
       "    </tr>\n",
       "    <tr>\n",
       "      <th>2</th>\n",
       "      <td>0</td>\n",
       "      <td>76561197960265731</td>\n",
       "      <td>76561197960265733</td>\n",
       "    </tr>\n",
       "    <tr>\n",
       "      <th>3</th>\n",
       "      <td>0</td>\n",
       "      <td>76561197960265731</td>\n",
       "      <td>76561197960265738</td>\n",
       "    </tr>\n",
       "    <tr>\n",
       "      <th>4</th>\n",
       "      <td>0</td>\n",
       "      <td>76561197960265737</td>\n",
       "      <td>76561197960265743</td>\n",
       "    </tr>\n",
       "  </tbody>\n",
       "</table>\n",
       "</div>"
      ],
      "text/plain": [
       "   oldest_friend_time oldest_friend_steamid            steamid\n",
       "0          1347313517     76561197974593417  76561197960265730\n",
       "1                   0     76561197960265733  76561197960265731\n",
       "2                   0     76561197960265731  76561197960265733\n",
       "3                   0     76561197960265731  76561197960265738\n",
       "4                   0     76561197960265737  76561197960265743"
      ]
     },
     "execution_count": 49,
     "metadata": {},
     "output_type": "execute_result"
    }
   ],
   "source": [
    "df_min.head()"
   ]
  },
  {
   "cell_type": "code",
   "execution_count": 50,
   "metadata": {},
   "outputs": [],
   "source": [
    "df_friend_extremes = df_max.merge(df_min,on=['steamid'],suffixes=('_max', '_min'))"
   ]
  },
  {
   "cell_type": "code",
   "execution_count": 52,
   "metadata": {},
   "outputs": [],
   "source": [
    "#df_friend_extremes[df_friend_extremes['Root_max'] != df_friend_extremes['Root_min']]"
   ]
  },
  {
   "cell_type": "code",
   "execution_count": 53,
   "metadata": {},
   "outputs": [],
   "source": [
    "#df_friend_extremes[df_friend_extremes['First_tier_max'] != df_friend_extremes['First_tier_min']]"
   ]
  },
  {
   "cell_type": "code",
   "execution_count": 54,
   "metadata": {},
   "outputs": [],
   "source": [
    "#df_friend_extremes[df_friend_extremes['Second_tier_max'] != df_friend_extremes['Second_tier_min']]"
   ]
  },
  {
   "cell_type": "code",
   "execution_count": 55,
   "metadata": {},
   "outputs": [
    {
     "data": {
      "text/html": [
       "<div>\n",
       "<style scoped>\n",
       "    .dataframe tbody tr th:only-of-type {\n",
       "        vertical-align: middle;\n",
       "    }\n",
       "\n",
       "    .dataframe tbody tr th {\n",
       "        vertical-align: top;\n",
       "    }\n",
       "\n",
       "    .dataframe thead th {\n",
       "        text-align: right;\n",
       "    }\n",
       "</style>\n",
       "<table border=\"1\" class=\"dataframe\">\n",
       "  <thead>\n",
       "    <tr style=\"text-align: right;\">\n",
       "      <th></th>\n",
       "      <th>newest_friend_time</th>\n",
       "      <th>newest_friend_steamid</th>\n",
       "      <th>steamid</th>\n",
       "      <th>oldest_friend_time</th>\n",
       "      <th>oldest_friend_steamid</th>\n",
       "    </tr>\n",
       "  </thead>\n",
       "  <tbody>\n",
       "    <tr>\n",
       "      <th>0</th>\n",
       "      <td>1455906659</td>\n",
       "      <td>76561198018064800</td>\n",
       "      <td>76561197960265730</td>\n",
       "      <td>1347313517</td>\n",
       "      <td>76561197974593417</td>\n",
       "    </tr>\n",
       "    <tr>\n",
       "      <th>1</th>\n",
       "      <td>1534046531</td>\n",
       "      <td>76561198105633837</td>\n",
       "      <td>76561197960265731</td>\n",
       "      <td>0</td>\n",
       "      <td>76561197960265733</td>\n",
       "    </tr>\n",
       "    <tr>\n",
       "      <th>2</th>\n",
       "      <td>1498068231</td>\n",
       "      <td>76561197972491988</td>\n",
       "      <td>76561197960265733</td>\n",
       "      <td>0</td>\n",
       "      <td>76561197960265731</td>\n",
       "    </tr>\n",
       "    <tr>\n",
       "      <th>3</th>\n",
       "      <td>1548739620</td>\n",
       "      <td>76561198262909170</td>\n",
       "      <td>76561197960265738</td>\n",
       "      <td>0</td>\n",
       "      <td>76561197960265731</td>\n",
       "    </tr>\n",
       "    <tr>\n",
       "      <th>4</th>\n",
       "      <td>1534367618</td>\n",
       "      <td>76561198348711414</td>\n",
       "      <td>76561197960265743</td>\n",
       "      <td>0</td>\n",
       "      <td>76561197960265737</td>\n",
       "    </tr>\n",
       "  </tbody>\n",
       "</table>\n",
       "</div>"
      ],
      "text/plain": [
       "   newest_friend_time newest_friend_steamid            steamid  \\\n",
       "0          1455906659     76561198018064800  76561197960265730   \n",
       "1          1534046531     76561198105633837  76561197960265731   \n",
       "2          1498068231     76561197972491988  76561197960265733   \n",
       "3          1548739620     76561198262909170  76561197960265738   \n",
       "4          1534367618     76561198348711414  76561197960265743   \n",
       "\n",
       "   oldest_friend_time oldest_friend_steamid  \n",
       "0          1347313517     76561197974593417  \n",
       "1                   0     76561197960265733  \n",
       "2                   0     76561197960265731  \n",
       "3                   0     76561197960265731  \n",
       "4                   0     76561197960265737  "
      ]
     },
     "execution_count": 55,
     "metadata": {},
     "output_type": "execute_result"
    }
   ],
   "source": [
    "df_friend_extremes.head()"
   ]
  },
  {
   "cell_type": "code",
   "execution_count": 56,
   "metadata": {},
   "outputs": [],
   "source": [
    "#df_friend_extremes['Root'] = df_friend_extremes['Root_max']\n",
    "#df_friend_extremes['First_tier'] = df_friend_extremes['First_tier_max']\n",
    "#df_friend_extremes['Second_tier'] = df_friend_extremes['Second_tier_max']\n",
    "#df_friend_extremes['Third_tier'] = df_friend_extremes['Third_tier_max']\n",
    "#df_friend_extremes = df_friend_extremes.drop(['Root_max','Root_min','First_tier_max','First_tier_min','Second_tier_max','Second_tier_min','Third_tier_max','Third_tier_min'],axis='columns')"
   ]
  },
  {
   "cell_type": "code",
   "execution_count": 57,
   "metadata": {},
   "outputs": [
    {
     "data": {
      "text/html": [
       "<div>\n",
       "<style scoped>\n",
       "    .dataframe tbody tr th:only-of-type {\n",
       "        vertical-align: middle;\n",
       "    }\n",
       "\n",
       "    .dataframe tbody tr th {\n",
       "        vertical-align: top;\n",
       "    }\n",
       "\n",
       "    .dataframe thead th {\n",
       "        text-align: right;\n",
       "    }\n",
       "</style>\n",
       "<table border=\"1\" class=\"dataframe\">\n",
       "  <thead>\n",
       "    <tr style=\"text-align: right;\">\n",
       "      <th></th>\n",
       "      <th>newest_friend_time</th>\n",
       "      <th>newest_friend_steamid</th>\n",
       "      <th>steamid</th>\n",
       "      <th>oldest_friend_time</th>\n",
       "      <th>oldest_friend_steamid</th>\n",
       "    </tr>\n",
       "  </thead>\n",
       "  <tbody>\n",
       "    <tr>\n",
       "      <th>0</th>\n",
       "      <td>1455906659</td>\n",
       "      <td>76561198018064800</td>\n",
       "      <td>76561197960265730</td>\n",
       "      <td>1347313517</td>\n",
       "      <td>76561197974593417</td>\n",
       "    </tr>\n",
       "    <tr>\n",
       "      <th>1</th>\n",
       "      <td>1534046531</td>\n",
       "      <td>76561198105633837</td>\n",
       "      <td>76561197960265731</td>\n",
       "      <td>0</td>\n",
       "      <td>76561197960265733</td>\n",
       "    </tr>\n",
       "    <tr>\n",
       "      <th>2</th>\n",
       "      <td>1498068231</td>\n",
       "      <td>76561197972491988</td>\n",
       "      <td>76561197960265733</td>\n",
       "      <td>0</td>\n",
       "      <td>76561197960265731</td>\n",
       "    </tr>\n",
       "    <tr>\n",
       "      <th>3</th>\n",
       "      <td>1548739620</td>\n",
       "      <td>76561198262909170</td>\n",
       "      <td>76561197960265738</td>\n",
       "      <td>0</td>\n",
       "      <td>76561197960265731</td>\n",
       "    </tr>\n",
       "    <tr>\n",
       "      <th>4</th>\n",
       "      <td>1534367618</td>\n",
       "      <td>76561198348711414</td>\n",
       "      <td>76561197960265743</td>\n",
       "      <td>0</td>\n",
       "      <td>76561197960265737</td>\n",
       "    </tr>\n",
       "  </tbody>\n",
       "</table>\n",
       "</div>"
      ],
      "text/plain": [
       "   newest_friend_time newest_friend_steamid            steamid  \\\n",
       "0          1455906659     76561198018064800  76561197960265730   \n",
       "1          1534046531     76561198105633837  76561197960265731   \n",
       "2          1498068231     76561197972491988  76561197960265733   \n",
       "3          1548739620     76561198262909170  76561197960265738   \n",
       "4          1534367618     76561198348711414  76561197960265743   \n",
       "\n",
       "   oldest_friend_time oldest_friend_steamid  \n",
       "0          1347313517     76561197974593417  \n",
       "1                   0     76561197960265733  \n",
       "2                   0     76561197960265731  \n",
       "3                   0     76561197960265731  \n",
       "4                   0     76561197960265737  "
      ]
     },
     "execution_count": 57,
     "metadata": {},
     "output_type": "execute_result"
    }
   ],
   "source": [
    "df_friend_extremes.head()"
   ]
  },
  {
   "cell_type": "code",
   "execution_count": 58,
   "metadata": {},
   "outputs": [
    {
     "data": {
      "text/html": [
       "<div>\n",
       "<style scoped>\n",
       "    .dataframe tbody tr th:only-of-type {\n",
       "        vertical-align: middle;\n",
       "    }\n",
       "\n",
       "    .dataframe tbody tr th {\n",
       "        vertical-align: top;\n",
       "    }\n",
       "\n",
       "    .dataframe thead th {\n",
       "        text-align: right;\n",
       "    }\n",
       "</style>\n",
       "<table border=\"1\" class=\"dataframe\">\n",
       "  <thead>\n",
       "    <tr style=\"text-align: right;\">\n",
       "      <th></th>\n",
       "      <th>num_Friends</th>\n",
       "      <th>steamid</th>\n",
       "    </tr>\n",
       "  </thead>\n",
       "  <tbody>\n",
       "    <tr>\n",
       "      <th>0</th>\n",
       "      <td>9</td>\n",
       "      <td>76561197960265730</td>\n",
       "    </tr>\n",
       "    <tr>\n",
       "      <th>1</th>\n",
       "      <td>174</td>\n",
       "      <td>76561197960265731</td>\n",
       "    </tr>\n",
       "    <tr>\n",
       "      <th>2</th>\n",
       "      <td>70</td>\n",
       "      <td>76561197960265733</td>\n",
       "    </tr>\n",
       "    <tr>\n",
       "      <th>3</th>\n",
       "      <td>91</td>\n",
       "      <td>76561197960265738</td>\n",
       "    </tr>\n",
       "    <tr>\n",
       "      <th>4</th>\n",
       "      <td>66</td>\n",
       "      <td>76561197960265743</td>\n",
       "    </tr>\n",
       "  </tbody>\n",
       "</table>\n",
       "</div>"
      ],
      "text/plain": [
       "   num_Friends            steamid\n",
       "0            9  76561197960265730\n",
       "1          174  76561197960265731\n",
       "2           70  76561197960265733\n",
       "3           91  76561197960265738\n",
       "4           66  76561197960265743"
      ]
     },
     "execution_count": 58,
     "metadata": {},
     "output_type": "execute_result"
    }
   ],
   "source": [
    "df_num_Friends.head()"
   ]
  },
  {
   "cell_type": "code",
   "execution_count": 59,
   "metadata": {},
   "outputs": [
    {
     "name": "stdout",
     "output_type": "stream",
     "text": [
      "<class 'pandas.core.frame.DataFrame'>\n",
      "Int64Index: 170877 entries, 0 to 170876\n",
      "Data columns (total 5 columns):\n",
      "newest_friend_time       170877 non-null int64\n",
      "newest_friend_steamid    170877 non-null object\n",
      "steamid                  170877 non-null int64\n",
      "oldest_friend_time       170877 non-null int64\n",
      "oldest_friend_steamid    170877 non-null object\n",
      "dtypes: int64(3), object(2)\n",
      "memory usage: 7.8+ MB\n"
     ]
    }
   ],
   "source": [
    "df_friend_extremes.info()"
   ]
  },
  {
   "cell_type": "code",
   "execution_count": 60,
   "metadata": {},
   "outputs": [
    {
     "name": "stdout",
     "output_type": "stream",
     "text": [
      "<class 'pandas.core.frame.DataFrame'>\n",
      "RangeIndex: 170877 entries, 0 to 170876\n",
      "Data columns (total 2 columns):\n",
      "num_Friends    170877 non-null int64\n",
      "steamid        170877 non-null int64\n",
      "dtypes: int64(2)\n",
      "memory usage: 2.6 MB\n"
     ]
    }
   ],
   "source": [
    "df_num_Friends.info()"
   ]
  },
  {
   "cell_type": "code",
   "execution_count": 61,
   "metadata": {},
   "outputs": [],
   "source": [
    "df_friend_summary = df_num_Friends.merge(df_friend_extremes,on='steamid')"
   ]
  },
  {
   "cell_type": "code",
   "execution_count": 62,
   "metadata": {},
   "outputs": [
    {
     "name": "stdout",
     "output_type": "stream",
     "text": [
      "<class 'pandas.core.frame.DataFrame'>\n",
      "Int64Index: 170877 entries, 0 to 170876\n",
      "Data columns (total 6 columns):\n",
      "num_Friends              170877 non-null int64\n",
      "steamid                  170877 non-null int64\n",
      "newest_friend_time       170877 non-null int64\n",
      "newest_friend_steamid    170877 non-null object\n",
      "oldest_friend_time       170877 non-null int64\n",
      "oldest_friend_steamid    170877 non-null object\n",
      "dtypes: int64(4), object(2)\n",
      "memory usage: 9.1+ MB\n"
     ]
    }
   ],
   "source": [
    "df_friend_summary.info()"
   ]
  },
  {
   "cell_type": "code",
   "execution_count": 63,
   "metadata": {},
   "outputs": [
    {
     "data": {
      "text/html": [
       "<div>\n",
       "<style scoped>\n",
       "    .dataframe tbody tr th:only-of-type {\n",
       "        vertical-align: middle;\n",
       "    }\n",
       "\n",
       "    .dataframe tbody tr th {\n",
       "        vertical-align: top;\n",
       "    }\n",
       "\n",
       "    .dataframe thead th {\n",
       "        text-align: right;\n",
       "    }\n",
       "</style>\n",
       "<table border=\"1\" class=\"dataframe\">\n",
       "  <thead>\n",
       "    <tr style=\"text-align: right;\">\n",
       "      <th></th>\n",
       "      <th>num_Friends</th>\n",
       "      <th>steamid</th>\n",
       "      <th>newest_friend_time</th>\n",
       "      <th>newest_friend_steamid</th>\n",
       "      <th>oldest_friend_time</th>\n",
       "      <th>oldest_friend_steamid</th>\n",
       "    </tr>\n",
       "  </thead>\n",
       "  <tbody>\n",
       "    <tr>\n",
       "      <th>0</th>\n",
       "      <td>9</td>\n",
       "      <td>76561197960265730</td>\n",
       "      <td>1455906659</td>\n",
       "      <td>76561198018064800</td>\n",
       "      <td>1347313517</td>\n",
       "      <td>76561197974593417</td>\n",
       "    </tr>\n",
       "    <tr>\n",
       "      <th>1</th>\n",
       "      <td>174</td>\n",
       "      <td>76561197960265731</td>\n",
       "      <td>1534046531</td>\n",
       "      <td>76561198105633837</td>\n",
       "      <td>0</td>\n",
       "      <td>76561197960265733</td>\n",
       "    </tr>\n",
       "    <tr>\n",
       "      <th>2</th>\n",
       "      <td>70</td>\n",
       "      <td>76561197960265733</td>\n",
       "      <td>1498068231</td>\n",
       "      <td>76561197972491988</td>\n",
       "      <td>0</td>\n",
       "      <td>76561197960265731</td>\n",
       "    </tr>\n",
       "    <tr>\n",
       "      <th>3</th>\n",
       "      <td>91</td>\n",
       "      <td>76561197960265738</td>\n",
       "      <td>1548739620</td>\n",
       "      <td>76561198262909170</td>\n",
       "      <td>0</td>\n",
       "      <td>76561197960265731</td>\n",
       "    </tr>\n",
       "    <tr>\n",
       "      <th>4</th>\n",
       "      <td>66</td>\n",
       "      <td>76561197960265743</td>\n",
       "      <td>1534367618</td>\n",
       "      <td>76561198348711414</td>\n",
       "      <td>0</td>\n",
       "      <td>76561197960265737</td>\n",
       "    </tr>\n",
       "  </tbody>\n",
       "</table>\n",
       "</div>"
      ],
      "text/plain": [
       "   num_Friends            steamid  newest_friend_time newest_friend_steamid  \\\n",
       "0            9  76561197960265730          1455906659     76561198018064800   \n",
       "1          174  76561197960265731          1534046531     76561198105633837   \n",
       "2           70  76561197960265733          1498068231     76561197972491988   \n",
       "3           91  76561197960265738          1548739620     76561198262909170   \n",
       "4           66  76561197960265743          1534367618     76561198348711414   \n",
       "\n",
       "   oldest_friend_time oldest_friend_steamid  \n",
       "0          1347313517     76561197974593417  \n",
       "1                   0     76561197960265733  \n",
       "2                   0     76561197960265731  \n",
       "3                   0     76561197960265731  \n",
       "4                   0     76561197960265737  "
      ]
     },
     "execution_count": 63,
     "metadata": {},
     "output_type": "execute_result"
    }
   ],
   "source": [
    "df_friend_summary.head()"
   ]
  },
  {
   "cell_type": "code",
   "execution_count": 64,
   "metadata": {},
   "outputs": [
    {
     "data": {
      "text/plain": [
       "<matplotlib.axes._subplots.AxesSubplot at 0x11c070da0>"
      ]
     },
     "execution_count": 64,
     "metadata": {},
     "output_type": "execute_result"
    },
    {
     "data": {
      "image/png": "[encoded data removed]",
      "text/plain": [
       "<Figure size 432x288 with 1 Axes>"
      ]
     },
     "metadata": {
      "needs_background": "light"
     },
     "output_type": "display_data"
    }
   ],
   "source": [
    "sns.distplot(np.log(df_friend_summary['num_Friends']))"
   ]
  },
  {
   "cell_type": "code",
   "execution_count": 65,
   "metadata": {},
   "outputs": [
    {
     "data": {
      "text/plain": [
       "<matplotlib.axes._subplots.AxesSubplot at 0x11f54e2e8>"
      ]
     },
     "execution_count": 65,
     "metadata": {},
     "output_type": "execute_result"
    },
    {
     "data": {
      "image/png": "[encoded data removed]",
      "text/plain": [
       "<Figure size 432x288 with 1 Axes>"
      ]
     },
     "metadata": {
      "needs_background": "light"
     },
     "output_type": "display_data"
    }
   ],
   "source": [
    "sns.heatmap(df.isnull(), cbar=False)"
   ]
  },
  {
   "cell_type": "code",
   "execution_count": 66,
   "metadata": {},
   "outputs": [
    {
     "data": {
      "image/png": "[encoded data removed]",
      "text/plain": [
       "<Figure size 432x288 with 1 Axes>"
      ]
     },
     "metadata": {
      "needs_background": "light"
     },
     "output_type": "display_data"
    }
   ],
   "source": [
    "import datetime\n",
    "# plot it\n",
    "fig, ax = plt.subplots(1,1)\n",
    "ax.hist(df_friend_summary[df_friend_summary['newest_friend_time'] > 1]['newest_friend_time'], bins=500, color='lightblue')\n",
    "ax.xaxis.set_major_locator(mdates.YearLocator())\n",
    "ax.xaxis.set_major_formatter(mdates.DateFormatter('%d.%m.%y'))\n",
    "plt.show()"
   ]
  },
  {
   "cell_type": "code",
   "execution_count": 67,
   "metadata": {},
   "outputs": [
    {
     "data": {
      "image/png": "[encoded data removed]",
      "text/plain": [
       "<Figure size 432x288 with 1 Axes>"
      ]
     },
     "metadata": {
      "needs_background": "light"
     },
     "output_type": "display_data"
    }
   ],
   "source": [
    "fig, ax = plt.subplots(1,1)\n",
    "ax.hist(df_friend_summary[df_friend_summary['oldest_friend_time'] > 1]['oldest_friend_time'], bins=500, color='lightblue')\n",
    "ax.xaxis.set_major_locator(mdates.YearLocator())\n",
    "ax.xaxis.set_major_formatter(mdates.DateFormatter('%d.%m.%y'))\n",
    "plt.show()"
   ]
  },
  {
   "cell_type": "code",
   "execution_count": 68,
   "metadata": {},
   "outputs": [],
   "source": [
    "df_friend_summary.to_csv('200k_friend_summary.csv')"
   ]
  },
  {
   "cell_type": "code",
   "execution_count": 69,
   "metadata": {},
   "outputs": [
    {
     "data": {
      "text/plain": [
       "1552494760"
      ]
     },
     "execution_count": 69,
     "metadata": {},
     "output_type": "execute_result"
    }
   ],
   "source": [
    "df_friend_summary['newest_friend_time'].max()"
   ]
  },
  {
   "cell_type": "code",
   "execution_count": 70,
   "metadata": {},
   "outputs": [
    {
     "data": {
      "text/plain": [
       "Timestamp('2019-03-13 16:28:09')"
      ]
     },
     "execution_count": 70,
     "metadata": {},
     "output_type": "execute_result"
    }
   ],
   "source": [
    "pd.to_datetime(1552494489,unit='s')"
   ]
  },
  {
   "cell_type": "code",
   "execution_count": 71,
   "metadata": {},
   "outputs": [
    {
     "data": {
      "text/html": [
       "<div>\n",
       "<style scoped>\n",
       "    .dataframe tbody tr th:only-of-type {\n",
       "        vertical-align: middle;\n",
       "    }\n",
       "\n",
       "    .dataframe tbody tr th {\n",
       "        vertical-align: top;\n",
       "    }\n",
       "\n",
       "    .dataframe thead th {\n",
       "        text-align: right;\n",
       "    }\n",
       "</style>\n",
       "<table border=\"1\" class=\"dataframe\">\n",
       "  <thead>\n",
       "    <tr style=\"text-align: right;\">\n",
       "      <th></th>\n",
       "      <th>friend_since</th>\n",
       "      <th>steamid</th>\n",
       "      <th>steamid_orig</th>\n",
       "    </tr>\n",
       "  </thead>\n",
       "  <tbody>\n",
       "    <tr>\n",
       "      <th>2869</th>\n",
       "      <td>0</td>\n",
       "      <td>76561197981915762</td>\n",
       "      <td>76561197987188830</td>\n",
       "    </tr>\n",
       "    <tr>\n",
       "      <th>2874</th>\n",
       "      <td>0</td>\n",
       "      <td>76561197987525841</td>\n",
       "      <td>76561197987188830</td>\n",
       "    </tr>\n",
       "    <tr>\n",
       "      <th>3353</th>\n",
       "      <td>0</td>\n",
       "      <td>76561197971285546</td>\n",
       "      <td>76561197967904406</td>\n",
       "    </tr>\n",
       "    <tr>\n",
       "      <th>3356</th>\n",
       "      <td>0</td>\n",
       "      <td>76561197978723895</td>\n",
       "      <td>76561197967904406</td>\n",
       "    </tr>\n",
       "    <tr>\n",
       "      <th>3357</th>\n",
       "      <td>0</td>\n",
       "      <td>76561197978740509</td>\n",
       "      <td>76561197967904406</td>\n",
       "    </tr>\n",
       "    <tr>\n",
       "      <th>3360</th>\n",
       "      <td>0</td>\n",
       "      <td>76561197988450771</td>\n",
       "      <td>76561197967904406</td>\n",
       "    </tr>\n",
       "    <tr>\n",
       "      <th>4798</th>\n",
       "      <td>0</td>\n",
       "      <td>76561197972431700</td>\n",
       "      <td>76561197970772289</td>\n",
       "    </tr>\n",
       "    <tr>\n",
       "      <th>8199</th>\n",
       "      <td>0</td>\n",
       "      <td>76561197960432748</td>\n",
       "      <td>76561197979836566</td>\n",
       "    </tr>\n",
       "    <tr>\n",
       "      <th>8200</th>\n",
       "      <td>0</td>\n",
       "      <td>76561197960569236</td>\n",
       "      <td>76561197979836566</td>\n",
       "    </tr>\n",
       "    <tr>\n",
       "      <th>8202</th>\n",
       "      <td>0</td>\n",
       "      <td>76561197970819330</td>\n",
       "      <td>76561197979836566</td>\n",
       "    </tr>\n",
       "    <tr>\n",
       "      <th>8203</th>\n",
       "      <td>0</td>\n",
       "      <td>76561197972698151</td>\n",
       "      <td>76561197979836566</td>\n",
       "    </tr>\n",
       "    <tr>\n",
       "      <th>8205</th>\n",
       "      <td>0</td>\n",
       "      <td>76561197976349786</td>\n",
       "      <td>76561197979836566</td>\n",
       "    </tr>\n",
       "    <tr>\n",
       "      <th>8208</th>\n",
       "      <td>0</td>\n",
       "      <td>76561197985048141</td>\n",
       "      <td>76561197979836566</td>\n",
       "    </tr>\n",
       "    <tr>\n",
       "      <th>8209</th>\n",
       "      <td>0</td>\n",
       "      <td>76561197986384289</td>\n",
       "      <td>76561197979836566</td>\n",
       "    </tr>\n",
       "    <tr>\n",
       "      <th>8211</th>\n",
       "      <td>0</td>\n",
       "      <td>76561197988476478</td>\n",
       "      <td>76561197979836566</td>\n",
       "    </tr>\n",
       "    <tr>\n",
       "      <th>8212</th>\n",
       "      <td>0</td>\n",
       "      <td>76561197991329914</td>\n",
       "      <td>76561197979836566</td>\n",
       "    </tr>\n",
       "    <tr>\n",
       "      <th>8213</th>\n",
       "      <td>0</td>\n",
       "      <td>76561197992265138</td>\n",
       "      <td>76561197979836566</td>\n",
       "    </tr>\n",
       "    <tr>\n",
       "      <th>8217</th>\n",
       "      <td>0</td>\n",
       "      <td>76561198002809275</td>\n",
       "      <td>76561197979836566</td>\n",
       "    </tr>\n",
       "    <tr>\n",
       "      <th>8599</th>\n",
       "      <td>0</td>\n",
       "      <td>76561197987300375</td>\n",
       "      <td>76561197990202193</td>\n",
       "    </tr>\n",
       "    <tr>\n",
       "      <th>8634</th>\n",
       "      <td>0</td>\n",
       "      <td>76561197970947372</td>\n",
       "      <td>76561197998568083</td>\n",
       "    </tr>\n",
       "    <tr>\n",
       "      <th>8638</th>\n",
       "      <td>0</td>\n",
       "      <td>76561197978431268</td>\n",
       "      <td>76561197998568083</td>\n",
       "    </tr>\n",
       "    <tr>\n",
       "      <th>8641</th>\n",
       "      <td>0</td>\n",
       "      <td>76561197985428317</td>\n",
       "      <td>76561197998568083</td>\n",
       "    </tr>\n",
       "    <tr>\n",
       "      <th>9531</th>\n",
       "      <td>0</td>\n",
       "      <td>76561197970858414</td>\n",
       "      <td>76561197989276529</td>\n",
       "    </tr>\n",
       "    <tr>\n",
       "      <th>9534</th>\n",
       "      <td>0</td>\n",
       "      <td>76561197973533061</td>\n",
       "      <td>76561197989276529</td>\n",
       "    </tr>\n",
       "    <tr>\n",
       "      <th>9536</th>\n",
       "      <td>0</td>\n",
       "      <td>76561197974796809</td>\n",
       "      <td>76561197989276529</td>\n",
       "    </tr>\n",
       "    <tr>\n",
       "      <th>9542</th>\n",
       "      <td>0</td>\n",
       "      <td>76561197980123082</td>\n",
       "      <td>76561197989276529</td>\n",
       "    </tr>\n",
       "    <tr>\n",
       "      <th>9547</th>\n",
       "      <td>0</td>\n",
       "      <td>76561197982185912</td>\n",
       "      <td>76561197989276529</td>\n",
       "    </tr>\n",
       "    <tr>\n",
       "      <th>9551</th>\n",
       "      <td>0</td>\n",
       "      <td>76561197986008490</td>\n",
       "      <td>76561197989276529</td>\n",
       "    </tr>\n",
       "    <tr>\n",
       "      <th>9555</th>\n",
       "      <td>0</td>\n",
       "      <td>76561197989585531</td>\n",
       "      <td>76561197989276529</td>\n",
       "    </tr>\n",
       "    <tr>\n",
       "      <th>9563</th>\n",
       "      <td>0</td>\n",
       "      <td>76561197996071547</td>\n",
       "      <td>76561197989276529</td>\n",
       "    </tr>\n",
       "    <tr>\n",
       "      <th>...</th>\n",
       "      <td>...</td>\n",
       "      <td>...</td>\n",
       "      <td>...</td>\n",
       "    </tr>\n",
       "    <tr>\n",
       "      <th>23948217</th>\n",
       "      <td>0</td>\n",
       "      <td>76561197990604093</td>\n",
       "      <td>76561197987670337</td>\n",
       "    </tr>\n",
       "    <tr>\n",
       "      <th>23948218</th>\n",
       "      <td>0</td>\n",
       "      <td>76561197990879362</td>\n",
       "      <td>76561197987670337</td>\n",
       "    </tr>\n",
       "    <tr>\n",
       "      <th>23948220</th>\n",
       "      <td>0</td>\n",
       "      <td>76561197991589136</td>\n",
       "      <td>76561197987670337</td>\n",
       "    </tr>\n",
       "    <tr>\n",
       "      <th>23948222</th>\n",
       "      <td>0</td>\n",
       "      <td>76561197992056768</td>\n",
       "      <td>76561197987670337</td>\n",
       "    </tr>\n",
       "    <tr>\n",
       "      <th>23948223</th>\n",
       "      <td>0</td>\n",
       "      <td>76561197992983173</td>\n",
       "      <td>76561197987670337</td>\n",
       "    </tr>\n",
       "    <tr>\n",
       "      <th>23948226</th>\n",
       "      <td>0</td>\n",
       "      <td>76561197993334278</td>\n",
       "      <td>76561197987670337</td>\n",
       "    </tr>\n",
       "    <tr>\n",
       "      <th>23948227</th>\n",
       "      <td>0</td>\n",
       "      <td>76561197993411256</td>\n",
       "      <td>76561197987670337</td>\n",
       "    </tr>\n",
       "    <tr>\n",
       "      <th>23948233</th>\n",
       "      <td>0</td>\n",
       "      <td>76561197997174989</td>\n",
       "      <td>76561197987670337</td>\n",
       "    </tr>\n",
       "    <tr>\n",
       "      <th>23948235</th>\n",
       "      <td>0</td>\n",
       "      <td>76561197997467701</td>\n",
       "      <td>76561197987670337</td>\n",
       "    </tr>\n",
       "    <tr>\n",
       "      <th>23948236</th>\n",
       "      <td>0</td>\n",
       "      <td>76561197997505276</td>\n",
       "      <td>76561197987670337</td>\n",
       "    </tr>\n",
       "    <tr>\n",
       "      <th>23948237</th>\n",
       "      <td>0</td>\n",
       "      <td>76561197998220508</td>\n",
       "      <td>76561197987670337</td>\n",
       "    </tr>\n",
       "    <tr>\n",
       "      <th>23950255</th>\n",
       "      <td>0</td>\n",
       "      <td>76561197987087166</td>\n",
       "      <td>76561197995033829</td>\n",
       "    </tr>\n",
       "    <tr>\n",
       "      <th>23950259</th>\n",
       "      <td>0</td>\n",
       "      <td>76561197991142078</td>\n",
       "      <td>76561197995033829</td>\n",
       "    </tr>\n",
       "    <tr>\n",
       "      <th>23950261</th>\n",
       "      <td>0</td>\n",
       "      <td>76561197992646806</td>\n",
       "      <td>76561197995033829</td>\n",
       "    </tr>\n",
       "    <tr>\n",
       "      <th>23950263</th>\n",
       "      <td>0</td>\n",
       "      <td>76561197992941988</td>\n",
       "      <td>76561197995033829</td>\n",
       "    </tr>\n",
       "    <tr>\n",
       "      <th>23951283</th>\n",
       "      <td>0</td>\n",
       "      <td>76561197976369543</td>\n",
       "      <td>76561197995537038</td>\n",
       "    </tr>\n",
       "    <tr>\n",
       "      <th>23951294</th>\n",
       "      <td>0</td>\n",
       "      <td>76561197995132555</td>\n",
       "      <td>76561197995537038</td>\n",
       "    </tr>\n",
       "    <tr>\n",
       "      <th>23951445</th>\n",
       "      <td>0</td>\n",
       "      <td>76561197982824104</td>\n",
       "      <td>76561197989460131</td>\n",
       "    </tr>\n",
       "    <tr>\n",
       "      <th>23951639</th>\n",
       "      <td>0</td>\n",
       "      <td>76561197998496110</td>\n",
       "      <td>76561198004874199</td>\n",
       "    </tr>\n",
       "    <tr>\n",
       "      <th>23955787</th>\n",
       "      <td>0</td>\n",
       "      <td>76561197963068262</td>\n",
       "      <td>76561197960389984</td>\n",
       "    </tr>\n",
       "    <tr>\n",
       "      <th>23955794</th>\n",
       "      <td>0</td>\n",
       "      <td>76561197970400377</td>\n",
       "      <td>76561197960389984</td>\n",
       "    </tr>\n",
       "    <tr>\n",
       "      <th>23955799</th>\n",
       "      <td>0</td>\n",
       "      <td>76561197970850808</td>\n",
       "      <td>76561197960389984</td>\n",
       "    </tr>\n",
       "    <tr>\n",
       "      <th>23955801</th>\n",
       "      <td>0</td>\n",
       "      <td>76561197971545748</td>\n",
       "      <td>76561197960389984</td>\n",
       "    </tr>\n",
       "    <tr>\n",
       "      <th>23955808</th>\n",
       "      <td>0</td>\n",
       "      <td>76561197978895277</td>\n",
       "      <td>76561197960389984</td>\n",
       "    </tr>\n",
       "    <tr>\n",
       "      <th>23955811</th>\n",
       "      <td>0</td>\n",
       "      <td>76561197986303926</td>\n",
       "      <td>76561197960389984</td>\n",
       "    </tr>\n",
       "    <tr>\n",
       "      <th>23955815</th>\n",
       "      <td>0</td>\n",
       "      <td>76561197991923596</td>\n",
       "      <td>76561197960389984</td>\n",
       "    </tr>\n",
       "    <tr>\n",
       "      <th>23955819</th>\n",
       "      <td>0</td>\n",
       "      <td>76561197999897894</td>\n",
       "      <td>76561197960389984</td>\n",
       "    </tr>\n",
       "    <tr>\n",
       "      <th>23955822</th>\n",
       "      <td>0</td>\n",
       "      <td>76561198003239208</td>\n",
       "      <td>76561197960389984</td>\n",
       "    </tr>\n",
       "    <tr>\n",
       "      <th>23956927</th>\n",
       "      <td>0</td>\n",
       "      <td>76561197974835821</td>\n",
       "      <td>76561197999017642</td>\n",
       "    </tr>\n",
       "    <tr>\n",
       "      <th>23956954</th>\n",
       "      <td>0</td>\n",
       "      <td>76561197991176836</td>\n",
       "      <td>76561197999017642</td>\n",
       "    </tr>\n",
       "  </tbody>\n",
       "</table>\n",
       "<p>384718 rows × 3 columns</p>\n",
       "</div>"
      ],
      "text/plain": [
       "          friend_since            steamid       steamid_orig\n",
       "2869                 0  76561197981915762  76561197987188830\n",
       "2874                 0  76561197987525841  76561197987188830\n",
       "3353                 0  76561197971285546  76561197967904406\n",
       "3356                 0  76561197978723895  76561197967904406\n",
       "3357                 0  76561197978740509  76561197967904406\n",
       "3360                 0  76561197988450771  76561197967904406\n",
       "4798                 0  76561197972431700  76561197970772289\n",
       "8199                 0  76561197960432748  76561197979836566\n",
       "8200                 0  76561197960569236  76561197979836566\n",
       "8202                 0  76561197970819330  76561197979836566\n",
       "8203                 0  76561197972698151  76561197979836566\n",
       "8205                 0  76561197976349786  76561197979836566\n",
       "8208                 0  76561197985048141  76561197979836566\n",
       "8209                 0  76561197986384289  76561197979836566\n",
       "8211                 0  76561197988476478  76561197979836566\n",
       "8212                 0  76561197991329914  76561197979836566\n",
       "8213                 0  76561197992265138  76561197979836566\n",
       "8217                 0  76561198002809275  76561197979836566\n",
       "8599                 0  76561197987300375  76561197990202193\n",
       "8634                 0  76561197970947372  76561197998568083\n",
       "8638                 0  76561197978431268  76561197998568083\n",
       "8641                 0  76561197985428317  76561197998568083\n",
       "9531                 0  76561197970858414  76561197989276529\n",
       "9534                 0  76561197973533061  76561197989276529\n",
       "9536                 0  76561197974796809  76561197989276529\n",
       "9542                 0  76561197980123082  76561197989276529\n",
       "9547                 0  76561197982185912  76561197989276529\n",
       "9551                 0  76561197986008490  76561197989276529\n",
       "9555                 0  76561197989585531  76561197989276529\n",
       "9563                 0  76561197996071547  76561197989276529\n",
       "...                ...                ...                ...\n",
       "23948217             0  76561197990604093  76561197987670337\n",
       "23948218             0  76561197990879362  76561197987670337\n",
       "23948220             0  76561197991589136  76561197987670337\n",
       "23948222             0  76561197992056768  76561197987670337\n",
       "23948223             0  76561197992983173  76561197987670337\n",
       "23948226             0  76561197993334278  76561197987670337\n",
       "23948227             0  76561197993411256  76561197987670337\n",
       "23948233             0  76561197997174989  76561197987670337\n",
       "23948235             0  76561197997467701  76561197987670337\n",
       "23948236             0  76561197997505276  76561197987670337\n",
       "23948237             0  76561197998220508  76561197987670337\n",
       "23950255             0  76561197987087166  76561197995033829\n",
       "23950259             0  76561197991142078  76561197995033829\n",
       "23950261             0  76561197992646806  76561197995033829\n",
       "23950263             0  76561197992941988  76561197995033829\n",
       "23951283             0  76561197976369543  76561197995537038\n",
       "23951294             0  76561197995132555  76561197995537038\n",
       "23951445             0  76561197982824104  76561197989460131\n",
       "23951639             0  76561197998496110  76561198004874199\n",
       "23955787             0  76561197963068262  76561197960389984\n",
       "23955794             0  76561197970400377  76561197960389984\n",
       "23955799             0  76561197970850808  76561197960389984\n",
       "23955801             0  76561197971545748  76561197960389984\n",
       "23955808             0  76561197978895277  76561197960389984\n",
       "23955811             0  76561197986303926  76561197960389984\n",
       "23955815             0  76561197991923596  76561197960389984\n",
       "23955819             0  76561197999897894  76561197960389984\n",
       "23955822             0  76561198003239208  76561197960389984\n",
       "23956927             0  76561197974835821  76561197999017642\n",
       "23956954             0  76561197991176836  76561197999017642\n",
       "\n",
       "[384718 rows x 3 columns]"
      ]
     },
     "execution_count": 71,
     "metadata": {},
     "output_type": "execute_result"
    }
   ],
   "source": [
    "df[df['friend_since'] == 0]"
   ]
  },
  {
   "cell_type": "code",
   "execution_count": null,
   "metadata": {},
   "outputs": [],
   "source": []
  }
 ],
 "metadata": {
  "kernelspec": {
   "display_name": "Python 3",
   "language": "python",
   "name": "python3"
  },
  "language_info": {
   "codemirror_mode": {
    "name": "ipython",
    "version": 3
   },
   "file_extension": ".py",
   "mimetype": "text/x-python",
   "name": "python",
   "nbconvert_exporter": "python",
   "pygments_lexer": "ipython3",
   "version": "3.6.8"
  }
 },
 "nbformat": 4,
 "nbformat_minor": 2
}
