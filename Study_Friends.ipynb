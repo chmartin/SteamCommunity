{
 "cells": [
  {
   "cell_type": "markdown",
   "metadata": {},
   "source": [
    "# Study friend information\n",
    "\n",
    "This notebook looks at the players friend information."
   ]
  },
  {
   "cell_type": "code",
   "execution_count": 177,
   "metadata": {},
   "outputs": [],
   "source": [
    "import pandas as pd\n",
    "import numpy as np\n",
    "import matplotlib.pyplot as plt\n",
    "import matplotlib.dates as mdates"
   ]
  },
  {
   "cell_type": "code",
   "execution_count": 84,
   "metadata": {},
   "outputs": [],
   "source": [
    "df = pd.read_csv(\"player_friend_info_11_June.csv\").drop(\"Unnamed: 0\", axis='columns')"
   ]
  },
  {
   "cell_type": "code",
   "execution_count": 85,
   "metadata": {},
   "outputs": [
    {
     "data": {
      "text/html": [
       "<div>\n",
       "<style scoped>\n",
       "    .dataframe tbody tr th:only-of-type {\n",
       "        vertical-align: middle;\n",
       "    }\n",
       "\n",
       "    .dataframe tbody tr th {\n",
       "        vertical-align: top;\n",
       "    }\n",
       "\n",
       "    .dataframe thead th {\n",
       "        text-align: right;\n",
       "    }\n",
       "</style>\n",
       "<table border=\"1\" class=\"dataframe\">\n",
       "  <thead>\n",
       "    <tr style=\"text-align: right;\">\n",
       "      <th></th>\n",
       "      <th>friend_since</th>\n",
       "      <th>relationship</th>\n",
       "      <th>steamid</th>\n",
       "      <th>steamid_orig</th>\n",
       "    </tr>\n",
       "  </thead>\n",
       "  <tbody>\n",
       "    <tr>\n",
       "      <th>0</th>\n",
       "      <td>1253251937</td>\n",
       "      <td>friend</td>\n",
       "      <td>76561197960265738</td>\n",
       "      <td>76561197960434622</td>\n",
       "    </tr>\n",
       "    <tr>\n",
       "      <th>1</th>\n",
       "      <td>1361927255</td>\n",
       "      <td>friend</td>\n",
       "      <td>76561197960265740</td>\n",
       "      <td>76561197960434622</td>\n",
       "    </tr>\n",
       "    <tr>\n",
       "      <th>2</th>\n",
       "      <td>1238207048</td>\n",
       "      <td>friend</td>\n",
       "      <td>76561197960265743</td>\n",
       "      <td>76561197960434622</td>\n",
       "    </tr>\n",
       "    <tr>\n",
       "      <th>3</th>\n",
       "      <td>1518389583</td>\n",
       "      <td>friend</td>\n",
       "      <td>76561197960265754</td>\n",
       "      <td>76561197960434622</td>\n",
       "    </tr>\n",
       "    <tr>\n",
       "      <th>4</th>\n",
       "      <td>1334200510</td>\n",
       "      <td>friend</td>\n",
       "      <td>76561197960265838</td>\n",
       "      <td>76561197960434622</td>\n",
       "    </tr>\n",
       "  </tbody>\n",
       "</table>\n",
       "</div>"
      ],
      "text/plain": [
       "   friend_since relationship            steamid       steamid_orig\n",
       "0    1253251937       friend  76561197960265738  76561197960434622\n",
       "1    1361927255       friend  76561197960265740  76561197960434622\n",
       "2    1238207048       friend  76561197960265743  76561197960434622\n",
       "3    1518389583       friend  76561197960265754  76561197960434622\n",
       "4    1334200510       friend  76561197960265838  76561197960434622"
      ]
     },
     "execution_count": 85,
     "metadata": {},
     "output_type": "execute_result"
    }
   ],
   "source": [
    "df.head()"
   ]
  },
  {
   "cell_type": "code",
   "execution_count": 86,
   "metadata": {},
   "outputs": [
    {
     "data": {
      "text/html": [
       "<div>\n",
       "<style scoped>\n",
       "    .dataframe tbody tr th:only-of-type {\n",
       "        vertical-align: middle;\n",
       "    }\n",
       "\n",
       "    .dataframe tbody tr th {\n",
       "        vertical-align: top;\n",
       "    }\n",
       "\n",
       "    .dataframe thead th {\n",
       "        text-align: right;\n",
       "    }\n",
       "</style>\n",
       "<table border=\"1\" class=\"dataframe\">\n",
       "  <thead>\n",
       "    <tr style=\"text-align: right;\">\n",
       "      <th></th>\n",
       "      <th>friend_since</th>\n",
       "      <th>relationship</th>\n",
       "      <th>steamid</th>\n",
       "      <th>steamid_orig</th>\n",
       "    </tr>\n",
       "  </thead>\n",
       "  <tbody>\n",
       "    <tr>\n",
       "      <th>2959029</th>\n",
       "      <td>1315256354</td>\n",
       "      <td>friend</td>\n",
       "      <td>76561198024798306</td>\n",
       "      <td>76561197993935320</td>\n",
       "    </tr>\n",
       "    <tr>\n",
       "      <th>2959030</th>\n",
       "      <td>1346115469</td>\n",
       "      <td>friend</td>\n",
       "      <td>76561198050708677</td>\n",
       "      <td>76561197993935320</td>\n",
       "    </tr>\n",
       "    <tr>\n",
       "      <th>2959031</th>\n",
       "      <td>1349984567</td>\n",
       "      <td>friend</td>\n",
       "      <td>76561198067214914</td>\n",
       "      <td>76561197993935320</td>\n",
       "    </tr>\n",
       "    <tr>\n",
       "      <th>2959032</th>\n",
       "      <td>1512134787</td>\n",
       "      <td>friend</td>\n",
       "      <td>76561198267071960</td>\n",
       "      <td>76561197993935320</td>\n",
       "    </tr>\n",
       "    <tr>\n",
       "      <th>2959033</th>\n",
       "      <td>1519582601</td>\n",
       "      <td>friend</td>\n",
       "      <td>76561198393197258</td>\n",
       "      <td>76561197993935320</td>\n",
       "    </tr>\n",
       "  </tbody>\n",
       "</table>\n",
       "</div>"
      ],
      "text/plain": [
       "         friend_since relationship            steamid       steamid_orig\n",
       "2959029    1315256354       friend  76561198024798306  76561197993935320\n",
       "2959030    1346115469       friend  76561198050708677  76561197993935320\n",
       "2959031    1349984567       friend  76561198067214914  76561197993935320\n",
       "2959032    1512134787       friend  76561198267071960  76561197993935320\n",
       "2959033    1519582601       friend  76561198393197258  76561197993935320"
      ]
     },
     "execution_count": 86,
     "metadata": {},
     "output_type": "execute_result"
    }
   ],
   "source": [
    "df.tail()"
   ]
  },
  {
   "cell_type": "code",
   "execution_count": 87,
   "metadata": {},
   "outputs": [
    {
     "name": "stdout",
     "output_type": "stream",
     "text": [
      "<class 'pandas.core.frame.DataFrame'>\n",
      "RangeIndex: 2959034 entries, 0 to 2959033\n",
      "Data columns (total 4 columns):\n",
      "friend_since    int64\n",
      "relationship    object\n",
      "steamid         int64\n",
      "steamid_orig    int64\n",
      "dtypes: int64(3), object(1)\n",
      "memory usage: 90.3+ MB\n"
     ]
    }
   ],
   "source": [
    "df.info()"
   ]
  },
  {
   "cell_type": "code",
   "execution_count": 88,
   "metadata": {},
   "outputs": [
    {
     "data": {
      "text/plain": [
       "1488858"
      ]
     },
     "execution_count": 88,
     "metadata": {},
     "output_type": "execute_result"
    }
   ],
   "source": [
    "df['steamid'].nunique()"
   ]
  },
  {
   "cell_type": "code",
   "execution_count": 89,
   "metadata": {},
   "outputs": [
    {
     "data": {
      "text/plain": [
       "15256"
      ]
     },
     "execution_count": 89,
     "metadata": {},
     "output_type": "execute_result"
    }
   ],
   "source": [
    "df['steamid_orig'].nunique()"
   ]
  },
  {
   "cell_type": "code",
   "execution_count": 90,
   "metadata": {},
   "outputs": [
    {
     "data": {
      "text/plain": [
       "1"
      ]
     },
     "execution_count": 90,
     "metadata": {},
     "output_type": "execute_result"
    }
   ],
   "source": [
    "df['relationship'].nunique()"
   ]
  },
  {
   "cell_type": "code",
   "execution_count": 91,
   "metadata": {},
   "outputs": [],
   "source": [
    "df = df.drop('relationship',axis='columns')"
   ]
  },
  {
   "cell_type": "code",
   "execution_count": 92,
   "metadata": {},
   "outputs": [],
   "source": [
    "df['Root'] = (df['steamid_orig'] == 76561197960434622)"
   ]
  },
  {
   "cell_type": "code",
   "execution_count": 93,
   "metadata": {},
   "outputs": [
    {
     "data": {
      "text/html": [
       "<div>\n",
       "<style scoped>\n",
       "    .dataframe tbody tr th:only-of-type {\n",
       "        vertical-align: middle;\n",
       "    }\n",
       "\n",
       "    .dataframe tbody tr th {\n",
       "        vertical-align: top;\n",
       "    }\n",
       "\n",
       "    .dataframe thead th {\n",
       "        text-align: right;\n",
       "    }\n",
       "</style>\n",
       "<table border=\"1\" class=\"dataframe\">\n",
       "  <thead>\n",
       "    <tr style=\"text-align: right;\">\n",
       "      <th></th>\n",
       "      <th>friend_since</th>\n",
       "      <th>steamid</th>\n",
       "      <th>steamid_orig</th>\n",
       "      <th>Root</th>\n",
       "    </tr>\n",
       "  </thead>\n",
       "  <tbody>\n",
       "    <tr>\n",
       "      <th>0</th>\n",
       "      <td>1253251937</td>\n",
       "      <td>76561197960265738</td>\n",
       "      <td>76561197960434622</td>\n",
       "      <td>True</td>\n",
       "    </tr>\n",
       "    <tr>\n",
       "      <th>1</th>\n",
       "      <td>1361927255</td>\n",
       "      <td>76561197960265740</td>\n",
       "      <td>76561197960434622</td>\n",
       "      <td>True</td>\n",
       "    </tr>\n",
       "    <tr>\n",
       "      <th>2</th>\n",
       "      <td>1238207048</td>\n",
       "      <td>76561197960265743</td>\n",
       "      <td>76561197960434622</td>\n",
       "      <td>True</td>\n",
       "    </tr>\n",
       "    <tr>\n",
       "      <th>3</th>\n",
       "      <td>1518389583</td>\n",
       "      <td>76561197960265754</td>\n",
       "      <td>76561197960434622</td>\n",
       "      <td>True</td>\n",
       "    </tr>\n",
       "    <tr>\n",
       "      <th>4</th>\n",
       "      <td>1334200510</td>\n",
       "      <td>76561197960265838</td>\n",
       "      <td>76561197960434622</td>\n",
       "      <td>True</td>\n",
       "    </tr>\n",
       "  </tbody>\n",
       "</table>\n",
       "</div>"
      ],
      "text/plain": [
       "   friend_since            steamid       steamid_orig  Root\n",
       "0    1253251937  76561197960265738  76561197960434622  True\n",
       "1    1361927255  76561197960265740  76561197960434622  True\n",
       "2    1238207048  76561197960265743  76561197960434622  True\n",
       "3    1518389583  76561197960265754  76561197960434622  True\n",
       "4    1334200510  76561197960265838  76561197960434622  True"
      ]
     },
     "execution_count": 93,
     "metadata": {},
     "output_type": "execute_result"
    }
   ],
   "source": [
    "df.head()"
   ]
  },
  {
   "cell_type": "code",
   "execution_count": 94,
   "metadata": {},
   "outputs": [
    {
     "data": {
      "text/html": [
       "<div>\n",
       "<style scoped>\n",
       "    .dataframe tbody tr th:only-of-type {\n",
       "        vertical-align: middle;\n",
       "    }\n",
       "\n",
       "    .dataframe tbody tr th {\n",
       "        vertical-align: top;\n",
       "    }\n",
       "\n",
       "    .dataframe thead th {\n",
       "        text-align: right;\n",
       "    }\n",
       "</style>\n",
       "<table border=\"1\" class=\"dataframe\">\n",
       "  <thead>\n",
       "    <tr style=\"text-align: right;\">\n",
       "      <th></th>\n",
       "      <th>friend_since</th>\n",
       "      <th>steamid</th>\n",
       "      <th>steamid_orig</th>\n",
       "      <th>Root</th>\n",
       "    </tr>\n",
       "  </thead>\n",
       "  <tbody>\n",
       "    <tr>\n",
       "      <th>2959029</th>\n",
       "      <td>1315256354</td>\n",
       "      <td>76561198024798306</td>\n",
       "      <td>76561197993935320</td>\n",
       "      <td>False</td>\n",
       "    </tr>\n",
       "    <tr>\n",
       "      <th>2959030</th>\n",
       "      <td>1346115469</td>\n",
       "      <td>76561198050708677</td>\n",
       "      <td>76561197993935320</td>\n",
       "      <td>False</td>\n",
       "    </tr>\n",
       "    <tr>\n",
       "      <th>2959031</th>\n",
       "      <td>1349984567</td>\n",
       "      <td>76561198067214914</td>\n",
       "      <td>76561197993935320</td>\n",
       "      <td>False</td>\n",
       "    </tr>\n",
       "    <tr>\n",
       "      <th>2959032</th>\n",
       "      <td>1512134787</td>\n",
       "      <td>76561198267071960</td>\n",
       "      <td>76561197993935320</td>\n",
       "      <td>False</td>\n",
       "    </tr>\n",
       "    <tr>\n",
       "      <th>2959033</th>\n",
       "      <td>1519582601</td>\n",
       "      <td>76561198393197258</td>\n",
       "      <td>76561197993935320</td>\n",
       "      <td>False</td>\n",
       "    </tr>\n",
       "  </tbody>\n",
       "</table>\n",
       "</div>"
      ],
      "text/plain": [
       "         friend_since            steamid       steamid_orig   Root\n",
       "2959029    1315256354  76561198024798306  76561197993935320  False\n",
       "2959030    1346115469  76561198050708677  76561197993935320  False\n",
       "2959031    1349984567  76561198067214914  76561197993935320  False\n",
       "2959032    1512134787  76561198267071960  76561197993935320  False\n",
       "2959033    1519582601  76561198393197258  76561197993935320  False"
      ]
     },
     "execution_count": 94,
     "metadata": {},
     "output_type": "execute_result"
    }
   ],
   "source": [
    "df.tail()"
   ]
  },
  {
   "cell_type": "code",
   "execution_count": 95,
   "metadata": {},
   "outputs": [],
   "source": [
    "First_tier = list(df[df['Root']]['steamid'])"
   ]
  },
  {
   "cell_type": "code",
   "execution_count": 96,
   "metadata": {},
   "outputs": [],
   "source": [
    "df['First_tier'] = df['steamid_orig'].apply(lambda x: x in First_tier)"
   ]
  },
  {
   "cell_type": "code",
   "execution_count": 97,
   "metadata": {},
   "outputs": [],
   "source": [
    "Second_tier = list(df[df['First_tier']]['steamid'])"
   ]
  },
  {
   "cell_type": "code",
   "execution_count": 98,
   "metadata": {},
   "outputs": [],
   "source": [
    "df['Second_tier'] = df['steamid_orig'].apply(lambda x: x in Second_tier)"
   ]
  },
  {
   "cell_type": "code",
   "execution_count": 99,
   "metadata": {},
   "outputs": [
    {
     "data": {
      "text/html": [
       "<div>\n",
       "<style scoped>\n",
       "    .dataframe tbody tr th:only-of-type {\n",
       "        vertical-align: middle;\n",
       "    }\n",
       "\n",
       "    .dataframe tbody tr th {\n",
       "        vertical-align: top;\n",
       "    }\n",
       "\n",
       "    .dataframe thead th {\n",
       "        text-align: right;\n",
       "    }\n",
       "</style>\n",
       "<table border=\"1\" class=\"dataframe\">\n",
       "  <thead>\n",
       "    <tr style=\"text-align: right;\">\n",
       "      <th></th>\n",
       "      <th>friend_since</th>\n",
       "      <th>steamid</th>\n",
       "      <th>steamid_orig</th>\n",
       "      <th>Root</th>\n",
       "      <th>First_tier</th>\n",
       "      <th>Second_tier</th>\n",
       "    </tr>\n",
       "  </thead>\n",
       "  <tbody>\n",
       "  </tbody>\n",
       "</table>\n",
       "</div>"
      ],
      "text/plain": [
       "Empty DataFrame\n",
       "Columns: [friend_since, steamid, steamid_orig, Root, First_tier, Second_tier]\n",
       "Index: []"
      ]
     },
     "execution_count": 99,
     "metadata": {},
     "output_type": "execute_result"
    }
   ],
   "source": [
    "df[~df['Second_tier'] & ~df['First_tier']]"
   ]
  },
  {
   "cell_type": "code",
   "execution_count": 100,
   "metadata": {},
   "outputs": [],
   "source": [
    "import seaborn as sns\n",
    "import matplotlib.pyplot as plt\n",
    "%matplotlib inline"
   ]
  },
  {
   "cell_type": "code",
   "execution_count": null,
   "metadata": {},
   "outputs": [],
   "source": []
  },
  {
   "cell_type": "code",
   "execution_count": 101,
   "metadata": {},
   "outputs": [],
   "source": [
    "df_num_Friends = (df.groupby('steamid_orig').count()['steamid']).to_frame()"
   ]
  },
  {
   "cell_type": "code",
   "execution_count": 102,
   "metadata": {},
   "outputs": [],
   "source": [
    "df_num_Friends = df_num_Friends.reset_index()"
   ]
  },
  {
   "cell_type": "code",
   "execution_count": 103,
   "metadata": {},
   "outputs": [],
   "source": [
    "df_num_Friends['num_Friends'] = df_num_Friends['steamid']"
   ]
  },
  {
   "cell_type": "code",
   "execution_count": 104,
   "metadata": {},
   "outputs": [
    {
     "data": {
      "text/html": [
       "<div>\n",
       "<style scoped>\n",
       "    .dataframe tbody tr th:only-of-type {\n",
       "        vertical-align: middle;\n",
       "    }\n",
       "\n",
       "    .dataframe tbody tr th {\n",
       "        vertical-align: top;\n",
       "    }\n",
       "\n",
       "    .dataframe thead th {\n",
       "        text-align: right;\n",
       "    }\n",
       "</style>\n",
       "<table border=\"1\" class=\"dataframe\">\n",
       "  <thead>\n",
       "    <tr style=\"text-align: right;\">\n",
       "      <th></th>\n",
       "      <th>steamid_orig</th>\n",
       "      <th>steamid</th>\n",
       "      <th>num_Friends</th>\n",
       "    </tr>\n",
       "  </thead>\n",
       "  <tbody>\n",
       "    <tr>\n",
       "      <th>202</th>\n",
       "      <td>76561197960434622</td>\n",
       "      <td>175</td>\n",
       "      <td>175</td>\n",
       "    </tr>\n",
       "  </tbody>\n",
       "</table>\n",
       "</div>"
      ],
      "text/plain": [
       "          steamid_orig  steamid  num_Friends\n",
       "202  76561197960434622      175          175"
      ]
     },
     "execution_count": 104,
     "metadata": {},
     "output_type": "execute_result"
    }
   ],
   "source": [
    "df_num_Friends[df_num_Friends['steamid_orig'] == 76561197960434622]"
   ]
  },
  {
   "cell_type": "code",
   "execution_count": 105,
   "metadata": {
    "scrolled": true
   },
   "outputs": [],
   "source": [
    "df_num_Friends = df_num_Friends.drop('steamid',axis='columns')"
   ]
  },
  {
   "cell_type": "code",
   "execution_count": 106,
   "metadata": {},
   "outputs": [],
   "source": [
    "df_num_Friends['steamid'] = df_num_Friends['steamid_orig']"
   ]
  },
  {
   "cell_type": "code",
   "execution_count": 107,
   "metadata": {},
   "outputs": [],
   "source": [
    "df_num_Friends = df_num_Friends.drop('steamid_orig',axis='columns')"
   ]
  },
  {
   "cell_type": "code",
   "execution_count": 108,
   "metadata": {},
   "outputs": [
    {
     "data": {
      "text/html": [
       "<div>\n",
       "<style scoped>\n",
       "    .dataframe tbody tr th:only-of-type {\n",
       "        vertical-align: middle;\n",
       "    }\n",
       "\n",
       "    .dataframe tbody tr th {\n",
       "        vertical-align: top;\n",
       "    }\n",
       "\n",
       "    .dataframe thead th {\n",
       "        text-align: right;\n",
       "    }\n",
       "</style>\n",
       "<table border=\"1\" class=\"dataframe\">\n",
       "  <thead>\n",
       "    <tr style=\"text-align: right;\">\n",
       "      <th></th>\n",
       "      <th>num_Friends</th>\n",
       "      <th>steamid</th>\n",
       "    </tr>\n",
       "  </thead>\n",
       "  <tbody>\n",
       "    <tr>\n",
       "      <th>0</th>\n",
       "      <td>9</td>\n",
       "      <td>76561197960265730</td>\n",
       "    </tr>\n",
       "    <tr>\n",
       "      <th>1</th>\n",
       "      <td>176</td>\n",
       "      <td>76561197960265731</td>\n",
       "    </tr>\n",
       "    <tr>\n",
       "      <th>2</th>\n",
       "      <td>70</td>\n",
       "      <td>76561197960265733</td>\n",
       "    </tr>\n",
       "    <tr>\n",
       "      <th>3</th>\n",
       "      <td>91</td>\n",
       "      <td>76561197960265738</td>\n",
       "    </tr>\n",
       "    <tr>\n",
       "      <th>4</th>\n",
       "      <td>66</td>\n",
       "      <td>76561197960265743</td>\n",
       "    </tr>\n",
       "  </tbody>\n",
       "</table>\n",
       "</div>"
      ],
      "text/plain": [
       "   num_Friends            steamid\n",
       "0            9  76561197960265730\n",
       "1          176  76561197960265731\n",
       "2           70  76561197960265733\n",
       "3           91  76561197960265738\n",
       "4           66  76561197960265743"
      ]
     },
     "execution_count": 108,
     "metadata": {},
     "output_type": "execute_result"
    }
   ],
   "source": [
    "df_num_Friends.head()"
   ]
  },
  {
   "cell_type": "code",
   "execution_count": 135,
   "metadata": {},
   "outputs": [],
   "source": [
    "df_max = df.loc[df.groupby('steamid_orig')['friend_since'].idxmax()]"
   ]
  },
  {
   "cell_type": "code",
   "execution_count": 136,
   "metadata": {},
   "outputs": [],
   "source": [
    "df_max = df_max.reset_index()"
   ]
  },
  {
   "cell_type": "code",
   "execution_count": 137,
   "metadata": {},
   "outputs": [
    {
     "data": {
      "text/html": [
       "<div>\n",
       "<style scoped>\n",
       "    .dataframe tbody tr th:only-of-type {\n",
       "        vertical-align: middle;\n",
       "    }\n",
       "\n",
       "    .dataframe tbody tr th {\n",
       "        vertical-align: top;\n",
       "    }\n",
       "\n",
       "    .dataframe thead th {\n",
       "        text-align: right;\n",
       "    }\n",
       "</style>\n",
       "<table border=\"1\" class=\"dataframe\">\n",
       "  <thead>\n",
       "    <tr style=\"text-align: right;\">\n",
       "      <th></th>\n",
       "      <th>index</th>\n",
       "      <th>friend_since</th>\n",
       "      <th>steamid</th>\n",
       "      <th>steamid_orig</th>\n",
       "      <th>Root</th>\n",
       "      <th>First_tier</th>\n",
       "      <th>Second_tier</th>\n",
       "    </tr>\n",
       "  </thead>\n",
       "  <tbody>\n",
       "    <tr>\n",
       "      <th>0</th>\n",
       "      <td>580327</td>\n",
       "      <td>1455906659</td>\n",
       "      <td>76561198018064800</td>\n",
       "      <td>76561197960265730</td>\n",
       "      <td>False</td>\n",
       "      <td>False</td>\n",
       "      <td>True</td>\n",
       "    </tr>\n",
       "    <tr>\n",
       "      <th>1</th>\n",
       "      <td>83542</td>\n",
       "      <td>1557289235</td>\n",
       "      <td>76561198009246617</td>\n",
       "      <td>76561197960265731</td>\n",
       "      <td>False</td>\n",
       "      <td>False</td>\n",
       "      <td>True</td>\n",
       "    </tr>\n",
       "    <tr>\n",
       "      <th>2</th>\n",
       "      <td>1330447</td>\n",
       "      <td>1498068231</td>\n",
       "      <td>76561197972491988</td>\n",
       "      <td>76561197960265733</td>\n",
       "      <td>False</td>\n",
       "      <td>False</td>\n",
       "      <td>True</td>\n",
       "    </tr>\n",
       "    <tr>\n",
       "      <th>3</th>\n",
       "      <td>7439</td>\n",
       "      <td>1548739620</td>\n",
       "      <td>76561198262909170</td>\n",
       "      <td>76561197960265738</td>\n",
       "      <td>False</td>\n",
       "      <td>True</td>\n",
       "      <td>True</td>\n",
       "    </tr>\n",
       "    <tr>\n",
       "      <th>4</th>\n",
       "      <td>3118</td>\n",
       "      <td>1534367618</td>\n",
       "      <td>76561198348711414</td>\n",
       "      <td>76561197960265743</td>\n",
       "      <td>False</td>\n",
       "      <td>True</td>\n",
       "      <td>True</td>\n",
       "    </tr>\n",
       "  </tbody>\n",
       "</table>\n",
       "</div>"
      ],
      "text/plain": [
       "     index  friend_since            steamid       steamid_orig   Root  \\\n",
       "0   580327    1455906659  76561198018064800  76561197960265730  False   \n",
       "1    83542    1557289235  76561198009246617  76561197960265731  False   \n",
       "2  1330447    1498068231  76561197972491988  76561197960265733  False   \n",
       "3     7439    1548739620  76561198262909170  76561197960265738  False   \n",
       "4     3118    1534367618  76561198348711414  76561197960265743  False   \n",
       "\n",
       "   First_tier  Second_tier  \n",
       "0       False         True  \n",
       "1       False         True  \n",
       "2       False         True  \n",
       "3        True         True  \n",
       "4        True         True  "
      ]
     },
     "execution_count": 137,
     "metadata": {},
     "output_type": "execute_result"
    }
   ],
   "source": [
    "df_max.head()"
   ]
  },
  {
   "cell_type": "code",
   "execution_count": 138,
   "metadata": {},
   "outputs": [
    {
     "data": {
      "text/html": [
       "<div>\n",
       "<style scoped>\n",
       "    .dataframe tbody tr th:only-of-type {\n",
       "        vertical-align: middle;\n",
       "    }\n",
       "\n",
       "    .dataframe tbody tr th {\n",
       "        vertical-align: top;\n",
       "    }\n",
       "\n",
       "    .dataframe thead th {\n",
       "        text-align: right;\n",
       "    }\n",
       "</style>\n",
       "<table border=\"1\" class=\"dataframe\">\n",
       "  <thead>\n",
       "    <tr style=\"text-align: right;\">\n",
       "      <th></th>\n",
       "      <th>index</th>\n",
       "      <th>friend_since</th>\n",
       "      <th>steamid</th>\n",
       "      <th>steamid_orig</th>\n",
       "      <th>Root</th>\n",
       "      <th>First_tier</th>\n",
       "      <th>Second_tier</th>\n",
       "    </tr>\n",
       "  </thead>\n",
       "  <tbody>\n",
       "    <tr>\n",
       "      <th>202</th>\n",
       "      <td>147</td>\n",
       "      <td>1559884406</td>\n",
       "      <td>76561198012034243</td>\n",
       "      <td>76561197960434622</td>\n",
       "      <td>True</td>\n",
       "      <td>False</td>\n",
       "      <td>True</td>\n",
       "    </tr>\n",
       "  </tbody>\n",
       "</table>\n",
       "</div>"
      ],
      "text/plain": [
       "     index  friend_since            steamid       steamid_orig  Root  \\\n",
       "202    147    1559884406  76561198012034243  76561197960434622  True   \n",
       "\n",
       "     First_tier  Second_tier  \n",
       "202       False         True  "
      ]
     },
     "execution_count": 138,
     "metadata": {},
     "output_type": "execute_result"
    }
   ],
   "source": [
    "df_max[df_max['steamid_orig'] == 76561197960434622]"
   ]
  },
  {
   "cell_type": "code",
   "execution_count": 139,
   "metadata": {},
   "outputs": [],
   "source": [
    "df_max['newest_friend_time'] = pd.to_datetime(df_max['friend_since'], unit='s')"
   ]
  },
  {
   "cell_type": "code",
   "execution_count": 140,
   "metadata": {},
   "outputs": [],
   "source": [
    "df_max['newest_friend_steamid'] = df_max['steamid']"
   ]
  },
  {
   "cell_type": "code",
   "execution_count": 141,
   "metadata": {
    "scrolled": true
   },
   "outputs": [
    {
     "data": {
      "text/html": [
       "<div>\n",
       "<style scoped>\n",
       "    .dataframe tbody tr th:only-of-type {\n",
       "        vertical-align: middle;\n",
       "    }\n",
       "\n",
       "    .dataframe tbody tr th {\n",
       "        vertical-align: top;\n",
       "    }\n",
       "\n",
       "    .dataframe thead th {\n",
       "        text-align: right;\n",
       "    }\n",
       "</style>\n",
       "<table border=\"1\" class=\"dataframe\">\n",
       "  <thead>\n",
       "    <tr style=\"text-align: right;\">\n",
       "      <th></th>\n",
       "      <th>steamid_orig</th>\n",
       "      <th>Root</th>\n",
       "      <th>First_tier</th>\n",
       "      <th>Second_tier</th>\n",
       "      <th>newest_friend_time</th>\n",
       "      <th>newest_friend_steamid</th>\n",
       "    </tr>\n",
       "  </thead>\n",
       "  <tbody>\n",
       "    <tr>\n",
       "      <th>0</th>\n",
       "      <td>76561197960265730</td>\n",
       "      <td>False</td>\n",
       "      <td>False</td>\n",
       "      <td>True</td>\n",
       "      <td>2016-02-19 18:30:59</td>\n",
       "      <td>76561198018064800</td>\n",
       "    </tr>\n",
       "    <tr>\n",
       "      <th>1</th>\n",
       "      <td>76561197960265731</td>\n",
       "      <td>False</td>\n",
       "      <td>False</td>\n",
       "      <td>True</td>\n",
       "      <td>2019-05-08 04:20:35</td>\n",
       "      <td>76561198009246617</td>\n",
       "    </tr>\n",
       "    <tr>\n",
       "      <th>2</th>\n",
       "      <td>76561197960265733</td>\n",
       "      <td>False</td>\n",
       "      <td>False</td>\n",
       "      <td>True</td>\n",
       "      <td>2017-06-21 18:03:51</td>\n",
       "      <td>76561197972491988</td>\n",
       "    </tr>\n",
       "    <tr>\n",
       "      <th>3</th>\n",
       "      <td>76561197960265738</td>\n",
       "      <td>False</td>\n",
       "      <td>True</td>\n",
       "      <td>True</td>\n",
       "      <td>2019-01-29 05:27:00</td>\n",
       "      <td>76561198262909170</td>\n",
       "    </tr>\n",
       "    <tr>\n",
       "      <th>4</th>\n",
       "      <td>76561197960265743</td>\n",
       "      <td>False</td>\n",
       "      <td>True</td>\n",
       "      <td>True</td>\n",
       "      <td>2018-08-15 21:13:38</td>\n",
       "      <td>76561198348711414</td>\n",
       "    </tr>\n",
       "  </tbody>\n",
       "</table>\n",
       "</div>"
      ],
      "text/plain": [
       "        steamid_orig   Root  First_tier  Second_tier  newest_friend_time  \\\n",
       "0  76561197960265730  False       False         True 2016-02-19 18:30:59   \n",
       "1  76561197960265731  False       False         True 2019-05-08 04:20:35   \n",
       "2  76561197960265733  False       False         True 2017-06-21 18:03:51   \n",
       "3  76561197960265738  False        True         True 2019-01-29 05:27:00   \n",
       "4  76561197960265743  False        True         True 2018-08-15 21:13:38   \n",
       "\n",
       "   newest_friend_steamid  \n",
       "0      76561198018064800  \n",
       "1      76561198009246617  \n",
       "2      76561197972491988  \n",
       "3      76561198262909170  \n",
       "4      76561198348711414  "
      ]
     },
     "execution_count": 141,
     "metadata": {},
     "output_type": "execute_result"
    }
   ],
   "source": [
    "df_max = df_max.drop(['index','friend_since','steamid'],axis='columns')\n",
    "df_max.head()"
   ]
  },
  {
   "cell_type": "code",
   "execution_count": 142,
   "metadata": {},
   "outputs": [
    {
     "data": {
      "text/html": [
       "<div>\n",
       "<style scoped>\n",
       "    .dataframe tbody tr th:only-of-type {\n",
       "        vertical-align: middle;\n",
       "    }\n",
       "\n",
       "    .dataframe tbody tr th {\n",
       "        vertical-align: top;\n",
       "    }\n",
       "\n",
       "    .dataframe thead th {\n",
       "        text-align: right;\n",
       "    }\n",
       "</style>\n",
       "<table border=\"1\" class=\"dataframe\">\n",
       "  <thead>\n",
       "    <tr style=\"text-align: right;\">\n",
       "      <th></th>\n",
       "      <th>Root</th>\n",
       "      <th>First_tier</th>\n",
       "      <th>Second_tier</th>\n",
       "      <th>newest_friend_time</th>\n",
       "      <th>newest_friend_steamid</th>\n",
       "      <th>steamid</th>\n",
       "    </tr>\n",
       "  </thead>\n",
       "  <tbody>\n",
       "    <tr>\n",
       "      <th>0</th>\n",
       "      <td>False</td>\n",
       "      <td>False</td>\n",
       "      <td>True</td>\n",
       "      <td>2016-02-19 18:30:59</td>\n",
       "      <td>76561198018064800</td>\n",
       "      <td>76561197960265730</td>\n",
       "    </tr>\n",
       "    <tr>\n",
       "      <th>1</th>\n",
       "      <td>False</td>\n",
       "      <td>False</td>\n",
       "      <td>True</td>\n",
       "      <td>2019-05-08 04:20:35</td>\n",
       "      <td>76561198009246617</td>\n",
       "      <td>76561197960265731</td>\n",
       "    </tr>\n",
       "    <tr>\n",
       "      <th>2</th>\n",
       "      <td>False</td>\n",
       "      <td>False</td>\n",
       "      <td>True</td>\n",
       "      <td>2017-06-21 18:03:51</td>\n",
       "      <td>76561197972491988</td>\n",
       "      <td>76561197960265733</td>\n",
       "    </tr>\n",
       "    <tr>\n",
       "      <th>3</th>\n",
       "      <td>False</td>\n",
       "      <td>True</td>\n",
       "      <td>True</td>\n",
       "      <td>2019-01-29 05:27:00</td>\n",
       "      <td>76561198262909170</td>\n",
       "      <td>76561197960265738</td>\n",
       "    </tr>\n",
       "    <tr>\n",
       "      <th>4</th>\n",
       "      <td>False</td>\n",
       "      <td>True</td>\n",
       "      <td>True</td>\n",
       "      <td>2018-08-15 21:13:38</td>\n",
       "      <td>76561198348711414</td>\n",
       "      <td>76561197960265743</td>\n",
       "    </tr>\n",
       "  </tbody>\n",
       "</table>\n",
       "</div>"
      ],
      "text/plain": [
       "    Root  First_tier  Second_tier  newest_friend_time  newest_friend_steamid  \\\n",
       "0  False       False         True 2016-02-19 18:30:59      76561198018064800   \n",
       "1  False       False         True 2019-05-08 04:20:35      76561198009246617   \n",
       "2  False       False         True 2017-06-21 18:03:51      76561197972491988   \n",
       "3  False        True         True 2019-01-29 05:27:00      76561198262909170   \n",
       "4  False        True         True 2018-08-15 21:13:38      76561198348711414   \n",
       "\n",
       "             steamid  \n",
       "0  76561197960265730  \n",
       "1  76561197960265731  \n",
       "2  76561197960265733  \n",
       "3  76561197960265738  \n",
       "4  76561197960265743  "
      ]
     },
     "execution_count": 142,
     "metadata": {},
     "output_type": "execute_result"
    }
   ],
   "source": [
    "df_max['steamid'] = df_max['steamid_orig']\n",
    "df_max = df_max.drop('steamid_orig',axis='columns')\n",
    "df_max.head()"
   ]
  },
  {
   "cell_type": "code",
   "execution_count": 143,
   "metadata": {},
   "outputs": [
    {
     "name": "stdout",
     "output_type": "stream",
     "text": [
      "<class 'pandas.core.frame.DataFrame'>\n",
      "RangeIndex: 15256 entries, 0 to 15255\n",
      "Data columns (total 6 columns):\n",
      "Root                     15256 non-null bool\n",
      "First_tier               15256 non-null bool\n",
      "Second_tier              15256 non-null bool\n",
      "newest_friend_time       15256 non-null datetime64[ns]\n",
      "newest_friend_steamid    15256 non-null int64\n",
      "steamid                  15256 non-null int64\n",
      "dtypes: bool(3), datetime64[ns](1), int64(2)\n",
      "memory usage: 402.3 KB\n"
     ]
    }
   ],
   "source": [
    "df_max.info()"
   ]
  },
  {
   "cell_type": "code",
   "execution_count": 144,
   "metadata": {},
   "outputs": [
    {
     "data": {
      "text/plain": [
       "Root                         2\n",
       "First_tier                   2\n",
       "Second_tier                  2\n",
       "newest_friend_time       15084\n",
       "newest_friend_steamid    14218\n",
       "steamid                  15256\n",
       "dtype: int64"
      ]
     },
     "execution_count": 144,
     "metadata": {},
     "output_type": "execute_result"
    }
   ],
   "source": [
    "df_max.nunique()"
   ]
  },
  {
   "cell_type": "code",
   "execution_count": 145,
   "metadata": {},
   "outputs": [],
   "source": [
    "df_min = df.loc[df.groupby('steamid_orig')['friend_since'].idxmin()]"
   ]
  },
  {
   "cell_type": "code",
   "execution_count": 146,
   "metadata": {},
   "outputs": [],
   "source": [
    "df_min = df_min.reset_index()"
   ]
  },
  {
   "cell_type": "code",
   "execution_count": 147,
   "metadata": {},
   "outputs": [
    {
     "data": {
      "text/html": [
       "<div>\n",
       "<style scoped>\n",
       "    .dataframe tbody tr th:only-of-type {\n",
       "        vertical-align: middle;\n",
       "    }\n",
       "\n",
       "    .dataframe tbody tr th {\n",
       "        vertical-align: top;\n",
       "    }\n",
       "\n",
       "    .dataframe thead th {\n",
       "        text-align: right;\n",
       "    }\n",
       "</style>\n",
       "<table border=\"1\" class=\"dataframe\">\n",
       "  <thead>\n",
       "    <tr style=\"text-align: right;\">\n",
       "      <th></th>\n",
       "      <th>index</th>\n",
       "      <th>friend_since</th>\n",
       "      <th>steamid</th>\n",
       "      <th>steamid_orig</th>\n",
       "      <th>Root</th>\n",
       "      <th>First_tier</th>\n",
       "      <th>Second_tier</th>\n",
       "    </tr>\n",
       "  </thead>\n",
       "  <tbody>\n",
       "    <tr>\n",
       "      <th>0</th>\n",
       "      <td>580325</td>\n",
       "      <td>1347313517</td>\n",
       "      <td>76561197974593417</td>\n",
       "      <td>76561197960265730</td>\n",
       "      <td>False</td>\n",
       "      <td>False</td>\n",
       "      <td>True</td>\n",
       "    </tr>\n",
       "    <tr>\n",
       "      <th>1</th>\n",
       "      <td>83401</td>\n",
       "      <td>0</td>\n",
       "      <td>76561197960265733</td>\n",
       "      <td>76561197960265731</td>\n",
       "      <td>False</td>\n",
       "      <td>False</td>\n",
       "      <td>True</td>\n",
       "    </tr>\n",
       "    <tr>\n",
       "      <th>2</th>\n",
       "      <td>1330413</td>\n",
       "      <td>0</td>\n",
       "      <td>76561197960265731</td>\n",
       "      <td>76561197960265733</td>\n",
       "      <td>False</td>\n",
       "      <td>False</td>\n",
       "      <td>True</td>\n",
       "    </tr>\n",
       "    <tr>\n",
       "      <th>3</th>\n",
       "      <td>7351</td>\n",
       "      <td>0</td>\n",
       "      <td>76561197960265731</td>\n",
       "      <td>76561197960265738</td>\n",
       "      <td>False</td>\n",
       "      <td>True</td>\n",
       "      <td>True</td>\n",
       "    </tr>\n",
       "    <tr>\n",
       "      <th>4</th>\n",
       "      <td>3053</td>\n",
       "      <td>0</td>\n",
       "      <td>76561197960265737</td>\n",
       "      <td>76561197960265743</td>\n",
       "      <td>False</td>\n",
       "      <td>True</td>\n",
       "      <td>True</td>\n",
       "    </tr>\n",
       "  </tbody>\n",
       "</table>\n",
       "</div>"
      ],
      "text/plain": [
       "     index  friend_since            steamid       steamid_orig   Root  \\\n",
       "0   580325    1347313517  76561197974593417  76561197960265730  False   \n",
       "1    83401             0  76561197960265733  76561197960265731  False   \n",
       "2  1330413             0  76561197960265731  76561197960265733  False   \n",
       "3     7351             0  76561197960265731  76561197960265738  False   \n",
       "4     3053             0  76561197960265737  76561197960265743  False   \n",
       "\n",
       "   First_tier  Second_tier  \n",
       "0       False         True  \n",
       "1       False         True  \n",
       "2       False         True  \n",
       "3        True         True  \n",
       "4        True         True  "
      ]
     },
     "execution_count": 147,
     "metadata": {},
     "output_type": "execute_result"
    }
   ],
   "source": [
    "df_min.head()"
   ]
  },
  {
   "cell_type": "code",
   "execution_count": 148,
   "metadata": {},
   "outputs": [
    {
     "data": {
      "text/html": [
       "<div>\n",
       "<style scoped>\n",
       "    .dataframe tbody tr th:only-of-type {\n",
       "        vertical-align: middle;\n",
       "    }\n",
       "\n",
       "    .dataframe tbody tr th {\n",
       "        vertical-align: top;\n",
       "    }\n",
       "\n",
       "    .dataframe thead th {\n",
       "        text-align: right;\n",
       "    }\n",
       "</style>\n",
       "<table border=\"1\" class=\"dataframe\">\n",
       "  <thead>\n",
       "    <tr style=\"text-align: right;\">\n",
       "      <th></th>\n",
       "      <th>index</th>\n",
       "      <th>friend_since</th>\n",
       "      <th>steamid</th>\n",
       "      <th>steamid_orig</th>\n",
       "      <th>Root</th>\n",
       "      <th>First_tier</th>\n",
       "      <th>Second_tier</th>\n",
       "    </tr>\n",
       "  </thead>\n",
       "  <tbody>\n",
       "    <tr>\n",
       "      <th>202</th>\n",
       "      <td>9</td>\n",
       "      <td>0</td>\n",
       "      <td>76561197960408176</td>\n",
       "      <td>76561197960434622</td>\n",
       "      <td>True</td>\n",
       "      <td>False</td>\n",
       "      <td>True</td>\n",
       "    </tr>\n",
       "  </tbody>\n",
       "</table>\n",
       "</div>"
      ],
      "text/plain": [
       "     index  friend_since            steamid       steamid_orig  Root  \\\n",
       "202      9             0  76561197960408176  76561197960434622  True   \n",
       "\n",
       "     First_tier  Second_tier  \n",
       "202       False         True  "
      ]
     },
     "execution_count": 148,
     "metadata": {},
     "output_type": "execute_result"
    }
   ],
   "source": [
    "df_min[df_min['steamid_orig'] == 76561197960434622]"
   ]
  },
  {
   "cell_type": "code",
   "execution_count": 149,
   "metadata": {},
   "outputs": [],
   "source": [
    "df_min['oldest_friend_time'] = pd.to_datetime(df_min['friend_since'], unit='s')"
   ]
  },
  {
   "cell_type": "code",
   "execution_count": 150,
   "metadata": {},
   "outputs": [],
   "source": [
    "df_min['oldest_friend_steamid'] = df_min['steamid']"
   ]
  },
  {
   "cell_type": "code",
   "execution_count": 152,
   "metadata": {
    "scrolled": true
   },
   "outputs": [
    {
     "data": {
      "text/html": [
       "<div>\n",
       "<style scoped>\n",
       "    .dataframe tbody tr th:only-of-type {\n",
       "        vertical-align: middle;\n",
       "    }\n",
       "\n",
       "    .dataframe tbody tr th {\n",
       "        vertical-align: top;\n",
       "    }\n",
       "\n",
       "    .dataframe thead th {\n",
       "        text-align: right;\n",
       "    }\n",
       "</style>\n",
       "<table border=\"1\" class=\"dataframe\">\n",
       "  <thead>\n",
       "    <tr style=\"text-align: right;\">\n",
       "      <th></th>\n",
       "      <th>steamid_orig</th>\n",
       "      <th>Root</th>\n",
       "      <th>First_tier</th>\n",
       "      <th>Second_tier</th>\n",
       "      <th>oldest_friend_time</th>\n",
       "      <th>oldest_friend_steamid</th>\n",
       "    </tr>\n",
       "  </thead>\n",
       "  <tbody>\n",
       "    <tr>\n",
       "      <th>0</th>\n",
       "      <td>76561197960265730</td>\n",
       "      <td>False</td>\n",
       "      <td>False</td>\n",
       "      <td>True</td>\n",
       "      <td>2012-09-10 21:45:17</td>\n",
       "      <td>76561197974593417</td>\n",
       "    </tr>\n",
       "    <tr>\n",
       "      <th>1</th>\n",
       "      <td>76561197960265731</td>\n",
       "      <td>False</td>\n",
       "      <td>False</td>\n",
       "      <td>True</td>\n",
       "      <td>1970-01-01 00:00:00</td>\n",
       "      <td>76561197960265733</td>\n",
       "    </tr>\n",
       "    <tr>\n",
       "      <th>2</th>\n",
       "      <td>76561197960265733</td>\n",
       "      <td>False</td>\n",
       "      <td>False</td>\n",
       "      <td>True</td>\n",
       "      <td>1970-01-01 00:00:00</td>\n",
       "      <td>76561197960265731</td>\n",
       "    </tr>\n",
       "    <tr>\n",
       "      <th>3</th>\n",
       "      <td>76561197960265738</td>\n",
       "      <td>False</td>\n",
       "      <td>True</td>\n",
       "      <td>True</td>\n",
       "      <td>1970-01-01 00:00:00</td>\n",
       "      <td>76561197960265731</td>\n",
       "    </tr>\n",
       "    <tr>\n",
       "      <th>4</th>\n",
       "      <td>76561197960265743</td>\n",
       "      <td>False</td>\n",
       "      <td>True</td>\n",
       "      <td>True</td>\n",
       "      <td>1970-01-01 00:00:00</td>\n",
       "      <td>76561197960265737</td>\n",
       "    </tr>\n",
       "  </tbody>\n",
       "</table>\n",
       "</div>"
      ],
      "text/plain": [
       "        steamid_orig   Root  First_tier  Second_tier  oldest_friend_time  \\\n",
       "0  76561197960265730  False       False         True 2012-09-10 21:45:17   \n",
       "1  76561197960265731  False       False         True 1970-01-01 00:00:00   \n",
       "2  76561197960265733  False       False         True 1970-01-01 00:00:00   \n",
       "3  76561197960265738  False        True         True 1970-01-01 00:00:00   \n",
       "4  76561197960265743  False        True         True 1970-01-01 00:00:00   \n",
       "\n",
       "   oldest_friend_steamid  \n",
       "0      76561197974593417  \n",
       "1      76561197960265733  \n",
       "2      76561197960265731  \n",
       "3      76561197960265731  \n",
       "4      76561197960265737  "
      ]
     },
     "execution_count": 152,
     "metadata": {},
     "output_type": "execute_result"
    }
   ],
   "source": [
    "df_min = df_min.drop(['index','friend_since','steamid'],axis='columns')\n",
    "df_min.head()"
   ]
  },
  {
   "cell_type": "code",
   "execution_count": 153,
   "metadata": {},
   "outputs": [
    {
     "name": "stdout",
     "output_type": "stream",
     "text": [
      "<class 'pandas.core.frame.DataFrame'>\n",
      "RangeIndex: 15256 entries, 0 to 15255\n",
      "Data columns (total 6 columns):\n",
      "Root                     15256 non-null bool\n",
      "First_tier               15256 non-null bool\n",
      "Second_tier              15256 non-null bool\n",
      "oldest_friend_time       15256 non-null datetime64[ns]\n",
      "oldest_friend_steamid    15256 non-null int64\n",
      "steamid                  15256 non-null int64\n",
      "dtypes: bool(3), datetime64[ns](1), int64(2)\n",
      "memory usage: 402.3 KB\n"
     ]
    },
    {
     "data": {
      "text/plain": [
       "Root                         2\n",
       "First_tier                   2\n",
       "Second_tier                  2\n",
       "oldest_friend_time       10895\n",
       "oldest_friend_steamid    13560\n",
       "steamid                  15256\n",
       "dtype: int64"
      ]
     },
     "execution_count": 153,
     "metadata": {},
     "output_type": "execute_result"
    }
   ],
   "source": [
    "df_min['steamid'] = df_min['steamid_orig']\n",
    "df_min = df_min.drop('steamid_orig',axis='columns')\n",
    "df_min.head()\n",
    "\n",
    "df_min.info()\n",
    "\n",
    "df_min.nunique()"
   ]
  },
  {
   "cell_type": "code",
   "execution_count": 154,
   "metadata": {},
   "outputs": [
    {
     "data": {
      "text/html": [
       "<div>\n",
       "<style scoped>\n",
       "    .dataframe tbody tr th:only-of-type {\n",
       "        vertical-align: middle;\n",
       "    }\n",
       "\n",
       "    .dataframe tbody tr th {\n",
       "        vertical-align: top;\n",
       "    }\n",
       "\n",
       "    .dataframe thead th {\n",
       "        text-align: right;\n",
       "    }\n",
       "</style>\n",
       "<table border=\"1\" class=\"dataframe\">\n",
       "  <thead>\n",
       "    <tr style=\"text-align: right;\">\n",
       "      <th></th>\n",
       "      <th>Root</th>\n",
       "      <th>First_tier</th>\n",
       "      <th>Second_tier</th>\n",
       "      <th>newest_friend_time</th>\n",
       "      <th>newest_friend_steamid</th>\n",
       "      <th>steamid</th>\n",
       "    </tr>\n",
       "  </thead>\n",
       "  <tbody>\n",
       "    <tr>\n",
       "      <th>0</th>\n",
       "      <td>False</td>\n",
       "      <td>False</td>\n",
       "      <td>True</td>\n",
       "      <td>2016-02-19 18:30:59</td>\n",
       "      <td>76561198018064800</td>\n",
       "      <td>76561197960265730</td>\n",
       "    </tr>\n",
       "    <tr>\n",
       "      <th>1</th>\n",
       "      <td>False</td>\n",
       "      <td>False</td>\n",
       "      <td>True</td>\n",
       "      <td>2019-05-08 04:20:35</td>\n",
       "      <td>76561198009246617</td>\n",
       "      <td>76561197960265731</td>\n",
       "    </tr>\n",
       "    <tr>\n",
       "      <th>2</th>\n",
       "      <td>False</td>\n",
       "      <td>False</td>\n",
       "      <td>True</td>\n",
       "      <td>2017-06-21 18:03:51</td>\n",
       "      <td>76561197972491988</td>\n",
       "      <td>76561197960265733</td>\n",
       "    </tr>\n",
       "    <tr>\n",
       "      <th>3</th>\n",
       "      <td>False</td>\n",
       "      <td>True</td>\n",
       "      <td>True</td>\n",
       "      <td>2019-01-29 05:27:00</td>\n",
       "      <td>76561198262909170</td>\n",
       "      <td>76561197960265738</td>\n",
       "    </tr>\n",
       "    <tr>\n",
       "      <th>4</th>\n",
       "      <td>False</td>\n",
       "      <td>True</td>\n",
       "      <td>True</td>\n",
       "      <td>2018-08-15 21:13:38</td>\n",
       "      <td>76561198348711414</td>\n",
       "      <td>76561197960265743</td>\n",
       "    </tr>\n",
       "  </tbody>\n",
       "</table>\n",
       "</div>"
      ],
      "text/plain": [
       "    Root  First_tier  Second_tier  newest_friend_time  newest_friend_steamid  \\\n",
       "0  False       False         True 2016-02-19 18:30:59      76561198018064800   \n",
       "1  False       False         True 2019-05-08 04:20:35      76561198009246617   \n",
       "2  False       False         True 2017-06-21 18:03:51      76561197972491988   \n",
       "3  False        True         True 2019-01-29 05:27:00      76561198262909170   \n",
       "4  False        True         True 2018-08-15 21:13:38      76561198348711414   \n",
       "\n",
       "             steamid  \n",
       "0  76561197960265730  \n",
       "1  76561197960265731  \n",
       "2  76561197960265733  \n",
       "3  76561197960265738  \n",
       "4  76561197960265743  "
      ]
     },
     "execution_count": 154,
     "metadata": {},
     "output_type": "execute_result"
    }
   ],
   "source": [
    "df_max.head()"
   ]
  },
  {
   "cell_type": "code",
   "execution_count": 155,
   "metadata": {},
   "outputs": [
    {
     "data": {
      "text/html": [
       "<div>\n",
       "<style scoped>\n",
       "    .dataframe tbody tr th:only-of-type {\n",
       "        vertical-align: middle;\n",
       "    }\n",
       "\n",
       "    .dataframe tbody tr th {\n",
       "        vertical-align: top;\n",
       "    }\n",
       "\n",
       "    .dataframe thead th {\n",
       "        text-align: right;\n",
       "    }\n",
       "</style>\n",
       "<table border=\"1\" class=\"dataframe\">\n",
       "  <thead>\n",
       "    <tr style=\"text-align: right;\">\n",
       "      <th></th>\n",
       "      <th>Root</th>\n",
       "      <th>First_tier</th>\n",
       "      <th>Second_tier</th>\n",
       "      <th>oldest_friend_time</th>\n",
       "      <th>oldest_friend_steamid</th>\n",
       "      <th>steamid</th>\n",
       "    </tr>\n",
       "  </thead>\n",
       "  <tbody>\n",
       "    <tr>\n",
       "      <th>0</th>\n",
       "      <td>False</td>\n",
       "      <td>False</td>\n",
       "      <td>True</td>\n",
       "      <td>2012-09-10 21:45:17</td>\n",
       "      <td>76561197974593417</td>\n",
       "      <td>76561197960265730</td>\n",
       "    </tr>\n",
       "    <tr>\n",
       "      <th>1</th>\n",
       "      <td>False</td>\n",
       "      <td>False</td>\n",
       "      <td>True</td>\n",
       "      <td>1970-01-01 00:00:00</td>\n",
       "      <td>76561197960265733</td>\n",
       "      <td>76561197960265731</td>\n",
       "    </tr>\n",
       "    <tr>\n",
       "      <th>2</th>\n",
       "      <td>False</td>\n",
       "      <td>False</td>\n",
       "      <td>True</td>\n",
       "      <td>1970-01-01 00:00:00</td>\n",
       "      <td>76561197960265731</td>\n",
       "      <td>76561197960265733</td>\n",
       "    </tr>\n",
       "    <tr>\n",
       "      <th>3</th>\n",
       "      <td>False</td>\n",
       "      <td>True</td>\n",
       "      <td>True</td>\n",
       "      <td>1970-01-01 00:00:00</td>\n",
       "      <td>76561197960265731</td>\n",
       "      <td>76561197960265738</td>\n",
       "    </tr>\n",
       "    <tr>\n",
       "      <th>4</th>\n",
       "      <td>False</td>\n",
       "      <td>True</td>\n",
       "      <td>True</td>\n",
       "      <td>1970-01-01 00:00:00</td>\n",
       "      <td>76561197960265737</td>\n",
       "      <td>76561197960265743</td>\n",
       "    </tr>\n",
       "  </tbody>\n",
       "</table>\n",
       "</div>"
      ],
      "text/plain": [
       "    Root  First_tier  Second_tier  oldest_friend_time  oldest_friend_steamid  \\\n",
       "0  False       False         True 2012-09-10 21:45:17      76561197974593417   \n",
       "1  False       False         True 1970-01-01 00:00:00      76561197960265733   \n",
       "2  False       False         True 1970-01-01 00:00:00      76561197960265731   \n",
       "3  False        True         True 1970-01-01 00:00:00      76561197960265731   \n",
       "4  False        True         True 1970-01-01 00:00:00      76561197960265737   \n",
       "\n",
       "             steamid  \n",
       "0  76561197960265730  \n",
       "1  76561197960265731  \n",
       "2  76561197960265733  \n",
       "3  76561197960265738  \n",
       "4  76561197960265743  "
      ]
     },
     "execution_count": 155,
     "metadata": {},
     "output_type": "execute_result"
    }
   ],
   "source": [
    "df_min.head()"
   ]
  },
  {
   "cell_type": "code",
   "execution_count": 156,
   "metadata": {},
   "outputs": [],
   "source": [
    "df_friend_extremes = df_max.merge(df_min,on=['steamid'],suffixes=('_max', '_min'))"
   ]
  },
  {
   "cell_type": "code",
   "execution_count": 157,
   "metadata": {},
   "outputs": [
    {
     "data": {
      "text/html": [
       "<div>\n",
       "<style scoped>\n",
       "    .dataframe tbody tr th:only-of-type {\n",
       "        vertical-align: middle;\n",
       "    }\n",
       "\n",
       "    .dataframe tbody tr th {\n",
       "        vertical-align: top;\n",
       "    }\n",
       "\n",
       "    .dataframe thead th {\n",
       "        text-align: right;\n",
       "    }\n",
       "</style>\n",
       "<table border=\"1\" class=\"dataframe\">\n",
       "  <thead>\n",
       "    <tr style=\"text-align: right;\">\n",
       "      <th></th>\n",
       "      <th>Root_max</th>\n",
       "      <th>First_tier_max</th>\n",
       "      <th>Second_tier_max</th>\n",
       "      <th>newest_friend_time</th>\n",
       "      <th>newest_friend_steamid</th>\n",
       "      <th>steamid</th>\n",
       "      <th>Root_min</th>\n",
       "      <th>First_tier_min</th>\n",
       "      <th>Second_tier_min</th>\n",
       "      <th>oldest_friend_time</th>\n",
       "      <th>oldest_friend_steamid</th>\n",
       "    </tr>\n",
       "  </thead>\n",
       "  <tbody>\n",
       "  </tbody>\n",
       "</table>\n",
       "</div>"
      ],
      "text/plain": [
       "Empty DataFrame\n",
       "Columns: [Root_max, First_tier_max, Second_tier_max, newest_friend_time, newest_friend_steamid, steamid, Root_min, First_tier_min, Second_tier_min, oldest_friend_time, oldest_friend_steamid]\n",
       "Index: []"
      ]
     },
     "execution_count": 157,
     "metadata": {},
     "output_type": "execute_result"
    }
   ],
   "source": [
    "df_friend_extremes[df_friend_extremes['Root_max'] != df_friend_extremes['Root_min']]"
   ]
  },
  {
   "cell_type": "code",
   "execution_count": 158,
   "metadata": {},
   "outputs": [
    {
     "data": {
      "text/html": [
       "<div>\n",
       "<style scoped>\n",
       "    .dataframe tbody tr th:only-of-type {\n",
       "        vertical-align: middle;\n",
       "    }\n",
       "\n",
       "    .dataframe tbody tr th {\n",
       "        vertical-align: top;\n",
       "    }\n",
       "\n",
       "    .dataframe thead th {\n",
       "        text-align: right;\n",
       "    }\n",
       "</style>\n",
       "<table border=\"1\" class=\"dataframe\">\n",
       "  <thead>\n",
       "    <tr style=\"text-align: right;\">\n",
       "      <th></th>\n",
       "      <th>Root_max</th>\n",
       "      <th>First_tier_max</th>\n",
       "      <th>Second_tier_max</th>\n",
       "      <th>newest_friend_time</th>\n",
       "      <th>newest_friend_steamid</th>\n",
       "      <th>steamid</th>\n",
       "      <th>Root_min</th>\n",
       "      <th>First_tier_min</th>\n",
       "      <th>Second_tier_min</th>\n",
       "      <th>oldest_friend_time</th>\n",
       "      <th>oldest_friend_steamid</th>\n",
       "    </tr>\n",
       "  </thead>\n",
       "  <tbody>\n",
       "  </tbody>\n",
       "</table>\n",
       "</div>"
      ],
      "text/plain": [
       "Empty DataFrame\n",
       "Columns: [Root_max, First_tier_max, Second_tier_max, newest_friend_time, newest_friend_steamid, steamid, Root_min, First_tier_min, Second_tier_min, oldest_friend_time, oldest_friend_steamid]\n",
       "Index: []"
      ]
     },
     "execution_count": 158,
     "metadata": {},
     "output_type": "execute_result"
    }
   ],
   "source": [
    "df_friend_extremes[df_friend_extremes['First_tier_max'] != df_friend_extremes['First_tier_min']]"
   ]
  },
  {
   "cell_type": "code",
   "execution_count": 159,
   "metadata": {},
   "outputs": [
    {
     "data": {
      "text/html": [
       "<div>\n",
       "<style scoped>\n",
       "    .dataframe tbody tr th:only-of-type {\n",
       "        vertical-align: middle;\n",
       "    }\n",
       "\n",
       "    .dataframe tbody tr th {\n",
       "        vertical-align: top;\n",
       "    }\n",
       "\n",
       "    .dataframe thead th {\n",
       "        text-align: right;\n",
       "    }\n",
       "</style>\n",
       "<table border=\"1\" class=\"dataframe\">\n",
       "  <thead>\n",
       "    <tr style=\"text-align: right;\">\n",
       "      <th></th>\n",
       "      <th>Root_max</th>\n",
       "      <th>First_tier_max</th>\n",
       "      <th>Second_tier_max</th>\n",
       "      <th>newest_friend_time</th>\n",
       "      <th>newest_friend_steamid</th>\n",
       "      <th>steamid</th>\n",
       "      <th>Root_min</th>\n",
       "      <th>First_tier_min</th>\n",
       "      <th>Second_tier_min</th>\n",
       "      <th>oldest_friend_time</th>\n",
       "      <th>oldest_friend_steamid</th>\n",
       "    </tr>\n",
       "  </thead>\n",
       "  <tbody>\n",
       "  </tbody>\n",
       "</table>\n",
       "</div>"
      ],
      "text/plain": [
       "Empty DataFrame\n",
       "Columns: [Root_max, First_tier_max, Second_tier_max, newest_friend_time, newest_friend_steamid, steamid, Root_min, First_tier_min, Second_tier_min, oldest_friend_time, oldest_friend_steamid]\n",
       "Index: []"
      ]
     },
     "execution_count": 159,
     "metadata": {},
     "output_type": "execute_result"
    }
   ],
   "source": [
    "df_friend_extremes[df_friend_extremes['Second_tier_max'] != df_friend_extremes['Second_tier_min']]"
   ]
  },
  {
   "cell_type": "code",
   "execution_count": 160,
   "metadata": {},
   "outputs": [
    {
     "data": {
      "text/html": [
       "<div>\n",
       "<style scoped>\n",
       "    .dataframe tbody tr th:only-of-type {\n",
       "        vertical-align: middle;\n",
       "    }\n",
       "\n",
       "    .dataframe tbody tr th {\n",
       "        vertical-align: top;\n",
       "    }\n",
       "\n",
       "    .dataframe thead th {\n",
       "        text-align: right;\n",
       "    }\n",
       "</style>\n",
       "<table border=\"1\" class=\"dataframe\">\n",
       "  <thead>\n",
       "    <tr style=\"text-align: right;\">\n",
       "      <th></th>\n",
       "      <th>Root_max</th>\n",
       "      <th>First_tier_max</th>\n",
       "      <th>Second_tier_max</th>\n",
       "      <th>newest_friend_time</th>\n",
       "      <th>newest_friend_steamid</th>\n",
       "      <th>steamid</th>\n",
       "      <th>Root_min</th>\n",
       "      <th>First_tier_min</th>\n",
       "      <th>Second_tier_min</th>\n",
       "      <th>oldest_friend_time</th>\n",
       "      <th>oldest_friend_steamid</th>\n",
       "    </tr>\n",
       "  </thead>\n",
       "  <tbody>\n",
       "    <tr>\n",
       "      <th>0</th>\n",
       "      <td>False</td>\n",
       "      <td>False</td>\n",
       "      <td>True</td>\n",
       "      <td>2016-02-19 18:30:59</td>\n",
       "      <td>76561198018064800</td>\n",
       "      <td>76561197960265730</td>\n",
       "      <td>False</td>\n",
       "      <td>False</td>\n",
       "      <td>True</td>\n",
       "      <td>2012-09-10 21:45:17</td>\n",
       "      <td>76561197974593417</td>\n",
       "    </tr>\n",
       "    <tr>\n",
       "      <th>1</th>\n",
       "      <td>False</td>\n",
       "      <td>False</td>\n",
       "      <td>True</td>\n",
       "      <td>2019-05-08 04:20:35</td>\n",
       "      <td>76561198009246617</td>\n",
       "      <td>76561197960265731</td>\n",
       "      <td>False</td>\n",
       "      <td>False</td>\n",
       "      <td>True</td>\n",
       "      <td>1970-01-01 00:00:00</td>\n",
       "      <td>76561197960265733</td>\n",
       "    </tr>\n",
       "    <tr>\n",
       "      <th>2</th>\n",
       "      <td>False</td>\n",
       "      <td>False</td>\n",
       "      <td>True</td>\n",
       "      <td>2017-06-21 18:03:51</td>\n",
       "      <td>76561197972491988</td>\n",
       "      <td>76561197960265733</td>\n",
       "      <td>False</td>\n",
       "      <td>False</td>\n",
       "      <td>True</td>\n",
       "      <td>1970-01-01 00:00:00</td>\n",
       "      <td>76561197960265731</td>\n",
       "    </tr>\n",
       "    <tr>\n",
       "      <th>3</th>\n",
       "      <td>False</td>\n",
       "      <td>True</td>\n",
       "      <td>True</td>\n",
       "      <td>2019-01-29 05:27:00</td>\n",
       "      <td>76561198262909170</td>\n",
       "      <td>76561197960265738</td>\n",
       "      <td>False</td>\n",
       "      <td>True</td>\n",
       "      <td>True</td>\n",
       "      <td>1970-01-01 00:00:00</td>\n",
       "      <td>76561197960265731</td>\n",
       "    </tr>\n",
       "    <tr>\n",
       "      <th>4</th>\n",
       "      <td>False</td>\n",
       "      <td>True</td>\n",
       "      <td>True</td>\n",
       "      <td>2018-08-15 21:13:38</td>\n",
       "      <td>76561198348711414</td>\n",
       "      <td>76561197960265743</td>\n",
       "      <td>False</td>\n",
       "      <td>True</td>\n",
       "      <td>True</td>\n",
       "      <td>1970-01-01 00:00:00</td>\n",
       "      <td>76561197960265737</td>\n",
       "    </tr>\n",
       "  </tbody>\n",
       "</table>\n",
       "</div>"
      ],
      "text/plain": [
       "   Root_max  First_tier_max  Second_tier_max  newest_friend_time  \\\n",
       "0     False           False             True 2016-02-19 18:30:59   \n",
       "1     False           False             True 2019-05-08 04:20:35   \n",
       "2     False           False             True 2017-06-21 18:03:51   \n",
       "3     False            True             True 2019-01-29 05:27:00   \n",
       "4     False            True             True 2018-08-15 21:13:38   \n",
       "\n",
       "   newest_friend_steamid            steamid  Root_min  First_tier_min  \\\n",
       "0      76561198018064800  76561197960265730     False           False   \n",
       "1      76561198009246617  76561197960265731     False           False   \n",
       "2      76561197972491988  76561197960265733     False           False   \n",
       "3      76561198262909170  76561197960265738     False            True   \n",
       "4      76561198348711414  76561197960265743     False            True   \n",
       "\n",
       "   Second_tier_min  oldest_friend_time  oldest_friend_steamid  \n",
       "0             True 2012-09-10 21:45:17      76561197974593417  \n",
       "1             True 1970-01-01 00:00:00      76561197960265733  \n",
       "2             True 1970-01-01 00:00:00      76561197960265731  \n",
       "3             True 1970-01-01 00:00:00      76561197960265731  \n",
       "4             True 1970-01-01 00:00:00      76561197960265737  "
      ]
     },
     "execution_count": 160,
     "metadata": {},
     "output_type": "execute_result"
    }
   ],
   "source": [
    "df_friend_extremes.head()"
   ]
  },
  {
   "cell_type": "code",
   "execution_count": 161,
   "metadata": {},
   "outputs": [],
   "source": [
    "df_friend_extremes['Root'] = df_friend_extremes['Root_max']\n",
    "df_friend_extremes['First_tier'] = df_friend_extremes['First_tier_max']\n",
    "df_friend_extremes['Second_tier'] = df_friend_extremes['Second_tier_max']\n",
    "df_friend_extremes = df_friend_extremes.drop(['Root_max','Root_min','First_tier_max','First_tier_min','Second_tier_max','Second_tier_min'],axis='columns')"
   ]
  },
  {
   "cell_type": "code",
   "execution_count": 162,
   "metadata": {},
   "outputs": [
    {
     "data": {
      "text/html": [
       "<div>\n",
       "<style scoped>\n",
       "    .dataframe tbody tr th:only-of-type {\n",
       "        vertical-align: middle;\n",
       "    }\n",
       "\n",
       "    .dataframe tbody tr th {\n",
       "        vertical-align: top;\n",
       "    }\n",
       "\n",
       "    .dataframe thead th {\n",
       "        text-align: right;\n",
       "    }\n",
       "</style>\n",
       "<table border=\"1\" class=\"dataframe\">\n",
       "  <thead>\n",
       "    <tr style=\"text-align: right;\">\n",
       "      <th></th>\n",
       "      <th>newest_friend_time</th>\n",
       "      <th>newest_friend_steamid</th>\n",
       "      <th>steamid</th>\n",
       "      <th>oldest_friend_time</th>\n",
       "      <th>oldest_friend_steamid</th>\n",
       "      <th>Root</th>\n",
       "      <th>First_tier</th>\n",
       "      <th>Second_tier</th>\n",
       "    </tr>\n",
       "  </thead>\n",
       "  <tbody>\n",
       "    <tr>\n",
       "      <th>0</th>\n",
       "      <td>2016-02-19 18:30:59</td>\n",
       "      <td>76561198018064800</td>\n",
       "      <td>76561197960265730</td>\n",
       "      <td>2012-09-10 21:45:17</td>\n",
       "      <td>76561197974593417</td>\n",
       "      <td>False</td>\n",
       "      <td>False</td>\n",
       "      <td>True</td>\n",
       "    </tr>\n",
       "    <tr>\n",
       "      <th>1</th>\n",
       "      <td>2019-05-08 04:20:35</td>\n",
       "      <td>76561198009246617</td>\n",
       "      <td>76561197960265731</td>\n",
       "      <td>1970-01-01 00:00:00</td>\n",
       "      <td>76561197960265733</td>\n",
       "      <td>False</td>\n",
       "      <td>False</td>\n",
       "      <td>True</td>\n",
       "    </tr>\n",
       "    <tr>\n",
       "      <th>2</th>\n",
       "      <td>2017-06-21 18:03:51</td>\n",
       "      <td>76561197972491988</td>\n",
       "      <td>76561197960265733</td>\n",
       "      <td>1970-01-01 00:00:00</td>\n",
       "      <td>76561197960265731</td>\n",
       "      <td>False</td>\n",
       "      <td>False</td>\n",
       "      <td>True</td>\n",
       "    </tr>\n",
       "    <tr>\n",
       "      <th>3</th>\n",
       "      <td>2019-01-29 05:27:00</td>\n",
       "      <td>76561198262909170</td>\n",
       "      <td>76561197960265738</td>\n",
       "      <td>1970-01-01 00:00:00</td>\n",
       "      <td>76561197960265731</td>\n",
       "      <td>False</td>\n",
       "      <td>True</td>\n",
       "      <td>True</td>\n",
       "    </tr>\n",
       "    <tr>\n",
       "      <th>4</th>\n",
       "      <td>2018-08-15 21:13:38</td>\n",
       "      <td>76561198348711414</td>\n",
       "      <td>76561197960265743</td>\n",
       "      <td>1970-01-01 00:00:00</td>\n",
       "      <td>76561197960265737</td>\n",
       "      <td>False</td>\n",
       "      <td>True</td>\n",
       "      <td>True</td>\n",
       "    </tr>\n",
       "  </tbody>\n",
       "</table>\n",
       "</div>"
      ],
      "text/plain": [
       "   newest_friend_time  newest_friend_steamid            steamid  \\\n",
       "0 2016-02-19 18:30:59      76561198018064800  76561197960265730   \n",
       "1 2019-05-08 04:20:35      76561198009246617  76561197960265731   \n",
       "2 2017-06-21 18:03:51      76561197972491988  76561197960265733   \n",
       "3 2019-01-29 05:27:00      76561198262909170  76561197960265738   \n",
       "4 2018-08-15 21:13:38      76561198348711414  76561197960265743   \n",
       "\n",
       "   oldest_friend_time  oldest_friend_steamid   Root  First_tier  Second_tier  \n",
       "0 2012-09-10 21:45:17      76561197974593417  False       False         True  \n",
       "1 1970-01-01 00:00:00      76561197960265733  False       False         True  \n",
       "2 1970-01-01 00:00:00      76561197960265731  False       False         True  \n",
       "3 1970-01-01 00:00:00      76561197960265731  False        True         True  \n",
       "4 1970-01-01 00:00:00      76561197960265737  False        True         True  "
      ]
     },
     "execution_count": 162,
     "metadata": {},
     "output_type": "execute_result"
    }
   ],
   "source": [
    "df_friend_extremes.head()"
   ]
  },
  {
   "cell_type": "code",
   "execution_count": 163,
   "metadata": {},
   "outputs": [
    {
     "data": {
      "text/html": [
       "<div>\n",
       "<style scoped>\n",
       "    .dataframe tbody tr th:only-of-type {\n",
       "        vertical-align: middle;\n",
       "    }\n",
       "\n",
       "    .dataframe tbody tr th {\n",
       "        vertical-align: top;\n",
       "    }\n",
       "\n",
       "    .dataframe thead th {\n",
       "        text-align: right;\n",
       "    }\n",
       "</style>\n",
       "<table border=\"1\" class=\"dataframe\">\n",
       "  <thead>\n",
       "    <tr style=\"text-align: right;\">\n",
       "      <th></th>\n",
       "      <th>num_Friends</th>\n",
       "      <th>steamid</th>\n",
       "    </tr>\n",
       "  </thead>\n",
       "  <tbody>\n",
       "    <tr>\n",
       "      <th>0</th>\n",
       "      <td>9</td>\n",
       "      <td>76561197960265730</td>\n",
       "    </tr>\n",
       "    <tr>\n",
       "      <th>1</th>\n",
       "      <td>176</td>\n",
       "      <td>76561197960265731</td>\n",
       "    </tr>\n",
       "    <tr>\n",
       "      <th>2</th>\n",
       "      <td>70</td>\n",
       "      <td>76561197960265733</td>\n",
       "    </tr>\n",
       "    <tr>\n",
       "      <th>3</th>\n",
       "      <td>91</td>\n",
       "      <td>76561197960265738</td>\n",
       "    </tr>\n",
       "    <tr>\n",
       "      <th>4</th>\n",
       "      <td>66</td>\n",
       "      <td>76561197960265743</td>\n",
       "    </tr>\n",
       "  </tbody>\n",
       "</table>\n",
       "</div>"
      ],
      "text/plain": [
       "   num_Friends            steamid\n",
       "0            9  76561197960265730\n",
       "1          176  76561197960265731\n",
       "2           70  76561197960265733\n",
       "3           91  76561197960265738\n",
       "4           66  76561197960265743"
      ]
     },
     "execution_count": 163,
     "metadata": {},
     "output_type": "execute_result"
    }
   ],
   "source": [
    "df_num_Friends.head()"
   ]
  },
  {
   "cell_type": "code",
   "execution_count": 164,
   "metadata": {},
   "outputs": [
    {
     "name": "stdout",
     "output_type": "stream",
     "text": [
      "<class 'pandas.core.frame.DataFrame'>\n",
      "Int64Index: 15256 entries, 0 to 15255\n",
      "Data columns (total 8 columns):\n",
      "newest_friend_time       15256 non-null datetime64[ns]\n",
      "newest_friend_steamid    15256 non-null int64\n",
      "steamid                  15256 non-null int64\n",
      "oldest_friend_time       15256 non-null datetime64[ns]\n",
      "oldest_friend_steamid    15256 non-null int64\n",
      "Root                     15256 non-null bool\n",
      "First_tier               15256 non-null bool\n",
      "Second_tier              15256 non-null bool\n",
      "dtypes: bool(3), datetime64[ns](2), int64(3)\n",
      "memory usage: 759.8 KB\n"
     ]
    }
   ],
   "source": [
    "df_friend_extremes.info()"
   ]
  },
  {
   "cell_type": "code",
   "execution_count": 165,
   "metadata": {},
   "outputs": [
    {
     "name": "stdout",
     "output_type": "stream",
     "text": [
      "<class 'pandas.core.frame.DataFrame'>\n",
      "RangeIndex: 15256 entries, 0 to 15255\n",
      "Data columns (total 2 columns):\n",
      "num_Friends    15256 non-null int64\n",
      "steamid        15256 non-null int64\n",
      "dtypes: int64(2)\n",
      "memory usage: 238.5 KB\n"
     ]
    }
   ],
   "source": [
    "df_num_Friends.info()"
   ]
  },
  {
   "cell_type": "code",
   "execution_count": 166,
   "metadata": {},
   "outputs": [],
   "source": [
    "df_friend_summary = df_num_Friends.merge(df_friend_extremes,on='steamid')"
   ]
  },
  {
   "cell_type": "code",
   "execution_count": 167,
   "metadata": {},
   "outputs": [
    {
     "name": "stdout",
     "output_type": "stream",
     "text": [
      "<class 'pandas.core.frame.DataFrame'>\n",
      "Int64Index: 15256 entries, 0 to 15255\n",
      "Data columns (total 9 columns):\n",
      "num_Friends              15256 non-null int64\n",
      "steamid                  15256 non-null int64\n",
      "newest_friend_time       15256 non-null datetime64[ns]\n",
      "newest_friend_steamid    15256 non-null int64\n",
      "oldest_friend_time       15256 non-null datetime64[ns]\n",
      "oldest_friend_steamid    15256 non-null int64\n",
      "Root                     15256 non-null bool\n",
      "First_tier               15256 non-null bool\n",
      "Second_tier              15256 non-null bool\n",
      "dtypes: bool(3), datetime64[ns](2), int64(4)\n",
      "memory usage: 879.0 KB\n"
     ]
    }
   ],
   "source": [
    "df_friend_summary.info()"
   ]
  },
  {
   "cell_type": "code",
   "execution_count": 168,
   "metadata": {},
   "outputs": [
    {
     "data": {
      "text/html": [
       "<div>\n",
       "<style scoped>\n",
       "    .dataframe tbody tr th:only-of-type {\n",
       "        vertical-align: middle;\n",
       "    }\n",
       "\n",
       "    .dataframe tbody tr th {\n",
       "        vertical-align: top;\n",
       "    }\n",
       "\n",
       "    .dataframe thead th {\n",
       "        text-align: right;\n",
       "    }\n",
       "</style>\n",
       "<table border=\"1\" class=\"dataframe\">\n",
       "  <thead>\n",
       "    <tr style=\"text-align: right;\">\n",
       "      <th></th>\n",
       "      <th>num_Friends</th>\n",
       "      <th>steamid</th>\n",
       "      <th>newest_friend_time</th>\n",
       "      <th>newest_friend_steamid</th>\n",
       "      <th>oldest_friend_time</th>\n",
       "      <th>oldest_friend_steamid</th>\n",
       "      <th>Root</th>\n",
       "      <th>First_tier</th>\n",
       "      <th>Second_tier</th>\n",
       "    </tr>\n",
       "  </thead>\n",
       "  <tbody>\n",
       "    <tr>\n",
       "      <th>0</th>\n",
       "      <td>9</td>\n",
       "      <td>76561197960265730</td>\n",
       "      <td>2016-02-19 18:30:59</td>\n",
       "      <td>76561198018064800</td>\n",
       "      <td>2012-09-10 21:45:17</td>\n",
       "      <td>76561197974593417</td>\n",
       "      <td>False</td>\n",
       "      <td>False</td>\n",
       "      <td>True</td>\n",
       "    </tr>\n",
       "    <tr>\n",
       "      <th>1</th>\n",
       "      <td>176</td>\n",
       "      <td>76561197960265731</td>\n",
       "      <td>2019-05-08 04:20:35</td>\n",
       "      <td>76561198009246617</td>\n",
       "      <td>1970-01-01 00:00:00</td>\n",
       "      <td>76561197960265733</td>\n",
       "      <td>False</td>\n",
       "      <td>False</td>\n",
       "      <td>True</td>\n",
       "    </tr>\n",
       "    <tr>\n",
       "      <th>2</th>\n",
       "      <td>70</td>\n",
       "      <td>76561197960265733</td>\n",
       "      <td>2017-06-21 18:03:51</td>\n",
       "      <td>76561197972491988</td>\n",
       "      <td>1970-01-01 00:00:00</td>\n",
       "      <td>76561197960265731</td>\n",
       "      <td>False</td>\n",
       "      <td>False</td>\n",
       "      <td>True</td>\n",
       "    </tr>\n",
       "    <tr>\n",
       "      <th>3</th>\n",
       "      <td>91</td>\n",
       "      <td>76561197960265738</td>\n",
       "      <td>2019-01-29 05:27:00</td>\n",
       "      <td>76561198262909170</td>\n",
       "      <td>1970-01-01 00:00:00</td>\n",
       "      <td>76561197960265731</td>\n",
       "      <td>False</td>\n",
       "      <td>True</td>\n",
       "      <td>True</td>\n",
       "    </tr>\n",
       "    <tr>\n",
       "      <th>4</th>\n",
       "      <td>66</td>\n",
       "      <td>76561197960265743</td>\n",
       "      <td>2018-08-15 21:13:38</td>\n",
       "      <td>76561198348711414</td>\n",
       "      <td>1970-01-01 00:00:00</td>\n",
       "      <td>76561197960265737</td>\n",
       "      <td>False</td>\n",
       "      <td>True</td>\n",
       "      <td>True</td>\n",
       "    </tr>\n",
       "  </tbody>\n",
       "</table>\n",
       "</div>"
      ],
      "text/plain": [
       "   num_Friends            steamid  newest_friend_time  newest_friend_steamid  \\\n",
       "0            9  76561197960265730 2016-02-19 18:30:59      76561198018064800   \n",
       "1          176  76561197960265731 2019-05-08 04:20:35      76561198009246617   \n",
       "2           70  76561197960265733 2017-06-21 18:03:51      76561197972491988   \n",
       "3           91  76561197960265738 2019-01-29 05:27:00      76561198262909170   \n",
       "4           66  76561197960265743 2018-08-15 21:13:38      76561198348711414   \n",
       "\n",
       "   oldest_friend_time  oldest_friend_steamid   Root  First_tier  Second_tier  \n",
       "0 2012-09-10 21:45:17      76561197974593417  False       False         True  \n",
       "1 1970-01-01 00:00:00      76561197960265733  False       False         True  \n",
       "2 1970-01-01 00:00:00      76561197960265731  False       False         True  \n",
       "3 1970-01-01 00:00:00      76561197960265731  False        True         True  \n",
       "4 1970-01-01 00:00:00      76561197960265737  False        True         True  "
      ]
     },
     "execution_count": 168,
     "metadata": {},
     "output_type": "execute_result"
    }
   ],
   "source": [
    "df_friend_summary.head()"
   ]
  },
  {
   "cell_type": "code",
   "execution_count": 172,
   "metadata": {},
   "outputs": [
    {
     "data": {
      "text/plain": [
       "<matplotlib.axes._subplots.AxesSubplot at 0x12686b128>"
      ]
     },
     "execution_count": 172,
     "metadata": {},
     "output_type": "execute_result"
    },
    {
     "data": {
      "image/png": "[encoded data removed]",
      "text/plain": [
       "<Figure size 432x288 with 1 Axes>"
      ]
     },
     "metadata": {
      "needs_background": "light"
     },
     "output_type": "display_data"
    }
   ],
   "source": [
    "sns.distplot(np.log(df_friend_summary['num_Friends']))"
   ]
  },
  {
   "cell_type": "code",
   "execution_count": 173,
   "metadata": {},
   "outputs": [
    {
     "data": {
      "text/plain": [
       "<matplotlib.axes._subplots.AxesSubplot at 0x1a40b4c400>"
      ]
     },
     "execution_count": 173,
     "metadata": {},
     "output_type": "execute_result"
    },
    {
     "data": {
      "image/png": "[encoded data removed]",
      "text/plain": [
       "<Figure size 432x288 with 1 Axes>"
      ]
     },
     "metadata": {
      "needs_background": "light"
     },
     "output_type": "display_data"
    }
   ],
   "source": [
    "sns.heatmap(df.isnull(), cbar=False)"
   ]
  },
  {
   "cell_type": "code",
   "execution_count": 178,
   "metadata": {},
   "outputs": [
    {
     "name": "stderr",
     "output_type": "stream",
     "text": [
      "/anaconda2/lib/python3.6/site-packages/ipykernel_launcher.py:4: FutureWarning: Comparing Series of datetimes with 'datetime.date'.  Currently, the\n",
      "'datetime.date' is coerced to a datetime. In the future pandas will\n",
      "not coerce, and a TypeError will be raised. To retain the current\n",
      "behavior, convert the 'datetime.date' to a datetime with\n",
      "'pd.Timestamp'.\n",
      "  after removing the cwd from sys.path.\n"
     ]
    },
    {
     "data": {
      "image/png": "[encoded data removed]",
      "text/plain": [
       "<Figure size 432x288 with 1 Axes>"
      ]
     },
     "metadata": {
      "needs_background": "light"
     },
     "output_type": "display_data"
    }
   ],
   "source": [
    "import datetime\n",
    "# plot it\n",
    "fig, ax = plt.subplots(1,1)\n",
    "ax.hist(df_friend_summary[df_friend_summary['newest_friend_time'] > datetime.date(1970,1,2)]['newest_friend_time'], bins=500, color='lightblue')\n",
    "ax.xaxis.set_major_locator(mdates.YearLocator())\n",
    "ax.xaxis.set_major_formatter(mdates.DateFormatter('%d.%m.%y'))\n",
    "plt.show()"
   ]
  },
  {
   "cell_type": "code",
   "execution_count": 179,
   "metadata": {},
   "outputs": [
    {
     "name": "stderr",
     "output_type": "stream",
     "text": [
      "/anaconda2/lib/python3.6/site-packages/ipykernel_launcher.py:2: FutureWarning: Comparing Series of datetimes with 'datetime.date'.  Currently, the\n",
      "'datetime.date' is coerced to a datetime. In the future pandas will\n",
      "not coerce, and a TypeError will be raised. To retain the current\n",
      "behavior, convert the 'datetime.date' to a datetime with\n",
      "'pd.Timestamp'.\n",
      "  \n"
     ]
    },
    {
     "data": {
      "image/png": "[encoded data removed]",
      "text/plain": [
       "<Figure size 432x288 with 1 Axes>"
      ]
     },
     "metadata": {
      "needs_background": "light"
     },
     "output_type": "display_data"
    }
   ],
   "source": [
    "fig, ax = plt.subplots(1,1)\n",
    "ax.hist(df_friend_summary[df_friend_summary['oldest_friend_time'] > datetime.date(1970,1,2)]['oldest_friend_time'], bins=500, color='lightblue')\n",
    "ax.xaxis.set_major_locator(mdates.YearLocator())\n",
    "ax.xaxis.set_major_formatter(mdates.DateFormatter('%d.%m.%y'))\n",
    "plt.show()"
   ]
  },
  {
   "cell_type": "code",
   "execution_count": 180,
   "metadata": {},
   "outputs": [],
   "source": [
    "df_friend_summary.to_csv('11_June_friend_summary.csv')"
   ]
  },
  {
   "cell_type": "code",
   "execution_count": null,
   "metadata": {},
   "outputs": [],
   "source": []
  }
 ],
 "metadata": {
  "kernelspec": {
   "display_name": "Python 3",
   "language": "python",
   "name": "python3"
  },
  "language_info": {
   "codemirror_mode": {
    "name": "ipython",
    "version": 3
   },
   "file_extension": ".py",
   "mimetype": "text/x-python",
   "name": "python",
   "nbconvert_exporter": "python",
   "pygments_lexer": "ipython3",
   "version": "3.6.8"
  }
 },
 "nbformat": 4,
 "nbformat_minor": 2
}
