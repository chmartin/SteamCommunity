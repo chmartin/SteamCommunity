{
 "cells": [
  {
   "cell_type": "code",
   "execution_count": 1,
   "metadata": {},
   "outputs": [],
   "source": [
    "import pandas as pd\n",
    "import numpy as np\n",
    "import matplotlib.pyplot as plt\n",
    "import matplotlib.dates as mdates\n",
    "import seaborn as sns\n",
    "%matplotlib inline"
   ]
  },
  {
   "cell_type": "code",
   "execution_count": 2,
   "metadata": {},
   "outputs": [],
   "source": [
    "api_calls_day = pd.Timestamp('2019-06-13')\n",
    "churn_cutoff = api_calls_day - pd.Timedelta(3,'M')"
   ]
  },
  {
   "cell_type": "code",
   "execution_count": 3,
   "metadata": {},
   "outputs": [],
   "source": [
    "df_friend_summary = pd.read_csv('100k_friend_summary.csv',dtype={'steamid': int}).drop('Unnamed: 0',axis='columns')\n",
    "df_profile_summary = pd.read_csv('100k_clean_player_info.csv',dtype={'steamid': int}).drop('Unnamed: 0',axis='columns')\n",
    "df_per_game_summary = pd.read_csv('100k_per_game.csv',dtype={'steamid': int}).drop('Unnamed: 0',axis='columns')\n",
    "df_game_per_user_summary = pd.read_csv('100k_game_per_user.csv',dtype={'steamid': int}).drop('Unnamed: 0',axis='columns')\n",
    "df_top5game_per_user_summary = pd.read_csv('100k_top5game_per_user.csv',dtype={'steamid': int}).drop('Unnamed: 0',axis='columns')"
   ]
  },
  {
   "cell_type": "code",
   "execution_count": 4,
   "metadata": {},
   "outputs": [],
   "source": [
    "df_full_prof = df_friend_summary.merge(df_profile_summary,on='steamid',how='right')"
   ]
  },
  {
   "cell_type": "code",
   "execution_count": 5,
   "metadata": {},
   "outputs": [],
   "source": [
    "df_full_prof = df_full_prof.drop(['lastlogoff_readable','timecreated_readable','newest_friend_steamid', 'oldest_friend_steamid', 'Root', 'First_tier', 'Second_tier', 'Third_tier','realname', 'personaname', 'loccityid', 'loccountrycode', 'locstatecode'],axis='columns')"
   ]
  },
  {
   "cell_type": "code",
   "execution_count": 6,
   "metadata": {},
   "outputs": [],
   "source": [
    "df_full_prof = df_full_prof.merge(df_game_per_user_summary,on='steamid',how='left')"
   ]
  },
  {
   "cell_type": "code",
   "execution_count": 7,
   "metadata": {},
   "outputs": [],
   "source": [
    "df_full_prof.fillna(0,inplace=True)"
   ]
  },
  {
   "cell_type": "code",
   "execution_count": 8,
   "metadata": {},
   "outputs": [
    {
     "name": "stdout",
     "output_type": "stream",
     "text": [
      "2019-03-13 16:32:42\n"
     ]
    }
   ],
   "source": [
    "print(churn_cutoff)"
   ]
  },
  {
   "cell_type": "code",
   "execution_count": 9,
   "metadata": {},
   "outputs": [],
   "source": [
    "df_full_prof['isChurned'] = df_full_prof['lastlogoff'].map(lambda x: 1 if (pd.to_datetime(x, unit='s') < churn_cutoff) else 0)\n"
   ]
  },
  {
   "cell_type": "code",
   "execution_count": 10,
   "metadata": {},
   "outputs": [],
   "source": [
    "df_friend_full = pd.read_csv('player_friend_info_100k.csv',dtype={'steamid': int}).drop('Unnamed: 0',axis='columns')"
   ]
  },
  {
   "cell_type": "code",
   "execution_count": 11,
   "metadata": {},
   "outputs": [],
   "source": [
    "df_friend_full = df_friend_full[pd.to_datetime(df_friend_full['friend_since'], unit='s') < churn_cutoff]"
   ]
  },
  {
   "cell_type": "code",
   "execution_count": 12,
   "metadata": {},
   "outputs": [],
   "source": [
    "df_friend_large = pd.merge(df_friend_full,df_full_prof,on='steamid')"
   ]
  },
  {
   "cell_type": "code",
   "execution_count": 13,
   "metadata": {},
   "outputs": [],
   "source": [
    "df_friend_large = df_friend_large.drop(['relationship','friend_since','newest_friend_time','oldest_friend_time','lastlogoff','profilestate','timecreated','isPublic','isFriendsOnly','isPrivate','playtime_forever_max','playtime_forever_std','playtime_forever_std_noZero'],axis='columns')\n"
   ]
  },
  {
   "cell_type": "code",
   "execution_count": 14,
   "metadata": {},
   "outputs": [],
   "source": [
    "df_friends_list = pd.DataFrame(df_friend_large.groupby('steamid_orig')['steamid'].apply(list))"
   ]
  },
  {
   "cell_type": "code",
   "execution_count": 15,
   "metadata": {},
   "outputs": [],
   "source": [
    "df_friends_list = df_friends_list.add_suffix('_friend_list')\n",
    "df_friends_list = df_friends_list.reset_index()\n",
    "df_friends_list['steamid'] = df_friends_list['steamid_orig']\n",
    "df_friends_list = df_friends_list.drop('steamid_orig',axis='columns')"
   ]
  },
  {
   "cell_type": "code",
   "execution_count": 16,
   "metadata": {},
   "outputs": [],
   "source": [
    "df_friends_mean = pd.DataFrame(df_friend_large.drop(['steamid','appid_max'],axis='columns').groupby('steamid_orig').mean())"
   ]
  },
  {
   "cell_type": "code",
   "execution_count": 17,
   "metadata": {},
   "outputs": [],
   "source": [
    "df_friends_mean = df_friends_mean.add_suffix('_friends_mean')"
   ]
  },
  {
   "cell_type": "code",
   "execution_count": 18,
   "metadata": {},
   "outputs": [],
   "source": [
    "df_friends_mean = df_friends_mean.reset_index()\n",
    "df_friends_mean['steamid'] = df_friends_mean['steamid_orig']\n",
    "df_friends_mean = df_friends_mean.drop('steamid_orig',axis='columns')"
   ]
  },
  {
   "cell_type": "code",
   "execution_count": 19,
   "metadata": {},
   "outputs": [],
   "source": [
    "df_friends_mode = pd.DataFrame(df_friend_large[df_friend_large['appid_max'] != 0].groupby('steamid_orig')['appid_max'].apply(pd.Series.mode))"
   ]
  },
  {
   "cell_type": "code",
   "execution_count": 20,
   "metadata": {},
   "outputs": [
    {
     "name": "stdout",
     "output_type": "stream",
     "text": [
      "<class 'pandas.core.frame.DataFrame'>\n",
      "Int64Index: 65214 entries, 0 to 105551\n",
      "Data columns (total 2 columns):\n",
      "steamid              65214 non-null int64\n",
      "friends_fav_appid    65214 non-null float64\n",
      "dtypes: float64(1), int64(1)\n",
      "memory usage: 1.5 MB\n",
      "65214\n",
      "84637\n"
     ]
    }
   ],
   "source": [
    "df_friends_mode = df_friends_mode.reset_index().drop('level_1',axis='columns')\n",
    "df_friends_mode['steamid'] = df_friends_mode['steamid_orig']\n",
    "df_friends_mode['friends_fav_appid'] = df_friends_mode['appid_max']\n",
    "df_friends_mode = df_friends_mode.drop('steamid_orig',axis='columns')\n",
    "df_friends_mode = df_friends_mode.drop('appid_max',axis='columns')\n",
    "df_friends_mode = df_friends_mode.drop_duplicates(['steamid'],keep='first')\n",
    "df_friends_mode.info()\n",
    "print(df_friends_mode['steamid'].nunique())\n",
    "print(df_friends_mean['steamid'].nunique())"
   ]
  },
  {
   "cell_type": "code",
   "execution_count": 21,
   "metadata": {},
   "outputs": [],
   "source": [
    "df_friends_stats = pd.merge(df_friends_mean,df_friends_mode,on='steamid',how='outer')"
   ]
  },
  {
   "cell_type": "code",
   "execution_count": 22,
   "metadata": {},
   "outputs": [],
   "source": [
    "df_friends_temp = df_full_prof.merge(df_friends_stats,on='steamid',how='left')"
   ]
  },
  {
   "cell_type": "code",
   "execution_count": 23,
   "metadata": {},
   "outputs": [
    {
     "data": {
      "text/plain": [
       "88555"
      ]
     },
     "execution_count": 23,
     "metadata": {},
     "output_type": "execute_result"
    }
   ],
   "source": [
    "df_friends_temp['steamid'].nunique()"
   ]
  },
  {
   "cell_type": "code",
   "execution_count": 24,
   "metadata": {},
   "outputs": [],
   "source": [
    "df_dup_steamid = df_friends_temp[df_friends_temp.duplicated(['steamid'],keep=False)]"
   ]
  },
  {
   "cell_type": "code",
   "execution_count": 25,
   "metadata": {},
   "outputs": [
    {
     "data": {
      "text/html": [
       "<div>\n",
       "<style scoped>\n",
       "    .dataframe tbody tr th:only-of-type {\n",
       "        vertical-align: middle;\n",
       "    }\n",
       "\n",
       "    .dataframe tbody tr th {\n",
       "        vertical-align: top;\n",
       "    }\n",
       "\n",
       "    .dataframe thead th {\n",
       "        text-align: right;\n",
       "    }\n",
       "</style>\n",
       "<table border=\"1\" class=\"dataframe\">\n",
       "  <thead>\n",
       "    <tr style=\"text-align: right;\">\n",
       "      <th></th>\n",
       "      <th>num_Friends</th>\n",
       "      <th>steamid</th>\n",
       "      <th>newest_friend_time</th>\n",
       "      <th>oldest_friend_time</th>\n",
       "      <th>commentpermission</th>\n",
       "      <th>lastlogoff</th>\n",
       "      <th>profilestate</th>\n",
       "      <th>timecreated</th>\n",
       "      <th>costom_avatar</th>\n",
       "      <th>isPublic</th>\n",
       "      <th>...</th>\n",
       "      <th>commentpermission_friends_mean</th>\n",
       "      <th>costom_avatar_friends_mean</th>\n",
       "      <th>inClan_friends_mean</th>\n",
       "      <th>playtime_forever_sum_friends_mean</th>\n",
       "      <th>appid_count_friends_mean</th>\n",
       "      <th>playtime_forever_mean_friends_mean</th>\n",
       "      <th>appid_count_noZero_friends_mean</th>\n",
       "      <th>playtime_forever_mean_noZero_friends_mean</th>\n",
       "      <th>isChurned_friends_mean</th>\n",
       "      <th>friends_fav_appid</th>\n",
       "    </tr>\n",
       "  </thead>\n",
       "  <tbody>\n",
       "  </tbody>\n",
       "</table>\n",
       "<p>0 rows × 34 columns</p>\n",
       "</div>"
      ],
      "text/plain": [
       "Empty DataFrame\n",
       "Columns: [num_Friends, steamid, newest_friend_time, oldest_friend_time, commentpermission, lastlogoff, profilestate, timecreated, costom_avatar, isPublic, isFriendsOnly, isPrivate, inClan, playtime_forever_sum, appid_count, playtime_forever_mean, playtime_forever_std, appid_max, playtime_forever_max, appid_count_noZero, playtime_forever_mean_noZero, playtime_forever_std_noZero, isChurned, num_Friends_friends_mean, commentpermission_friends_mean, costom_avatar_friends_mean, inClan_friends_mean, playtime_forever_sum_friends_mean, appid_count_friends_mean, playtime_forever_mean_friends_mean, appid_count_noZero_friends_mean, playtime_forever_mean_noZero_friends_mean, isChurned_friends_mean, friends_fav_appid]\n",
       "Index: []\n",
       "\n",
       "[0 rows x 34 columns]"
      ]
     },
     "execution_count": 25,
     "metadata": {},
     "output_type": "execute_result"
    }
   ],
   "source": [
    "df_dup_steamid"
   ]
  },
  {
   "cell_type": "code",
   "execution_count": 26,
   "metadata": {},
   "outputs": [],
   "source": [
    "df_friends_temp.fillna(0,inplace=True)"
   ]
  },
  {
   "cell_type": "code",
   "execution_count": 27,
   "metadata": {},
   "outputs": [],
   "source": [
    "df_friends_temp['Same_fav_as_friend'] = df_friends_temp.apply(lambda x: 1 if x['appid_max'] == x['friends_fav_appid'] else 0,axis=1)"
   ]
  },
  {
   "cell_type": "code",
   "execution_count": 28,
   "metadata": {},
   "outputs": [],
   "source": [
    "df_friends_temp['num_Zero_games'] = df_friends_temp['appid_count'] - df_friends_temp['appid_count_noZero']"
   ]
  },
  {
   "cell_type": "code",
   "execution_count": 29,
   "metadata": {},
   "outputs": [],
   "source": [
    "df_full_prof = df_friends_temp"
   ]
  },
  {
   "cell_type": "code",
   "execution_count": 30,
   "metadata": {},
   "outputs": [],
   "source": [
    "df_churned = df_full_prof[df_full_prof['isChurned'] == 1]"
   ]
  },
  {
   "cell_type": "code",
   "execution_count": 31,
   "metadata": {},
   "outputs": [],
   "source": [
    "df_active = df_full_prof[df_full_prof['isChurned'] == 0]"
   ]
  },
  {
   "cell_type": "code",
   "execution_count": 32,
   "metadata": {},
   "outputs": [],
   "source": [
    "from sklearn.model_selection import train_test_split\n",
    "df_churned_train, df_churned_test = train_test_split(df_churned,test_size=0.2,random_state=1234)"
   ]
  },
  {
   "cell_type": "code",
   "execution_count": 33,
   "metadata": {},
   "outputs": [],
   "source": [
    "df_active_remain, df_active_test = train_test_split(df_active,test_size=0.2,random_state=1234)"
   ]
  },
  {
   "cell_type": "code",
   "execution_count": 34,
   "metadata": {},
   "outputs": [],
   "source": [
    "df_active_extra, df_active_train = train_test_split(df_active_remain,test_size=len(df_churned_train),random_state=1234)"
   ]
  },
  {
   "cell_type": "code",
   "execution_count": 35,
   "metadata": {},
   "outputs": [],
   "source": [
    "df_train = pd.concat([df_active_train,df_churned_train])"
   ]
  },
  {
   "cell_type": "code",
   "execution_count": 36,
   "metadata": {},
   "outputs": [],
   "source": [
    "df_test = pd.concat([df_active_test,df_churned_test])"
   ]
  },
  {
   "cell_type": "code",
   "execution_count": 37,
   "metadata": {},
   "outputs": [],
   "source": [
    "X_train = df_train.drop(['steamid','isPublic','isFriendsOnly','isPrivate','inClan','appid_count','playtime_forever_mean','lastlogoff','isChurned','appid_max','commentpermission_friends_mean','appid_count_friends_mean','friends_fav_appid','playtime_forever_mean_friends_mean','isChurned_friends_mean'],axis='columns')\n",
    "X_test = df_test.drop(['steamid','isPublic','isFriendsOnly','isPrivate','inClan','appid_count','playtime_forever_mean','lastlogoff','isChurned','appid_max','commentpermission_friends_mean','appid_count_friends_mean','friends_fav_appid','playtime_forever_mean_friends_mean','isChurned_friends_mean'],axis='columns')\n",
    "y_train = df_train['isChurned']\n",
    "y_test = df_test['isChurned']"
   ]
  },
  {
   "cell_type": "code",
   "execution_count": 38,
   "metadata": {
    "scrolled": true
   },
   "outputs": [
    {
     "data": {
      "text/plain": [
       "Index(['num_Friends', 'newest_friend_time', 'oldest_friend_time',\n",
       "       'commentpermission', 'profilestate', 'timecreated', 'costom_avatar',\n",
       "       'playtime_forever_sum', 'playtime_forever_std', 'playtime_forever_max',\n",
       "       'appid_count_noZero', 'playtime_forever_mean_noZero',\n",
       "       'playtime_forever_std_noZero', 'num_Friends_friends_mean',\n",
       "       'costom_avatar_friends_mean', 'inClan_friends_mean',\n",
       "       'playtime_forever_sum_friends_mean', 'appid_count_noZero_friends_mean',\n",
       "       'playtime_forever_mean_noZero_friends_mean', 'Same_fav_as_friend',\n",
       "       'num_Zero_games'],\n",
       "      dtype='object')"
      ]
     },
     "execution_count": 38,
     "metadata": {},
     "output_type": "execute_result"
    }
   ],
   "source": [
    "X_train.columns"
   ]
  },
  {
   "cell_type": "code",
   "execution_count": 39,
   "metadata": {},
   "outputs": [],
   "source": [
    "from sklearn.linear_model import LogisticRegression\n",
    "from sklearn.preprocessing import StandardScaler"
   ]
  },
  {
   "cell_type": "code",
   "execution_count": 40,
   "metadata": {},
   "outputs": [
    {
     "name": "stderr",
     "output_type": "stream",
     "text": [
      "/anaconda2/lib/python3.6/site-packages/sklearn/preprocessing/data.py:645: DataConversionWarning: Data with input dtype int64, float64 were all converted to float64 by StandardScaler.\n",
      "  return self.partial_fit(X, y)\n",
      "/anaconda2/lib/python3.6/site-packages/sklearn/base.py:464: DataConversionWarning: Data with input dtype int64, float64 were all converted to float64 by StandardScaler.\n",
      "  return self.fit(X, **fit_params).transform(X)\n",
      "/anaconda2/lib/python3.6/site-packages/ipykernel_launcher.py:4: DataConversionWarning: Data with input dtype int64, float64 were all converted to float64 by StandardScaler.\n",
      "  after removing the cwd from sys.path.\n"
     ]
    }
   ],
   "source": [
    "log_model = LogisticRegression(random_state=10,solver='lbfgs',C=0.1)\n",
    "scaler = StandardScaler()\n",
    "X_train_scaled = scaler.fit_transform(X_train)\n",
    "X_test_scaled = scaler.transform(X_test)"
   ]
  },
  {
   "cell_type": "code",
   "execution_count": 41,
   "metadata": {},
   "outputs": [
    {
     "data": {
      "text/plain": [
       "LogisticRegression(C=0.1, class_weight=None, dual=False, fit_intercept=True,\n",
       "          intercept_scaling=1, max_iter=100, multi_class='warn',\n",
       "          n_jobs=None, penalty='l2', random_state=10, solver='lbfgs',\n",
       "          tol=0.0001, verbose=0, warm_start=False)"
      ]
     },
     "execution_count": 41,
     "metadata": {},
     "output_type": "execute_result"
    }
   ],
   "source": [
    "log_model.fit(X_train_scaled,y_train)"
   ]
  },
  {
   "cell_type": "markdown",
   "metadata": {},
   "source": [
    "# Validate"
   ]
  },
  {
   "cell_type": "code",
   "execution_count": 42,
   "metadata": {},
   "outputs": [
    {
     "name": "stdout",
     "output_type": "stream",
     "text": [
      "[[0.84905149 0.15094851]\n",
      " [0.25158085 0.74841915]]\n",
      "\n",
      "\n",
      "              precision    recall  f1-score   support\n",
      "\n",
      "           0       0.77      0.85      0.81     11070\n",
      "           1       0.83      0.75      0.79     11070\n",
      "\n",
      "   micro avg       0.80      0.80      0.80     22140\n",
      "   macro avg       0.80      0.80      0.80     22140\n",
      "weighted avg       0.80      0.80      0.80     22140\n",
      "\n"
     ]
    },
    {
     "data": {
      "image/png": "[encoded data removed]",
      "text/plain": [
       "<Figure size 216x216 with 1 Axes>"
      ]
     },
     "metadata": {
      "needs_background": "light"
     },
     "output_type": "display_data"
    }
   ],
   "source": [
    "from sklearn.metrics import confusion_matrix, classification_report\n",
    "axis = plt.figure(figsize=(3,3))\n",
    "log_pred = log_model.predict(X_train_scaled)\n",
    "cm = confusion_matrix(y_train,log_pred)\n",
    "cm = cm.astype('float64') / cm.sum(axis=1)[:, np.newaxis]\n",
    "ax = plt.subplot()\n",
    "sns.heatmap(cm, annot=True, fmt='0.2f',ax = ax,cmap='RdBu',cbar=False)\n",
    "ax.set_xlabel('Predicted labels')\n",
    "ax.set_ylabel('True labels')\n",
    "ax.set_title('Confusion Matrix Train Set')\n",
    "ax.xaxis.set_ticklabels(['Active', 'Churned'])\n",
    "ax.yaxis.set_ticklabels(['Active', 'Chruned'])\n",
    "print(cm)\n",
    "print('\\n')\n",
    "print(classification_report(y_train,log_pred))"
   ]
  },
  {
   "cell_type": "code",
   "execution_count": 43,
   "metadata": {},
   "outputs": [
    {
     "name": "stdout",
     "output_type": "stream",
     "text": [
      "[[12734  2210]\n",
      " [  727  2041]]\n",
      "\n",
      "\n",
      "              precision    recall  f1-score   support\n",
      "\n",
      "           0       0.95      0.85      0.90     14944\n",
      "           1       0.48      0.74      0.58      2768\n",
      "\n",
      "   micro avg       0.83      0.83      0.83     17712\n",
      "   macro avg       0.71      0.79      0.74     17712\n",
      "weighted avg       0.87      0.83      0.85     17712\n",
      "\n"
     ]
    },
    {
     "data": {
      "image/png": "[encoded data removed]",
      "text/plain": [
       "<Figure size 216x216 with 1 Axes>"
      ]
     },
     "metadata": {
      "needs_background": "light"
     },
     "output_type": "display_data"
    }
   ],
   "source": [
    "axis = plt.figure(figsize=(3,3))\n",
    "log_pred = log_model.predict(X_test_scaled)\n",
    "cm = confusion_matrix(y_test,log_pred)\n",
    "cm_perc = cm.astype('float64') / cm.sum(axis=1)[:, np.newaxis]\n",
    "annot = np.empty_like(cm).astype(str)\n",
    "nrows, ncols = cm.shape\n",
    "for i in range(nrows):\n",
    "    for j in range(ncols):\n",
    "        c = cm[i, j]\n",
    "        p = cm_perc[i, j]\n",
    "        annot[i, j] = '%.1f%%\\nN Users: %d' % (p*100, c)\n",
    "ax = plt.subplot()\n",
    "sns.heatmap(cm_perc, annot=annot, fmt='',ax = ax,cmap='RdBu',cbar=False)\n",
    "ax.set_xlabel('Predicted labels')\n",
    "ax.set_ylabel('True labels')\n",
    "ax.set_title('Confusion Matrix Test Set')\n",
    "ax.xaxis.set_ticklabels(['Active', 'Churned'])\n",
    "ax.yaxis.set_ticklabels(['Active', 'Chruned'])\n",
    "print(cm)\n",
    "print('\\n')\n",
    "print(classification_report(y_test,log_pred))"
   ]
  },
  {
   "cell_type": "code",
   "execution_count": 44,
   "metadata": {},
   "outputs": [],
   "source": [
    "df_train['Prob_Churn'] = log_model.predict_proba(X_train_scaled)[:,1]\n",
    "df_test['Prob_Churn'] = log_model.predict_proba(X_test_scaled)[:,1]"
   ]
  },
  {
   "cell_type": "code",
   "execution_count": 45,
   "metadata": {},
   "outputs": [
    {
     "data": {
      "image/png": "[encoded data removed]",
      "text/plain": [
       "<Figure size 432x432 with 1 Axes>"
      ]
     },
     "metadata": {
      "needs_background": "light"
     },
     "output_type": "display_data"
    }
   ],
   "source": [
    "from sklearn import metrics\n",
    "fpr_train, tpr_train, threshold_train = metrics.roc_curve(y_train, df_train['Prob_Churn'], pos_label=1)\n",
    "roc_auc_train = metrics.auc(fpr_train, tpr_train)\n",
    "fpr_test, tpr_test, threshold_test = metrics.roc_curve(y_test, df_test['Prob_Churn'], pos_label=1)\n",
    "roc_auc_test = metrics.auc(fpr_test, tpr_test)\n",
    "\n",
    "# method I: plt\n",
    "axis = plt.figure(figsize=(6,6))\n",
    "plt.title('Receiver Operating Characteristic')\n",
    "plt.plot(fpr_train, tpr_train, 'maroon',label = 'Train AUC = %0.2f' % roc_auc_train)\n",
    "plt.plot(fpr_test, tpr_test, 'mediumblue',label = 'Test AUC = %0.2f' % roc_auc_test)\n",
    "plt.legend(loc = 'lower right')\n",
    "plt.plot([0, 1], [0, 1],'k--')\n",
    "plt.xlim([0, 1])\n",
    "plt.ylim([0, 1])\n",
    "plt.ylabel('True Positive Rate')\n",
    "plt.xlabel('False Positive Rate')\n",
    "plt.show()"
   ]
  },
  {
   "cell_type": "code",
   "execution_count": 46,
   "metadata": {},
   "outputs": [
    {
     "data": {
      "image/png": "[encoded data removed]",
      "text/plain": [
       "<Figure size 432x432 with 1 Axes>"
      ]
     },
     "metadata": {
      "needs_background": "light"
     },
     "output_type": "display_data"
    }
   ],
   "source": [
    "precision_train, recall_train, threshold_train = metrics.precision_recall_curve(y_train, df_train['Prob_Churn'], pos_label=1)\n",
    "roc_auc_train = metrics.auc(recall_train, precision_train)\n",
    "precision_test, recall_test, threshold_test = metrics.precision_recall_curve(y_test, df_test['Prob_Churn'], pos_label=1)\n",
    "roc_auc_test = metrics.auc(recall_test, precision_test)\n",
    "\n",
    "# method I: plt\n",
    "axis = plt.figure(figsize=(6,6))\n",
    "plt.title('Precision-Recall Curve')\n",
    "plt.plot(recall_train, precision_train, 'maroon', label = 'precision-recall AUC Train = %0.2f' % roc_auc_train)\n",
    "plt.plot(recall_test, precision_test, 'mediumblue', label = 'precision-recall AUC Test = %0.2f' % roc_auc_test)\n",
    "plt.legend(loc = 'lower right')\n",
    "plt.plot([0, 1], [1, 0],'k--')\n",
    "plt.xlim([0, 1])\n",
    "plt.ylim([0, 1])\n",
    "plt.ylabel('Precision')\n",
    "plt.xlabel('Recall')\n",
    "plt.show()"
   ]
  },
  {
   "cell_type": "code",
   "execution_count": 47,
   "metadata": {
    "scrolled": false
   },
   "outputs": [
    {
     "data": {
      "image/png": "[encoded data removed]",
      "text/plain": [
       "<Figure size 1080x432 with 1 Axes>"
      ]
     },
     "metadata": {
      "needs_background": "light"
     },
     "output_type": "display_data"
    }
   ],
   "source": [
    "axis = plt.figure(figsize=(15,6))\n",
    "sns.distplot( df_train['Prob_Churn'][df_train['isChurned'] == 1] , color=\"maroon\", label=\"Churned\",bins=100,kde=False)\n",
    "sns.distplot( df_train['Prob_Churn'][df_train['isChurned'] == 0] , color=\"mediumblue\", label=\"Active\",bins=100,kde=False)\n",
    "plt.legend()\n",
    "plt.plot([0.5, 0.5], [0, 600],'k')\n",
    "plt.ylabel(\"Number of Users\")\n",
    "plt.xlabel(\"Logistic Regression Probability\")\n",
    "plt.title(\"Train Set Churn Probability\")\n",
    "plt.show()"
   ]
  },
  {
   "cell_type": "code",
   "execution_count": 48,
   "metadata": {},
   "outputs": [
    {
     "data": {
      "image/png": "[encoded data removed]",
      "text/plain": [
       "<Figure size 1080x432 with 1 Axes>"
      ]
     },
     "metadata": {
      "needs_background": "light"
     },
     "output_type": "display_data"
    }
   ],
   "source": [
    "axis = plt.figure(figsize=(15,6))\n",
    "sns.distplot( df_test['Prob_Churn'][df_test['isChurned'] == 0] , color=\"mediumblue\", label=\"Active\",bins=100,kde=False)\n",
    "sns.distplot( df_test['Prob_Churn'][df_test['isChurned'] == 1] , color=\"maroon\", label=\"Churned\",bins=100,kde=False)\n",
    "plt.legend()\n",
    "plt.plot([0.5, 0.5], [0, 400],'k')\n",
    "plt.ylabel(\"Number of Users\")\n",
    "plt.xlabel(\"Logistic Regression Probability\")\n",
    "plt.title(\"Test Set Churn Probability\")\n",
    "plt.show()"
   ]
  },
  {
   "cell_type": "code",
   "execution_count": 49,
   "metadata": {},
   "outputs": [],
   "source": [
    "feature_dict = {}\n",
    "for i in range(0,len(log_model.coef_[0])):\n",
    "    feature_dict[X_train.columns[i]] = abs(log_model.coef_[0][i])"
   ]
  },
  {
   "cell_type": "code",
   "execution_count": 50,
   "metadata": {},
   "outputs": [],
   "source": [
    "import operator\n",
    "features_sorted = sorted(feature_dict.items(), key=operator.itemgetter(1))"
   ]
  },
  {
   "cell_type": "code",
   "execution_count": 51,
   "metadata": {},
   "outputs": [
    {
     "name": "stdout",
     "output_type": "stream",
     "text": [
      "[('playtime_forever_mean_noZero_friends_mean', 0.008028591227704017), ('playtime_forever_std_noZero', 0.012488696217013451), ('appid_count_noZero_friends_mean', 0.012588854681020311), ('commentpermission', 0.01890273494801874), ('num_Zero_games', 0.022308354565338785), ('playtime_forever_sum_friends_mean', 0.02297757363190247), ('num_Friends_friends_mean', 0.03680784805968427), ('playtime_forever_std', 0.04427101542489702), ('Same_fav_as_friend', 0.07801505815545481), ('costom_avatar_friends_mean', 0.10869464959142529), ('costom_avatar', 0.12417204484246532), ('playtime_forever_mean_noZero', 0.12564985808968948), ('oldest_friend_time', 0.12865291246020946), ('profilestate', 0.18922106448995152), ('timecreated', 0.19456018538354372), ('playtime_forever_sum', 0.2153006683397124), ('num_Friends', 0.251845074553313), ('appid_count_noZero', 0.7640126133517864), ('playtime_forever_max', 0.7881186098308385), ('inClan_friends_mean', 4.638925189223487), ('newest_friend_time', 4.853549832262385)]\n"
     ]
    }
   ],
   "source": [
    "print(features_sorted)"
   ]
  },
  {
   "cell_type": "markdown",
   "metadata": {},
   "source": [
    "# Tune Regularizaion parameter"
   ]
  },
  {
   "cell_type": "code",
   "execution_count": 52,
   "metadata": {},
   "outputs": [],
   "source": [
    "from sklearn.metrics import balanced_accuracy_score, accuracy_score"
   ]
  },
  {
   "cell_type": "code",
   "execution_count": 53,
   "metadata": {},
   "outputs": [],
   "source": [
    "my_Cs = [0.001,0.003,0.01,0.03,0.1,0.3,1.0]\n",
    "bal_acc_test = []\n",
    "bal_acc_train = []\n",
    "acc_test = []\n",
    "acc_train = []\n",
    "for C in my_Cs:\n",
    "    log_model = LogisticRegression(random_state=10,solver='lbfgs',C=C)\n",
    "    log_model.fit(X_train_scaled,y_train)\n",
    "    y_pred_test = log_model.predict(X_test_scaled)\n",
    "    y_pred_train = log_model.predict(X_train_scaled)\n",
    "    bal_acc_test.append(balanced_accuracy_score(y_pred_test,y_test))\n",
    "    bal_acc_train.append(balanced_accuracy_score(y_pred_train,y_train))\n",
    "    acc_test.append(accuracy_score(y_pred_test,y_test))\n",
    "    acc_train.append(accuracy_score(y_pred_train,y_train))"
   ]
  },
  {
   "cell_type": "code",
   "execution_count": 54,
   "metadata": {
    "scrolled": true
   },
   "outputs": [
    {
     "data": {
      "image/png": "[encoded data removed]",
      "text/plain": [
       "<Figure size 432x288 with 1 Axes>"
      ]
     },
     "metadata": {
      "needs_background": "light"
     },
     "output_type": "display_data"
    }
   ],
   "source": [
    "plt.plot(my_Cs, acc_test,color='darkblue',marker='^',label='Test Set')\n",
    "plt.plot(my_Cs, acc_train,color='maroon',marker='^',label='Train Set')\n",
    "plt.legend()\n",
    "plt.plot([0.1, 0.1], [0.65, 0.85],'k')\n",
    "plt.ylabel(\"Balanced Accuracy Score\")\n",
    "plt.xlabel(\"L2 Regularizaiton Coeff\")\n",
    "plt.title(\"L2 Regularization Validation\")\n",
    "plt.show()"
   ]
  },
  {
   "cell_type": "markdown",
   "metadata": {},
   "source": [
    "# Learning curve"
   ]
  },
  {
   "cell_type": "code",
   "execution_count": 55,
   "metadata": {},
   "outputs": [],
   "source": [
    "my_fracs = [0.001,0.01,0.05,0.1,0.2,0.3,0.4,0.5,0.6,0.7,0.8,0.9,0.99]\n",
    "learning_train = []\n",
    "learning_test = []\n",
    "bal_learning_train = []\n",
    "bal_learning_test = []\n",
    "for frac in my_fracs:\n",
    "    log_model = LogisticRegression(random_state=10,solver='lbfgs',C=0.1)\n",
    "    X_train_scaled_extra, X_train_scaled_frac, y_train_extra, y_train_frac = train_test_split(X_train_scaled,y_train,test_size=frac,shuffle=True,stratify=y_train)\n",
    "    log_model.fit(X_train_scaled_frac,y_train_frac)\n",
    "    y_pred_test = log_model.predict(X_test_scaled)\n",
    "    y_pred_train = log_model.predict(X_train_scaled_frac)\n",
    "    bal_learning_test.append(balanced_accuracy_score(y_pred_test,y_test))\n",
    "    bal_learning_train.append(balanced_accuracy_score(y_pred_train,y_train_frac))\n",
    "    learning_test.append(accuracy_score(y_pred_test,y_test))\n",
    "    learning_train.append(accuracy_score(y_pred_train,y_train_frac))\n",
    "    \n",
    "    "
   ]
  },
  {
   "cell_type": "code",
   "execution_count": 56,
   "metadata": {},
   "outputs": [
    {
     "data": {
      "image/png": "[encoded data removed]",
      "text/plain": [
       "<Figure size 432x288 with 1 Axes>"
      ]
     },
     "metadata": {
      "needs_background": "light"
     },
     "output_type": "display_data"
    }
   ],
   "source": [
    "plt.plot(my_fracs, bal_learning_test,color='darkblue',marker='^',label='Test Set')\n",
    "plt.plot(my_fracs, bal_learning_train,color='maroon',marker='^',label='Train Set')\n",
    "plt.legend()\n",
    "plt.ylabel(\"Balanced Accuracy Score\")\n",
    "plt.xlabel(\"Fraction of Training data\")\n",
    "plt.title(\"Learning Curve\")\n",
    "plt.show()"
   ]
  },
  {
   "cell_type": "markdown",
   "metadata": {},
   "source": [
    "# Calculate Average Prob of Friends"
   ]
  },
  {
   "cell_type": "code",
   "execution_count": 57,
   "metadata": {},
   "outputs": [
    {
     "data": {
      "text/html": [
       "<div>\n",
       "<style scoped>\n",
       "    .dataframe tbody tr th:only-of-type {\n",
       "        vertical-align: middle;\n",
       "    }\n",
       "\n",
       "    .dataframe tbody tr th {\n",
       "        vertical-align: top;\n",
       "    }\n",
       "\n",
       "    .dataframe thead th {\n",
       "        text-align: right;\n",
       "    }\n",
       "</style>\n",
       "<table border=\"1\" class=\"dataframe\">\n",
       "  <thead>\n",
       "    <tr style=\"text-align: right;\">\n",
       "      <th></th>\n",
       "      <th>friend_since</th>\n",
       "      <th>relationship</th>\n",
       "      <th>steamid</th>\n",
       "      <th>steamid_orig</th>\n",
       "    </tr>\n",
       "  </thead>\n",
       "  <tbody>\n",
       "    <tr>\n",
       "      <th>0</th>\n",
       "      <td>1434524498</td>\n",
       "      <td>friend</td>\n",
       "      <td>76561198007070703</td>\n",
       "      <td>76561198199710782</td>\n",
       "    </tr>\n",
       "    <tr>\n",
       "      <th>1</th>\n",
       "      <td>1437740667</td>\n",
       "      <td>friend</td>\n",
       "      <td>76561198041503217</td>\n",
       "      <td>76561198199710782</td>\n",
       "    </tr>\n",
       "    <tr>\n",
       "      <th>2</th>\n",
       "      <td>1438264541</td>\n",
       "      <td>friend</td>\n",
       "      <td>76561198238259518</td>\n",
       "      <td>76561198199710782</td>\n",
       "    </tr>\n",
       "    <tr>\n",
       "      <th>3</th>\n",
       "      <td>1421677696</td>\n",
       "      <td>friend</td>\n",
       "      <td>76561197960448312</td>\n",
       "      <td>76561198049785932</td>\n",
       "    </tr>\n",
       "    <tr>\n",
       "      <th>4</th>\n",
       "      <td>1490267324</td>\n",
       "      <td>friend</td>\n",
       "      <td>76561197961426758</td>\n",
       "      <td>76561198049785932</td>\n",
       "    </tr>\n",
       "  </tbody>\n",
       "</table>\n",
       "</div>"
      ],
      "text/plain": [
       "   friend_since relationship            steamid       steamid_orig\n",
       "0    1434524498       friend  76561198007070703  76561198199710782\n",
       "1    1437740667       friend  76561198041503217  76561198199710782\n",
       "2    1438264541       friend  76561198238259518  76561198199710782\n",
       "3    1421677696       friend  76561197960448312  76561198049785932\n",
       "4    1490267324       friend  76561197961426758  76561198049785932"
      ]
     },
     "execution_count": 57,
     "metadata": {},
     "output_type": "execute_result"
    }
   ],
   "source": [
    "df_friend_full.head()"
   ]
  },
  {
   "cell_type": "code",
   "execution_count": 58,
   "metadata": {},
   "outputs": [
    {
     "name": "stderr",
     "output_type": "stream",
     "text": [
      "/anaconda2/lib/python3.6/site-packages/ipykernel_launcher.py:1: DataConversionWarning: Data with input dtype int64, float64 were all converted to float64 by StandardScaler.\n",
      "  \"\"\"Entry point for launching an IPython kernel.\n"
     ]
    }
   ],
   "source": [
    "X_full_scaled = scaler.transform(df_full_prof[X_train.columns])\n",
    "df_full_prof['Prob_Churned'] = log_model.predict_proba(X_full_scaled)[:,1]"
   ]
  },
  {
   "cell_type": "code",
   "execution_count": 59,
   "metadata": {},
   "outputs": [
    {
     "data": {
      "image/png": "[encoded data removed]",
      "text/plain": [
       "<Figure size 864x432 with 1 Axes>"
      ]
     },
     "metadata": {
      "needs_background": "light"
     },
     "output_type": "display_data"
    }
   ],
   "source": [
    "axis = plt.figure(figsize=(12,6))\n",
    "sns.distplot( df_full_prof['Prob_Churned'][df_full_prof['isChurned'] == 1] , color=\"maroon\", label=\"Churned\",bins=100,kde=False)\n",
    "sns.distplot( df_full_prof['Prob_Churned'][df_full_prof['isChurned'] == 0] , color=\"mediumblue\", label=\"Active\",bins=100,kde=False)\n",
    "plt.legend()\n",
    "plt.plot([0.5, 0.5], [0, 800],'k--')\n",
    "plt.ylabel(\"Number of Users\")\n",
    "plt.xlabel(\"Logistic Regression Probability\")\n",
    "plt.title(\"Full Data Churn Probability\")\n",
    "plt.show()"
   ]
  },
  {
   "cell_type": "code",
   "execution_count": 60,
   "metadata": {},
   "outputs": [
    {
     "name": "stdout",
     "output_type": "stream",
     "text": [
      "[[0.85259044 0.14740956]\n",
      " [0.25458881 0.74541119]]\n",
      "\n",
      "\n",
      "              precision    recall  f1-score   support\n",
      "\n",
      "           0       0.95      0.85      0.90     74717\n",
      "           1       0.48      0.75      0.59     13838\n",
      "\n",
      "   micro avg       0.84      0.84      0.84     88555\n",
      "   macro avg       0.72      0.80      0.74     88555\n",
      "weighted avg       0.88      0.84      0.85     88555\n",
      "\n"
     ]
    },
    {
     "data": {
      "image/png": "[encoded data removed]",
      "text/plain": [
       "<Figure size 216x216 with 1 Axes>"
      ]
     },
     "metadata": {
      "needs_background": "light"
     },
     "output_type": "display_data"
    }
   ],
   "source": [
    "axis = plt.figure(figsize=(3,3))\n",
    "log_pred = log_model.predict(X_full_scaled)\n",
    "cm = confusion_matrix(df_full_prof['isChurned'],log_pred)\n",
    "cm = cm.astype('float64') / cm.sum(axis=1)[:, np.newaxis]\n",
    "ax = plt.subplot()\n",
    "sns.heatmap(cm, annot=True, fmt='0.2f',ax = ax,cmap='RdBu',cbar=False)\n",
    "ax.set_xlabel('Predicted labels')\n",
    "ax.set_ylabel('True labels')\n",
    "ax.set_title('Confusion Matrix Full Set')\n",
    "ax.xaxis.set_ticklabels(['Active', 'Churned'])\n",
    "ax.yaxis.set_ticklabels(['Active', 'Chruned'])\n",
    "print(cm)\n",
    "print('\\n')\n",
    "print(classification_report(df_full_prof['isChurned'],log_pred))"
   ]
  },
  {
   "cell_type": "code",
   "execution_count": 61,
   "metadata": {},
   "outputs": [
    {
     "data": {
      "image/png": "[encoded data removed]",
      "text/plain": [
       "<Figure size 432x432 with 1 Axes>"
      ]
     },
     "metadata": {
      "needs_background": "light"
     },
     "output_type": "display_data"
    }
   ],
   "source": [
    "fpr_full, tpr_full, threshold_full = metrics.roc_curve(df_full_prof['isChurned'], df_full_prof['Prob_Churned'], pos_label=1)\n",
    "roc_auc_full = metrics.auc(fpr_full, tpr_full)\n",
    "\n",
    "# method I: plt\n",
    "axis = plt.figure(figsize=(6,6))\n",
    "plt.title('Receiver Operating Characteristic')\n",
    "plt.plot(fpr_train, tpr_train, 'maroon',label = 'Full AUC = %0.2f' % roc_auc_full)\n",
    "plt.legend(loc = 'lower right')\n",
    "plt.plot([0, 1], [0, 1],'k--')\n",
    "plt.xlim([0, 1])\n",
    "plt.ylim([0, 1])\n",
    "plt.ylabel('True Positive Rate')\n",
    "plt.xlabel('False Positive Rate')\n",
    "plt.show()"
   ]
  },
  {
   "cell_type": "code",
   "execution_count": 62,
   "metadata": {},
   "outputs": [],
   "source": [
    "df_friend_prob = pd.merge(df_friend_full,df_full_prof[['steamid','Prob_Churned']],on='steamid')"
   ]
  },
  {
   "cell_type": "code",
   "execution_count": 63,
   "metadata": {},
   "outputs": [
    {
     "data": {
      "text/html": [
       "<div>\n",
       "<style scoped>\n",
       "    .dataframe tbody tr th:only-of-type {\n",
       "        vertical-align: middle;\n",
       "    }\n",
       "\n",
       "    .dataframe tbody tr th {\n",
       "        vertical-align: top;\n",
       "    }\n",
       "\n",
       "    .dataframe thead th {\n",
       "        text-align: right;\n",
       "    }\n",
       "</style>\n",
       "<table border=\"1\" class=\"dataframe\">\n",
       "  <thead>\n",
       "    <tr style=\"text-align: right;\">\n",
       "      <th></th>\n",
       "      <th>friend_since</th>\n",
       "      <th>relationship</th>\n",
       "      <th>steamid</th>\n",
       "      <th>steamid_orig</th>\n",
       "      <th>Prob_Churned</th>\n",
       "    </tr>\n",
       "  </thead>\n",
       "  <tbody>\n",
       "    <tr>\n",
       "      <th>0</th>\n",
       "      <td>1434524498</td>\n",
       "      <td>friend</td>\n",
       "      <td>76561198007070703</td>\n",
       "      <td>76561198199710782</td>\n",
       "      <td>0.194375</td>\n",
       "    </tr>\n",
       "    <tr>\n",
       "      <th>1</th>\n",
       "      <td>1455556043</td>\n",
       "      <td>friend</td>\n",
       "      <td>76561198007070703</td>\n",
       "      <td>76561198119327769</td>\n",
       "      <td>0.194375</td>\n",
       "    </tr>\n",
       "    <tr>\n",
       "      <th>2</th>\n",
       "      <td>1488713631</td>\n",
       "      <td>friend</td>\n",
       "      <td>76561198007070703</td>\n",
       "      <td>76561198302636934</td>\n",
       "      <td>0.194375</td>\n",
       "    </tr>\n",
       "    <tr>\n",
       "      <th>3</th>\n",
       "      <td>1424045974</td>\n",
       "      <td>friend</td>\n",
       "      <td>76561198007070703</td>\n",
       "      <td>76561198035000472</td>\n",
       "      <td>0.194375</td>\n",
       "    </tr>\n",
       "    <tr>\n",
       "      <th>4</th>\n",
       "      <td>1403982908</td>\n",
       "      <td>friend</td>\n",
       "      <td>76561198007070703</td>\n",
       "      <td>76561198022371464</td>\n",
       "      <td>0.194375</td>\n",
       "    </tr>\n",
       "  </tbody>\n",
       "</table>\n",
       "</div>"
      ],
      "text/plain": [
       "   friend_since relationship            steamid       steamid_orig  \\\n",
       "0    1434524498       friend  76561198007070703  76561198199710782   \n",
       "1    1455556043       friend  76561198007070703  76561198119327769   \n",
       "2    1488713631       friend  76561198007070703  76561198302636934   \n",
       "3    1424045974       friend  76561198007070703  76561198035000472   \n",
       "4    1403982908       friend  76561198007070703  76561198022371464   \n",
       "\n",
       "   Prob_Churned  \n",
       "0      0.194375  \n",
       "1      0.194375  \n",
       "2      0.194375  \n",
       "3      0.194375  \n",
       "4      0.194375  "
      ]
     },
     "execution_count": 63,
     "metadata": {},
     "output_type": "execute_result"
    }
   ],
   "source": [
    "df_friend_prob.head()"
   ]
  },
  {
   "cell_type": "code",
   "execution_count": 64,
   "metadata": {},
   "outputs": [],
   "source": [
    "df_friend_prob = df_friend_prob.drop(['friend_since','relationship'],axis='columns')"
   ]
  },
  {
   "cell_type": "code",
   "execution_count": 65,
   "metadata": {},
   "outputs": [],
   "source": [
    "df_friends_prob_mean = pd.DataFrame(df_friend_prob.drop(['steamid'],axis='columns').groupby('steamid_orig').mean())"
   ]
  },
  {
   "cell_type": "code",
   "execution_count": 66,
   "metadata": {},
   "outputs": [
    {
     "data": {
      "text/html": [
       "<div>\n",
       "<style scoped>\n",
       "    .dataframe tbody tr th:only-of-type {\n",
       "        vertical-align: middle;\n",
       "    }\n",
       "\n",
       "    .dataframe tbody tr th {\n",
       "        vertical-align: top;\n",
       "    }\n",
       "\n",
       "    .dataframe thead th {\n",
       "        text-align: right;\n",
       "    }\n",
       "</style>\n",
       "<table border=\"1\" class=\"dataframe\">\n",
       "  <thead>\n",
       "    <tr style=\"text-align: right;\">\n",
       "      <th></th>\n",
       "      <th>Prob_Churned</th>\n",
       "    </tr>\n",
       "    <tr>\n",
       "      <th>steamid_orig</th>\n",
       "      <th></th>\n",
       "    </tr>\n",
       "  </thead>\n",
       "  <tbody>\n",
       "    <tr>\n",
       "      <th>76561197960265730</th>\n",
       "      <td>0.309063</td>\n",
       "    </tr>\n",
       "    <tr>\n",
       "      <th>76561197960265731</th>\n",
       "      <td>0.336681</td>\n",
       "    </tr>\n",
       "    <tr>\n",
       "      <th>76561197960265733</th>\n",
       "      <td>0.375774</td>\n",
       "    </tr>\n",
       "    <tr>\n",
       "      <th>76561197960265738</th>\n",
       "      <td>0.438336</td>\n",
       "    </tr>\n",
       "    <tr>\n",
       "      <th>76561197960265743</th>\n",
       "      <td>0.496083</td>\n",
       "    </tr>\n",
       "  </tbody>\n",
       "</table>\n",
       "</div>"
      ],
      "text/plain": [
       "                   Prob_Churned\n",
       "steamid_orig                   \n",
       "76561197960265730      0.309063\n",
       "76561197960265731      0.336681\n",
       "76561197960265733      0.375774\n",
       "76561197960265738      0.438336\n",
       "76561197960265743      0.496083"
      ]
     },
     "execution_count": 66,
     "metadata": {},
     "output_type": "execute_result"
    }
   ],
   "source": [
    "df_friends_prob_mean.head()"
   ]
  },
  {
   "cell_type": "code",
   "execution_count": 67,
   "metadata": {},
   "outputs": [],
   "source": [
    "df_friends_prob_mean = df_friends_prob_mean.add_suffix('_friends_mean')"
   ]
  },
  {
   "cell_type": "code",
   "execution_count": 68,
   "metadata": {},
   "outputs": [],
   "source": [
    "df_friends_prob_mean = df_friends_prob_mean.reset_index()\n",
    "df_friends_prob_mean['steamid'] = df_friends_prob_mean['steamid_orig']\n",
    "df_friends_prob_mean = df_friends_prob_mean.drop('steamid_orig',axis='columns')"
   ]
  },
  {
   "cell_type": "code",
   "execution_count": 69,
   "metadata": {},
   "outputs": [
    {
     "data": {
      "text/html": [
       "<div>\n",
       "<style scoped>\n",
       "    .dataframe tbody tr th:only-of-type {\n",
       "        vertical-align: middle;\n",
       "    }\n",
       "\n",
       "    .dataframe tbody tr th {\n",
       "        vertical-align: top;\n",
       "    }\n",
       "\n",
       "    .dataframe thead th {\n",
       "        text-align: right;\n",
       "    }\n",
       "</style>\n",
       "<table border=\"1\" class=\"dataframe\">\n",
       "  <thead>\n",
       "    <tr style=\"text-align: right;\">\n",
       "      <th></th>\n",
       "      <th>Prob_Churned_friends_mean</th>\n",
       "      <th>steamid</th>\n",
       "    </tr>\n",
       "  </thead>\n",
       "  <tbody>\n",
       "    <tr>\n",
       "      <th>0</th>\n",
       "      <td>0.309063</td>\n",
       "      <td>76561197960265730</td>\n",
       "    </tr>\n",
       "    <tr>\n",
       "      <th>1</th>\n",
       "      <td>0.336681</td>\n",
       "      <td>76561197960265731</td>\n",
       "    </tr>\n",
       "    <tr>\n",
       "      <th>2</th>\n",
       "      <td>0.375774</td>\n",
       "      <td>76561197960265733</td>\n",
       "    </tr>\n",
       "    <tr>\n",
       "      <th>3</th>\n",
       "      <td>0.438336</td>\n",
       "      <td>76561197960265738</td>\n",
       "    </tr>\n",
       "    <tr>\n",
       "      <th>4</th>\n",
       "      <td>0.496083</td>\n",
       "      <td>76561197960265743</td>\n",
       "    </tr>\n",
       "  </tbody>\n",
       "</table>\n",
       "</div>"
      ],
      "text/plain": [
       "   Prob_Churned_friends_mean            steamid\n",
       "0                   0.309063  76561197960265730\n",
       "1                   0.336681  76561197960265731\n",
       "2                   0.375774  76561197960265733\n",
       "3                   0.438336  76561197960265738\n",
       "4                   0.496083  76561197960265743"
      ]
     },
     "execution_count": 69,
     "metadata": {},
     "output_type": "execute_result"
    }
   ],
   "source": [
    "df_friends_prob_mean.head()"
   ]
  },
  {
   "cell_type": "code",
   "execution_count": 70,
   "metadata": {},
   "outputs": [],
   "source": [
    "df_friends_big = df_full_prof.merge(df_friends_prob_mean,on='steamid',how='left')"
   ]
  },
  {
   "cell_type": "code",
   "execution_count": 71,
   "metadata": {},
   "outputs": [
    {
     "data": {
      "text/html": [
       "<div>\n",
       "<style scoped>\n",
       "    .dataframe tbody tr th:only-of-type {\n",
       "        vertical-align: middle;\n",
       "    }\n",
       "\n",
       "    .dataframe tbody tr th {\n",
       "        vertical-align: top;\n",
       "    }\n",
       "\n",
       "    .dataframe thead th {\n",
       "        text-align: right;\n",
       "    }\n",
       "</style>\n",
       "<table border=\"1\" class=\"dataframe\">\n",
       "  <thead>\n",
       "    <tr style=\"text-align: right;\">\n",
       "      <th></th>\n",
       "      <th>num_Friends</th>\n",
       "      <th>steamid</th>\n",
       "      <th>newest_friend_time</th>\n",
       "      <th>oldest_friend_time</th>\n",
       "      <th>commentpermission</th>\n",
       "      <th>lastlogoff</th>\n",
       "      <th>profilestate</th>\n",
       "      <th>timecreated</th>\n",
       "      <th>costom_avatar</th>\n",
       "      <th>isPublic</th>\n",
       "      <th>...</th>\n",
       "      <th>appid_count_friends_mean</th>\n",
       "      <th>playtime_forever_mean_friends_mean</th>\n",
       "      <th>appid_count_noZero_friends_mean</th>\n",
       "      <th>playtime_forever_mean_noZero_friends_mean</th>\n",
       "      <th>isChurned_friends_mean</th>\n",
       "      <th>friends_fav_appid</th>\n",
       "      <th>Same_fav_as_friend</th>\n",
       "      <th>num_Zero_games</th>\n",
       "      <th>Prob_Churned</th>\n",
       "      <th>Prob_Churned_friends_mean</th>\n",
       "    </tr>\n",
       "  </thead>\n",
       "  <tbody>\n",
       "    <tr>\n",
       "      <th>0</th>\n",
       "      <td>9.0</td>\n",
       "      <td>76561197960265730</td>\n",
       "      <td>1.455907e+09</td>\n",
       "      <td>1.347314e+09</td>\n",
       "      <td>0.0</td>\n",
       "      <td>1.560120e+09</td>\n",
       "      <td>1.0</td>\n",
       "      <td>1.063193e+09</td>\n",
       "      <td>1</td>\n",
       "      <td>1</td>\n",
       "      <td>...</td>\n",
       "      <td>0.000000</td>\n",
       "      <td>0.000000</td>\n",
       "      <td>0.000000</td>\n",
       "      <td>0.000000</td>\n",
       "      <td>0.166667</td>\n",
       "      <td>0.0</td>\n",
       "      <td>1</td>\n",
       "      <td>0.0</td>\n",
       "      <td>0.728790</td>\n",
       "      <td>0.309063</td>\n",
       "    </tr>\n",
       "    <tr>\n",
       "      <th>1</th>\n",
       "      <td>174.0</td>\n",
       "      <td>76561197960265731</td>\n",
       "      <td>1.534047e+09</td>\n",
       "      <td>0.000000e+00</td>\n",
       "      <td>1.0</td>\n",
       "      <td>1.560203e+09</td>\n",
       "      <td>1.0</td>\n",
       "      <td>1.063192e+09</td>\n",
       "      <td>1</td>\n",
       "      <td>1</td>\n",
       "      <td>...</td>\n",
       "      <td>83.059524</td>\n",
       "      <td>24.914479</td>\n",
       "      <td>27.642857</td>\n",
       "      <td>67.770969</td>\n",
       "      <td>0.119048</td>\n",
       "      <td>72850.0</td>\n",
       "      <td>0</td>\n",
       "      <td>0.0</td>\n",
       "      <td>0.249922</td>\n",
       "      <td>0.336681</td>\n",
       "    </tr>\n",
       "    <tr>\n",
       "      <th>2</th>\n",
       "      <td>70.0</td>\n",
       "      <td>76561197960265733</td>\n",
       "      <td>1.498068e+09</td>\n",
       "      <td>0.000000e+00</td>\n",
       "      <td>0.0</td>\n",
       "      <td>1.547593e+09</td>\n",
       "      <td>1.0</td>\n",
       "      <td>1.063193e+09</td>\n",
       "      <td>1</td>\n",
       "      <td>1</td>\n",
       "      <td>...</td>\n",
       "      <td>78.785714</td>\n",
       "      <td>16.414644</td>\n",
       "      <td>40.309524</td>\n",
       "      <td>36.069376</td>\n",
       "      <td>0.095238</td>\n",
       "      <td>578080.0</td>\n",
       "      <td>0</td>\n",
       "      <td>0.0</td>\n",
       "      <td>0.419333</td>\n",
       "      <td>0.375774</td>\n",
       "    </tr>\n",
       "    <tr>\n",
       "      <th>3</th>\n",
       "      <td>91.0</td>\n",
       "      <td>76561197960265738</td>\n",
       "      <td>1.548740e+09</td>\n",
       "      <td>0.000000e+00</td>\n",
       "      <td>1.0</td>\n",
       "      <td>1.559372e+09</td>\n",
       "      <td>1.0</td>\n",
       "      <td>1.063233e+09</td>\n",
       "      <td>1</td>\n",
       "      <td>1</td>\n",
       "      <td>...</td>\n",
       "      <td>102.134328</td>\n",
       "      <td>42.687874</td>\n",
       "      <td>42.447761</td>\n",
       "      <td>101.412194</td>\n",
       "      <td>0.253731</td>\n",
       "      <td>72850.0</td>\n",
       "      <td>0</td>\n",
       "      <td>0.0</td>\n",
       "      <td>0.227334</td>\n",
       "      <td>0.438336</td>\n",
       "    </tr>\n",
       "    <tr>\n",
       "      <th>4</th>\n",
       "      <td>66.0</td>\n",
       "      <td>76561197960265743</td>\n",
       "      <td>1.534368e+09</td>\n",
       "      <td>0.000000e+00</td>\n",
       "      <td>0.0</td>\n",
       "      <td>1.557252e+09</td>\n",
       "      <td>1.0</td>\n",
       "      <td>1.063236e+09</td>\n",
       "      <td>1</td>\n",
       "      <td>1</td>\n",
       "      <td>...</td>\n",
       "      <td>95.062500</td>\n",
       "      <td>34.489156</td>\n",
       "      <td>48.750000</td>\n",
       "      <td>72.782834</td>\n",
       "      <td>0.291667</td>\n",
       "      <td>578080.0</td>\n",
       "      <td>0</td>\n",
       "      <td>0.0</td>\n",
       "      <td>0.258034</td>\n",
       "      <td>0.496083</td>\n",
       "    </tr>\n",
       "  </tbody>\n",
       "</table>\n",
       "<p>5 rows × 38 columns</p>\n",
       "</div>"
      ],
      "text/plain": [
       "   num_Friends            steamid  newest_friend_time  oldest_friend_time  \\\n",
       "0          9.0  76561197960265730        1.455907e+09        1.347314e+09   \n",
       "1        174.0  76561197960265731        1.534047e+09        0.000000e+00   \n",
       "2         70.0  76561197960265733        1.498068e+09        0.000000e+00   \n",
       "3         91.0  76561197960265738        1.548740e+09        0.000000e+00   \n",
       "4         66.0  76561197960265743        1.534368e+09        0.000000e+00   \n",
       "\n",
       "   commentpermission    lastlogoff  profilestate   timecreated  costom_avatar  \\\n",
       "0                0.0  1.560120e+09           1.0  1.063193e+09              1   \n",
       "1                1.0  1.560203e+09           1.0  1.063192e+09              1   \n",
       "2                0.0  1.547593e+09           1.0  1.063193e+09              1   \n",
       "3                1.0  1.559372e+09           1.0  1.063233e+09              1   \n",
       "4                0.0  1.557252e+09           1.0  1.063236e+09              1   \n",
       "\n",
       "   isPublic  ...  appid_count_friends_mean  \\\n",
       "0         1  ...                  0.000000   \n",
       "1         1  ...                 83.059524   \n",
       "2         1  ...                 78.785714   \n",
       "3         1  ...                102.134328   \n",
       "4         1  ...                 95.062500   \n",
       "\n",
       "   playtime_forever_mean_friends_mean  appid_count_noZero_friends_mean  \\\n",
       "0                            0.000000                         0.000000   \n",
       "1                           24.914479                        27.642857   \n",
       "2                           16.414644                        40.309524   \n",
       "3                           42.687874                        42.447761   \n",
       "4                           34.489156                        48.750000   \n",
       "\n",
       "   playtime_forever_mean_noZero_friends_mean  isChurned_friends_mean  \\\n",
       "0                                   0.000000                0.166667   \n",
       "1                                  67.770969                0.119048   \n",
       "2                                  36.069376                0.095238   \n",
       "3                                 101.412194                0.253731   \n",
       "4                                  72.782834                0.291667   \n",
       "\n",
       "   friends_fav_appid  Same_fav_as_friend  num_Zero_games  Prob_Churned  \\\n",
       "0                0.0                   1             0.0      0.728790   \n",
       "1            72850.0                   0             0.0      0.249922   \n",
       "2           578080.0                   0             0.0      0.419333   \n",
       "3            72850.0                   0             0.0      0.227334   \n",
       "4           578080.0                   0             0.0      0.258034   \n",
       "\n",
       "   Prob_Churned_friends_mean  \n",
       "0                   0.309063  \n",
       "1                   0.336681  \n",
       "2                   0.375774  \n",
       "3                   0.438336  \n",
       "4                   0.496083  \n",
       "\n",
       "[5 rows x 38 columns]"
      ]
     },
     "execution_count": 71,
     "metadata": {},
     "output_type": "execute_result"
    }
   ],
   "source": [
    "df_friends_big.head()"
   ]
  },
  {
   "cell_type": "code",
   "execution_count": 72,
   "metadata": {},
   "outputs": [
    {
     "data": {
      "text/html": [
       "<div>\n",
       "<style scoped>\n",
       "    .dataframe tbody tr th:only-of-type {\n",
       "        vertical-align: middle;\n",
       "    }\n",
       "\n",
       "    .dataframe tbody tr th {\n",
       "        vertical-align: top;\n",
       "    }\n",
       "\n",
       "    .dataframe thead th {\n",
       "        text-align: right;\n",
       "    }\n",
       "</style>\n",
       "<table border=\"1\" class=\"dataframe\">\n",
       "  <thead>\n",
       "    <tr style=\"text-align: right;\">\n",
       "      <th></th>\n",
       "      <th>isChurned_friends_mean</th>\n",
       "      <th>Prob_Churned_friends_mean</th>\n",
       "      <th>isChurned</th>\n",
       "      <th>Prob_Churned</th>\n",
       "    </tr>\n",
       "  </thead>\n",
       "  <tbody>\n",
       "    <tr>\n",
       "      <th>isChurned_friends_mean</th>\n",
       "      <td>1.000000</td>\n",
       "      <td>0.513136</td>\n",
       "      <td>0.151958</td>\n",
       "      <td>0.202054</td>\n",
       "    </tr>\n",
       "    <tr>\n",
       "      <th>Prob_Churned_friends_mean</th>\n",
       "      <td>0.513136</td>\n",
       "      <td>1.000000</td>\n",
       "      <td>0.166360</td>\n",
       "      <td>0.321809</td>\n",
       "    </tr>\n",
       "    <tr>\n",
       "      <th>isChurned</th>\n",
       "      <td>0.151958</td>\n",
       "      <td>0.166360</td>\n",
       "      <td>1.000000</td>\n",
       "      <td>0.535975</td>\n",
       "    </tr>\n",
       "    <tr>\n",
       "      <th>Prob_Churned</th>\n",
       "      <td>0.202054</td>\n",
       "      <td>0.321809</td>\n",
       "      <td>0.535975</td>\n",
       "      <td>1.000000</td>\n",
       "    </tr>\n",
       "  </tbody>\n",
       "</table>\n",
       "</div>"
      ],
      "text/plain": [
       "                           isChurned_friends_mean  Prob_Churned_friends_mean  \\\n",
       "isChurned_friends_mean                   1.000000                   0.513136   \n",
       "Prob_Churned_friends_mean                0.513136                   1.000000   \n",
       "isChurned                                0.151958                   0.166360   \n",
       "Prob_Churned                             0.202054                   0.321809   \n",
       "\n",
       "                           isChurned  Prob_Churned  \n",
       "isChurned_friends_mean      0.151958      0.202054  \n",
       "Prob_Churned_friends_mean   0.166360      0.321809  \n",
       "isChurned                   1.000000      0.535975  \n",
       "Prob_Churned                0.535975      1.000000  "
      ]
     },
     "execution_count": 72,
     "metadata": {},
     "output_type": "execute_result"
    }
   ],
   "source": [
    "df_friends_big[['isChurned_friends_mean','Prob_Churned_friends_mean','isChurned','Prob_Churned']].corr()"
   ]
  },
  {
   "cell_type": "code",
   "execution_count": 73,
   "metadata": {},
   "outputs": [
    {
     "name": "stdout",
     "output_type": "stream",
     "text": [
      "('num_Friends', -0.2504394844306364)\n",
      "('newest_friend_time', -4.828010434146208)\n",
      "('oldest_friend_time', 0.12491727462385273)\n",
      "('commentpermission', 0.019533984781919436)\n",
      "('profilestate', -0.18881395691154873)\n",
      "('timecreated', 0.1954629880832896)\n",
      "('costom_avatar', -0.12572664644987522)\n",
      "('playtime_forever_sum', 0.21569294573775635)\n",
      "('playtime_forever_std', -0.04802050841496104)\n",
      "('playtime_forever_max', -0.7798520941067988)\n",
      "('appid_count_noZero', -0.7595954111447103)\n",
      "('playtime_forever_mean_noZero', 0.12543851686721044)\n",
      "('playtime_forever_std_noZero', 0.013071349250309986)\n",
      "('num_Friends_friends_mean', -0.03835719657568312)\n",
      "('costom_avatar_friends_mean', 0.1156157090806281)\n",
      "('inClan_friends_mean', 4.608621834634274)\n",
      "('playtime_forever_sum_friends_mean', -0.022374465913820776)\n",
      "('appid_count_noZero_friends_mean', -0.013964911798199245)\n",
      "('playtime_forever_mean_noZero_friends_mean', 0.009627774792880808)\n",
      "('Same_fav_as_friend', 0.07683098392322647)\n",
      "('num_Zero_games', 0.021631004239985426)\n"
     ]
    }
   ],
   "source": [
    "for i in range(0,len(log_model.coef_[0])):\n",
    "    print((X_train.columns[i],(log_model.coef_[0][i])))"
   ]
  },
  {
   "cell_type": "code",
   "execution_count": 74,
   "metadata": {},
   "outputs": [],
   "source": [
    "sorted_index = np.argsort(abs(log_model.coef_[0]))[::-1]"
   ]
  },
  {
   "cell_type": "code",
   "execution_count": 75,
   "metadata": {},
   "outputs": [
    {
     "name": "stdout",
     "output_type": "stream",
     "text": [
      "[-4.82801043  4.60862183 -0.77985209 -0.75959541 -0.25043948  0.21569295\n",
      "  0.19546299 -0.18881396 -0.12572665  0.12543852  0.12491727  0.11561571\n",
      "  0.07683098 -0.04802051 -0.0383572  -0.02237447  0.021631    0.01953398\n",
      " -0.01396491  0.01307135  0.00962777]\n"
     ]
    }
   ],
   "source": [
    "print(log_model.coef_[0][sorted_index])"
   ]
  },
  {
   "cell_type": "code",
   "execution_count": 76,
   "metadata": {},
   "outputs": [
    {
     "data": {
      "text/plain": [
       "Index(['newest_friend_time', 'inClan_friends_mean', 'playtime_forever_max',\n",
       "       'appid_count_noZero', 'num_Friends', 'playtime_forever_sum',\n",
       "       'timecreated', 'profilestate', 'costom_avatar',\n",
       "       'playtime_forever_mean_noZero', 'oldest_friend_time',\n",
       "       'costom_avatar_friends_mean', 'Same_fav_as_friend',\n",
       "       'playtime_forever_std', 'num_Friends_friends_mean',\n",
       "       'playtime_forever_sum_friends_mean', 'num_Zero_games',\n",
       "       'commentpermission', 'appid_count_noZero_friends_mean',\n",
       "       'playtime_forever_std_noZero',\n",
       "       'playtime_forever_mean_noZero_friends_mean'],\n",
       "      dtype='object')"
      ]
     },
     "execution_count": 76,
     "metadata": {},
     "output_type": "execute_result"
    }
   ],
   "source": [
    "X_train.columns[sorted_index]"
   ]
  },
  {
   "cell_type": "code",
   "execution_count": 77,
   "metadata": {},
   "outputs": [],
   "source": [
    "df_friends_big['Add_Friend'] = df_friends_big['Prob_Churned']+0"
   ]
  },
  {
   "cell_type": "code",
   "execution_count": 78,
   "metadata": {},
   "outputs": [],
   "source": [
    "df_friends_big['Play_owned_game'] = df_friends_big['Prob_Churned']+0"
   ]
  },
  {
   "cell_type": "code",
   "execution_count": 79,
   "metadata": {},
   "outputs": [],
   "source": [
    "df_friends_big['Get_new_game'] = df_friends_big['Prob_Churned']+0"
   ]
  },
  {
   "cell_type": "code",
   "execution_count": 80,
   "metadata": {},
   "outputs": [],
   "source": [
    "df_friends_big['Get_and_play_new_game'] = df_friends_big['Prob_Churned']+0"
   ]
  },
  {
   "cell_type": "code",
   "execution_count": 81,
   "metadata": {},
   "outputs": [],
   "source": [
    "df_friends_big['Set_community_profile'] = df_friends_big['Prob_Churned']+0"
   ]
  },
  {
   "cell_type": "code",
   "execution_count": 82,
   "metadata": {},
   "outputs": [],
   "source": [
    "df_friends_big['Play_friends_game'] = df_friends_big['Prob_Churned']+0"
   ]
  },
  {
   "cell_type": "code",
   "execution_count": 83,
   "metadata": {},
   "outputs": [
    {
     "data": {
      "text/html": [
       "<div>\n",
       "<style scoped>\n",
       "    .dataframe tbody tr th:only-of-type {\n",
       "        vertical-align: middle;\n",
       "    }\n",
       "\n",
       "    .dataframe tbody tr th {\n",
       "        vertical-align: top;\n",
       "    }\n",
       "\n",
       "    .dataframe thead th {\n",
       "        text-align: right;\n",
       "    }\n",
       "</style>\n",
       "<table border=\"1\" class=\"dataframe\">\n",
       "  <thead>\n",
       "    <tr style=\"text-align: right;\">\n",
       "      <th></th>\n",
       "      <th>num_Friends</th>\n",
       "      <th>steamid</th>\n",
       "      <th>newest_friend_time</th>\n",
       "      <th>oldest_friend_time</th>\n",
       "      <th>commentpermission</th>\n",
       "      <th>lastlogoff</th>\n",
       "      <th>profilestate</th>\n",
       "      <th>timecreated</th>\n",
       "      <th>costom_avatar</th>\n",
       "      <th>isPublic</th>\n",
       "      <th>...</th>\n",
       "      <th>Same_fav_as_friend</th>\n",
       "      <th>num_Zero_games</th>\n",
       "      <th>Prob_Churned</th>\n",
       "      <th>Prob_Churned_friends_mean</th>\n",
       "      <th>Add_Friend</th>\n",
       "      <th>Play_owned_game</th>\n",
       "      <th>Get_new_game</th>\n",
       "      <th>Get_and_play_new_game</th>\n",
       "      <th>Set_community_profile</th>\n",
       "      <th>Play_friends_game</th>\n",
       "    </tr>\n",
       "  </thead>\n",
       "  <tbody>\n",
       "    <tr>\n",
       "      <th>0</th>\n",
       "      <td>9.0</td>\n",
       "      <td>76561197960265730</td>\n",
       "      <td>1.455907e+09</td>\n",
       "      <td>1.347314e+09</td>\n",
       "      <td>0.0</td>\n",
       "      <td>1.560120e+09</td>\n",
       "      <td>1.0</td>\n",
       "      <td>1.063193e+09</td>\n",
       "      <td>1</td>\n",
       "      <td>1</td>\n",
       "      <td>...</td>\n",
       "      <td>1</td>\n",
       "      <td>0.0</td>\n",
       "      <td>0.728790</td>\n",
       "      <td>0.309063</td>\n",
       "      <td>0.728790</td>\n",
       "      <td>0.728790</td>\n",
       "      <td>0.728790</td>\n",
       "      <td>0.728790</td>\n",
       "      <td>0.728790</td>\n",
       "      <td>0.728790</td>\n",
       "    </tr>\n",
       "    <tr>\n",
       "      <th>1</th>\n",
       "      <td>174.0</td>\n",
       "      <td>76561197960265731</td>\n",
       "      <td>1.534047e+09</td>\n",
       "      <td>0.000000e+00</td>\n",
       "      <td>1.0</td>\n",
       "      <td>1.560203e+09</td>\n",
       "      <td>1.0</td>\n",
       "      <td>1.063192e+09</td>\n",
       "      <td>1</td>\n",
       "      <td>1</td>\n",
       "      <td>...</td>\n",
       "      <td>0</td>\n",
       "      <td>0.0</td>\n",
       "      <td>0.249922</td>\n",
       "      <td>0.336681</td>\n",
       "      <td>0.249922</td>\n",
       "      <td>0.249922</td>\n",
       "      <td>0.249922</td>\n",
       "      <td>0.249922</td>\n",
       "      <td>0.249922</td>\n",
       "      <td>0.249922</td>\n",
       "    </tr>\n",
       "    <tr>\n",
       "      <th>2</th>\n",
       "      <td>70.0</td>\n",
       "      <td>76561197960265733</td>\n",
       "      <td>1.498068e+09</td>\n",
       "      <td>0.000000e+00</td>\n",
       "      <td>0.0</td>\n",
       "      <td>1.547593e+09</td>\n",
       "      <td>1.0</td>\n",
       "      <td>1.063193e+09</td>\n",
       "      <td>1</td>\n",
       "      <td>1</td>\n",
       "      <td>...</td>\n",
       "      <td>0</td>\n",
       "      <td>0.0</td>\n",
       "      <td>0.419333</td>\n",
       "      <td>0.375774</td>\n",
       "      <td>0.419333</td>\n",
       "      <td>0.419333</td>\n",
       "      <td>0.419333</td>\n",
       "      <td>0.419333</td>\n",
       "      <td>0.419333</td>\n",
       "      <td>0.419333</td>\n",
       "    </tr>\n",
       "    <tr>\n",
       "      <th>3</th>\n",
       "      <td>91.0</td>\n",
       "      <td>76561197960265738</td>\n",
       "      <td>1.548740e+09</td>\n",
       "      <td>0.000000e+00</td>\n",
       "      <td>1.0</td>\n",
       "      <td>1.559372e+09</td>\n",
       "      <td>1.0</td>\n",
       "      <td>1.063233e+09</td>\n",
       "      <td>1</td>\n",
       "      <td>1</td>\n",
       "      <td>...</td>\n",
       "      <td>0</td>\n",
       "      <td>0.0</td>\n",
       "      <td>0.227334</td>\n",
       "      <td>0.438336</td>\n",
       "      <td>0.227334</td>\n",
       "      <td>0.227334</td>\n",
       "      <td>0.227334</td>\n",
       "      <td>0.227334</td>\n",
       "      <td>0.227334</td>\n",
       "      <td>0.227334</td>\n",
       "    </tr>\n",
       "    <tr>\n",
       "      <th>4</th>\n",
       "      <td>66.0</td>\n",
       "      <td>76561197960265743</td>\n",
       "      <td>1.534368e+09</td>\n",
       "      <td>0.000000e+00</td>\n",
       "      <td>0.0</td>\n",
       "      <td>1.557252e+09</td>\n",
       "      <td>1.0</td>\n",
       "      <td>1.063236e+09</td>\n",
       "      <td>1</td>\n",
       "      <td>1</td>\n",
       "      <td>...</td>\n",
       "      <td>0</td>\n",
       "      <td>0.0</td>\n",
       "      <td>0.258034</td>\n",
       "      <td>0.496083</td>\n",
       "      <td>0.258034</td>\n",
       "      <td>0.258034</td>\n",
       "      <td>0.258034</td>\n",
       "      <td>0.258034</td>\n",
       "      <td>0.258034</td>\n",
       "      <td>0.258034</td>\n",
       "    </tr>\n",
       "  </tbody>\n",
       "</table>\n",
       "<p>5 rows × 44 columns</p>\n",
       "</div>"
      ],
      "text/plain": [
       "   num_Friends            steamid  newest_friend_time  oldest_friend_time  \\\n",
       "0          9.0  76561197960265730        1.455907e+09        1.347314e+09   \n",
       "1        174.0  76561197960265731        1.534047e+09        0.000000e+00   \n",
       "2         70.0  76561197960265733        1.498068e+09        0.000000e+00   \n",
       "3         91.0  76561197960265738        1.548740e+09        0.000000e+00   \n",
       "4         66.0  76561197960265743        1.534368e+09        0.000000e+00   \n",
       "\n",
       "   commentpermission    lastlogoff  profilestate   timecreated  costom_avatar  \\\n",
       "0                0.0  1.560120e+09           1.0  1.063193e+09              1   \n",
       "1                1.0  1.560203e+09           1.0  1.063192e+09              1   \n",
       "2                0.0  1.547593e+09           1.0  1.063193e+09              1   \n",
       "3                1.0  1.559372e+09           1.0  1.063233e+09              1   \n",
       "4                0.0  1.557252e+09           1.0  1.063236e+09              1   \n",
       "\n",
       "   isPublic  ...  Same_fav_as_friend  num_Zero_games  Prob_Churned  \\\n",
       "0         1  ...                   1             0.0      0.728790   \n",
       "1         1  ...                   0             0.0      0.249922   \n",
       "2         1  ...                   0             0.0      0.419333   \n",
       "3         1  ...                   0             0.0      0.227334   \n",
       "4         1  ...                   0             0.0      0.258034   \n",
       "\n",
       "   Prob_Churned_friends_mean  Add_Friend  Play_owned_game  Get_new_game  \\\n",
       "0                   0.309063    0.728790         0.728790      0.728790   \n",
       "1                   0.336681    0.249922         0.249922      0.249922   \n",
       "2                   0.375774    0.419333         0.419333      0.419333   \n",
       "3                   0.438336    0.227334         0.227334      0.227334   \n",
       "4                   0.496083    0.258034         0.258034      0.258034   \n",
       "\n",
       "   Get_and_play_new_game  Set_community_profile  Play_friends_game  \n",
       "0               0.728790               0.728790           0.728790  \n",
       "1               0.249922               0.249922           0.249922  \n",
       "2               0.419333               0.419333           0.419333  \n",
       "3               0.227334               0.227334           0.227334  \n",
       "4               0.258034               0.258034           0.258034  \n",
       "\n",
       "[5 rows x 44 columns]"
      ]
     },
     "execution_count": 83,
     "metadata": {},
     "output_type": "execute_result"
    }
   ],
   "source": [
    "df_friends_big.head()"
   ]
  },
  {
   "cell_type": "code",
   "execution_count": 84,
   "metadata": {},
   "outputs": [
    {
     "name": "stdout",
     "output_type": "stream",
     "text": [
      "<class 'pandas.core.frame.DataFrame'>\n",
      "Int64Index: 88555 entries, 0 to 88554\n",
      "Data columns (total 44 columns):\n",
      "num_Friends                                  88555 non-null float64\n",
      "steamid                                      88555 non-null int64\n",
      "newest_friend_time                           88555 non-null float64\n",
      "oldest_friend_time                           88555 non-null float64\n",
      "commentpermission                            88555 non-null float64\n",
      "lastlogoff                                   88555 non-null float64\n",
      "profilestate                                 88555 non-null float64\n",
      "timecreated                                  88555 non-null float64\n",
      "costom_avatar                                88555 non-null int64\n",
      "isPublic                                     88555 non-null int64\n",
      "isFriendsOnly                                88555 non-null int64\n",
      "isPrivate                                    88555 non-null int64\n",
      "inClan                                       88555 non-null int64\n",
      "playtime_forever_sum                         88555 non-null float64\n",
      "appid_count                                  88555 non-null float64\n",
      "playtime_forever_mean                        88555 non-null float64\n",
      "playtime_forever_std                         88555 non-null float64\n",
      "appid_max                                    88555 non-null float64\n",
      "playtime_forever_max                         88555 non-null float64\n",
      "appid_count_noZero                           88555 non-null float64\n",
      "playtime_forever_mean_noZero                 88555 non-null float64\n",
      "playtime_forever_std_noZero                  88555 non-null float64\n",
      "isChurned                                    88555 non-null int64\n",
      "num_Friends_friends_mean                     88555 non-null float64\n",
      "commentpermission_friends_mean               88555 non-null float64\n",
      "costom_avatar_friends_mean                   88555 non-null float64\n",
      "inClan_friends_mean                          88555 non-null float64\n",
      "playtime_forever_sum_friends_mean            88555 non-null float64\n",
      "appid_count_friends_mean                     88555 non-null float64\n",
      "playtime_forever_mean_friends_mean           88555 non-null float64\n",
      "appid_count_noZero_friends_mean              88555 non-null float64\n",
      "playtime_forever_mean_noZero_friends_mean    88555 non-null float64\n",
      "isChurned_friends_mean                       88555 non-null float64\n",
      "friends_fav_appid                            88555 non-null float64\n",
      "Same_fav_as_friend                           88555 non-null int64\n",
      "num_Zero_games                               88555 non-null float64\n",
      "Prob_Churned                                 88555 non-null float64\n",
      "Prob_Churned_friends_mean                    84637 non-null float64\n",
      "Add_Friend                                   88555 non-null float64\n",
      "Play_owned_game                              88555 non-null float64\n",
      "Get_new_game                                 88555 non-null float64\n",
      "Get_and_play_new_game                        88555 non-null float64\n",
      "Set_community_profile                        88555 non-null float64\n",
      "Play_friends_game                            88555 non-null float64\n",
      "dtypes: float64(36), int64(8)\n",
      "memory usage: 30.4 MB\n"
     ]
    }
   ],
   "source": [
    "df_friends_big.info()"
   ]
  },
  {
   "cell_type": "code",
   "execution_count": 85,
   "metadata": {},
   "outputs": [],
   "source": [
    "df_friends_small = df_friends_big[['steamid','Prob_Churned', 'Prob_Churned_friends_mean', 'Add_Friend', 'Play_owned_game', 'Get_new_game', 'Get_and_play_new_game', 'Set_community_profile', 'Play_friends_game']]"
   ]
  },
  {
   "cell_type": "code",
   "execution_count": 86,
   "metadata": {},
   "outputs": [],
   "source": [
    "as_dict = df_friends_small.set_index('steamid').to_dict()"
   ]
  },
  {
   "cell_type": "code",
   "execution_count": 87,
   "metadata": {},
   "outputs": [
    {
     "data": {
      "image/png": "[encoded data removed]",
      "text/plain": [
       "<Figure size 432x432 with 1 Axes>"
      ]
     },
     "metadata": {
      "needs_background": "light"
     },
     "output_type": "display_data"
    }
   ],
   "source": [
    "axis = plt.figure(figsize=(6,6))\n",
    "sns.distplot( df_friends_big['Prob_Churned'] , color=\"maroon\", label=\"All Users\",bins=100,kde=False)\n",
    "plt.legend()\n",
    "plt.plot([0.5, 0.5], [0, 800],'k--')\n",
    "plt.ylabel(\"Number of Users\")\n",
    "plt.xlabel(\"Probability to Churn\")\n",
    "plt.title(\"User's likelihood to Churn\")\n",
    "plt.show()"
   ]
  },
  {
   "cell_type": "code",
   "execution_count": 88,
   "metadata": {},
   "outputs": [
    {
     "data": {
      "text/plain": [
       "0.7287898628788054"
      ]
     },
     "execution_count": 88,
     "metadata": {},
     "output_type": "execute_result"
    }
   ],
   "source": [
    "df_friends_big.loc[df_friends_big['steamid'] == 76561197960265730,'Prob_Churned'].to_list()[0]"
   ]
  },
  {
   "cell_type": "code",
   "execution_count": 89,
   "metadata": {},
   "outputs": [],
   "source": [
    "n = 0"
   ]
  },
  {
   "cell_type": "code",
   "execution_count": 90,
   "metadata": {},
   "outputs": [],
   "source": [
    "import json\n",
    "json = json.dumps(as_dict)\n",
    "f = open(\"SteamChurn.json\",\"w\")\n",
    "f.write(json)\n",
    "f.close()"
   ]
  },
  {
   "cell_type": "code",
   "execution_count": 91,
   "metadata": {},
   "outputs": [
    {
     "data": {
      "text/plain": [
       "dict_keys(['Prob_Churned', 'Prob_Churned_friends_mean', 'Add_Friend', 'Play_owned_game', 'Get_new_game', 'Get_and_play_new_game', 'Set_community_profile', 'Play_friends_game'])"
      ]
     },
     "execution_count": 91,
     "metadata": {},
     "output_type": "execute_result"
    }
   ],
   "source": [
    "as_dict.keys()"
   ]
  },
  {
   "cell_type": "code",
   "execution_count": 92,
   "metadata": {},
   "outputs": [
    {
     "data": {
      "image/png": "[encoded data removed]",
      "text/plain": [
       "<Figure size 432x432 with 1 Axes>"
      ]
     },
     "metadata": {
      "needs_background": "light"
     },
     "output_type": "display_data"
    }
   ],
   "source": [
    "axis = plt.figure(figsize=(6,6))\n",
    "sns.distplot( list(map(lambda x: x*100, list(as_dict.get('Prob_Churned').values()))) , color=\"maroon\", label=\"All Users\",bins=100,kde=False)\n",
    "plt.legend()\n",
    "plt.plot([0.5, 0.5], [0, 800],'k--')\n",
    "plt.ylabel(\"Number of Users\")\n",
    "plt.xlabel(\"Probability to Churn\")\n",
    "plt.title(\"User's likelihood to Churn\")\n",
    "plt.show()"
   ]
  },
  {
   "cell_type": "code",
   "execution_count": null,
   "metadata": {},
   "outputs": [],
   "source": []
  },
  {
   "cell_type": "code",
   "execution_count": 93,
   "metadata": {},
   "outputs": [
    {
     "data": {
      "image/png": "[encoded data removed]",
      "text/plain": [
       "<Figure size 432x432 with 1 Axes>"
      ]
     },
     "metadata": {
      "needs_background": "light"
     },
     "output_type": "display_data"
    }
   ],
   "source": [
    "axis = plt.figure(figsize=(6,6))\n",
    "sns.distplot( df_friends_big['Prob_Churned'][df_friends_big['appid_count'] != 0] , color=\"maroon\", label=\"All Users\",bins=100,kde=False)\n",
    "plt.legend()\n",
    "plt.ylabel(\"Number of Users\")\n",
    "plt.xlabel(\"Probability to Churn\")\n",
    "plt.title(\"User's likelihood to Churn\")\n",
    "plt.show()"
   ]
  },
  {
   "cell_type": "code",
   "execution_count": 94,
   "metadata": {},
   "outputs": [
    {
     "data": {
      "image/png": "[encoded data removed]",
      "text/plain": [
       "<Figure size 432x432 with 1 Axes>"
      ]
     },
     "metadata": {
      "needs_background": "light"
     },
     "output_type": "display_data"
    }
   ],
   "source": [
    "axis = plt.figure(figsize=(6,6))\n",
    "sns.distplot( df_friends_big['Prob_Churned'][df_friends_big['appid_count'] == 0] , color=\"maroon\", label=\"All Users\",bins=100,kde=False)\n",
    "plt.legend()\n",
    "plt.ylabel(\"Number of Users\")\n",
    "plt.xlabel(\"Probability to Churn\")\n",
    "plt.title(\"User's likelihood to Churn\")\n",
    "plt.show()"
   ]
  },
  {
   "cell_type": "code",
   "execution_count": 95,
   "metadata": {},
   "outputs": [
    {
     "data": {
      "text/plain": [
       "13838"
      ]
     },
     "execution_count": 95,
     "metadata": {},
     "output_type": "execute_result"
    }
   ],
   "source": [
    "df_full_prof['lastlogoff'].map(lambda x: 1 if (pd.to_datetime(x, unit='s') < churn_cutoff) else 0).sum()"
   ]
  },
  {
   "cell_type": "code",
   "execution_count": 96,
   "metadata": {},
   "outputs": [
    {
     "name": "stdout",
     "output_type": "stream",
     "text": [
      "{0: 55746, 1: 19168, 2: 15786, 3: 13838, 4: 12455, 5: 11346, 6: 10401, 7: 9757, 8: 9225, 9: 8740, 10: 8251, 11: 7788}\n"
     ]
    }
   ],
   "source": [
    "list_churn_by_month = {}\n",
    "api_calls_day = pd.Timestamp('2019-06-13')\n",
    "for i in range(0,12):\n",
    "    churn_cutoff = api_calls_day - pd.Timedelta(i,'M')\n",
    "    list_churn_by_month[i] = df_full_prof['lastlogoff'].map(lambda x: 1 if (pd.to_datetime(x, unit='s') < churn_cutoff) else 0).sum()\n",
    "print(list_churn_by_month)"
   ]
  },
  {
   "cell_type": "code",
   "execution_count": 97,
   "metadata": {},
   "outputs": [
    {
     "data": {
      "image/png": "[encoded data removed]",
      "text/plain": [
       "<Figure size 432x288 with 1 Axes>"
      ]
     },
     "metadata": {
      "needs_background": "light"
     },
     "output_type": "display_data"
    }
   ],
   "source": [
    "\n",
    "from scipy.interpolate import make_interp_spline, BSpline\n",
    "\n",
    "lists = sorted(list_churn_by_month.items()) # sorted by key, return a list of tuples\n",
    "\n",
    "x, y = zip(*lists) # unpack a list of pairs into two tuples\n",
    "\n",
    "x = np.array(x)\n",
    "y = np.array(y)\n",
    "xnew = np.linspace(x.min(),x.max(),300)\n",
    "spl = make_interp_spline(x, y, k=5)\n",
    "y_smooth = spl(xnew)\n",
    "\n",
    "plt.plot(xnew, y_smooth,color='darkblue')\n",
    "plt.plot(x,y,color='darkblue',marker='^',linestyle='None')\n",
    "plt.xlim([0, 8])\n",
    "plt.ylim([0, 60000])\n",
    "plt.plot([3, 3], [0, 20000],'k--')\n",
    "plt.ylabel(\"Number of Users\")\n",
    "plt.xlabel(\"Months Previous\")\n",
    "plt.title(\"Number of Users Last login\")\n",
    "plt.show()"
   ]
  },
  {
   "cell_type": "code",
   "execution_count": 98,
   "metadata": {},
   "outputs": [
    {
     "name": "stderr",
     "output_type": "stream",
     "text": [
      "/anaconda2/lib/python3.6/site-packages/statsmodels/nonparametric/kde.py:488: RuntimeWarning: invalid value encountered in true_divide\n",
      "  binned = fast_linbin(X, a, b, gridsize) / (delta * nobs)\n",
      "/anaconda2/lib/python3.6/site-packages/statsmodels/nonparametric/kdetools.py:34: RuntimeWarning: invalid value encountered in double_scalars\n",
      "  FAC1 = 2*(np.pi*bw/RANGE)**2\n"
     ]
    },
    {
     "data": {
      "text/plain": [
       "<seaborn.axisgrid.PairGrid at 0x1a3f025400>"
      ]
     },
     "execution_count": 98,
     "metadata": {},
     "output_type": "execute_result"
    },
    {
     "data": {
      "image/png": "[encoded data removed]",
      "text/plain": [
       "<Figure size 778.75x720 with 20 Axes>"
      ]
     },
     "metadata": {
      "needs_background": "light"
     },
     "output_type": "display_data"
    }
   ],
   "source": [
    "sns.pairplot(df_friends_big[['Prob_Churned','num_Friends','inClan_friends_mean','isChurned']][df_friends_big['num_Friends'] == 1],hue='isChurned')"
   ]
  },
  {
   "cell_type": "code",
   "execution_count": 99,
   "metadata": {},
   "outputs": [
    {
     "data": {
      "text/plain": [
       "<matplotlib.axes._subplots.AxesSubplot at 0x1a3f1da438>"
      ]
     },
     "execution_count": 99,
     "metadata": {},
     "output_type": "execute_result"
    },
    {
     "data": {
      "image/png": "[encoded data removed]",
      "text/plain": [
       "<Figure size 432x288 with 1 Axes>"
      ]
     },
     "metadata": {
      "needs_background": "light"
     },
     "output_type": "display_data"
    }
   ],
   "source": [
    "sns.distplot(df_friends_big['inClan_friends_mean'][df_friends_big['num_Friends'] == 0],kde=False)"
   ]
  },
  {
   "cell_type": "code",
   "execution_count": 100,
   "metadata": {},
   "outputs": [
    {
     "data": {
      "text/plain": [
       "count    88555.000000\n",
       "mean         0.955756\n",
       "std          0.205637\n",
       "min          0.000000\n",
       "25%          1.000000\n",
       "50%          1.000000\n",
       "75%          1.000000\n",
       "max          1.000000\n",
       "Name: inClan_friends_mean, dtype: float64"
      ]
     },
     "execution_count": 100,
     "metadata": {},
     "output_type": "execute_result"
    }
   ],
   "source": [
    "df_friends_big['inClan_friends_mean'].describe()"
   ]
  },
  {
   "cell_type": "code",
   "execution_count": null,
   "metadata": {},
   "outputs": [],
   "source": []
  }
 ],
 "metadata": {
  "kernelspec": {
   "display_name": "Python 3",
   "language": "python",
   "name": "python3"
  },
  "language_info": {
   "codemirror_mode": {
    "name": "ipython",
    "version": 3
   },
   "file_extension": ".py",
   "mimetype": "text/x-python",
   "name": "python",
   "nbconvert_exporter": "python",
   "pygments_lexer": "ipython3",
   "version": "3.6.8"
  }
 },
 "nbformat": 4,
 "nbformat_minor": 2
}
