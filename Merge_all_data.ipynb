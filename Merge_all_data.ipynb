{
 "cells": [
  {
   "cell_type": "code",
   "execution_count": 1,
   "metadata": {},
   "outputs": [],
   "source": [
    "import pandas as pd"
   ]
  },
  {
   "cell_type": "code",
   "execution_count": 6,
   "metadata": {},
   "outputs": [],
   "source": [
    "df_prof_Part2_step1 = pd.read_csv('player_info_Step2_part1.csv',dtype={'steamid': str}).drop('Unnamed: 0',axis='columns')\n",
    "df_prof_Part2_step2 = pd.read_csv('player_info_Step2_part2.csv',dtype={'steamid': str}).drop('Unnamed: 0',axis='columns')\n",
    "df_prof_Part2_step3 = pd.read_csv('player_info_Step2_part3.csv',dtype={'steamid': str}).drop('Unnamed: 0',axis='columns')\n",
    "df_prof_Part1 = pd.read_csv('player_info_100k.csv',dtype={'steamid': str}).drop('Unnamed: 0',axis='columns')\n",
    "\n"
   ]
  },
  {
   "cell_type": "code",
   "execution_count": 8,
   "metadata": {},
   "outputs": [],
   "source": [
    "df_all_prof = pd.concat([df_prof_Part1,df_prof_Part2_step3,df_prof_Part2_step2,df_prof_Part2_step1],sort=False)"
   ]
  },
  {
   "cell_type": "code",
   "execution_count": 9,
   "metadata": {},
   "outputs": [
    {
     "data": {
      "text/html": [
       "<div>\n",
       "<style scoped>\n",
       "    .dataframe tbody tr th:only-of-type {\n",
       "        vertical-align: middle;\n",
       "    }\n",
       "\n",
       "    .dataframe tbody tr th {\n",
       "        vertical-align: top;\n",
       "    }\n",
       "\n",
       "    .dataframe thead th {\n",
       "        text-align: right;\n",
       "    }\n",
       "</style>\n",
       "<table border=\"1\" class=\"dataframe\">\n",
       "  <thead>\n",
       "    <tr style=\"text-align: right;\">\n",
       "      <th></th>\n",
       "      <th>avatar</th>\n",
       "      <th>avatarfull</th>\n",
       "      <th>avatarmedium</th>\n",
       "      <th>commentpermission</th>\n",
       "      <th>communityvisibilitystate</th>\n",
       "      <th>lastlogoff</th>\n",
       "      <th>loccityid</th>\n",
       "      <th>loccountrycode</th>\n",
       "      <th>locstatecode</th>\n",
       "      <th>personaname</th>\n",
       "      <th>...</th>\n",
       "      <th>profilestate</th>\n",
       "      <th>profileurl</th>\n",
       "      <th>realname</th>\n",
       "      <th>steamid</th>\n",
       "      <th>timecreated</th>\n",
       "      <th>gameextrainfo</th>\n",
       "      <th>gameid</th>\n",
       "      <th>gameserverip</th>\n",
       "      <th>gameserversteamid</th>\n",
       "      <th>lobbysteamid</th>\n",
       "    </tr>\n",
       "  </thead>\n",
       "  <tbody>\n",
       "    <tr>\n",
       "      <th>0</th>\n",
       "      <td>https://steamcdn-a.akamaihd.net/steamcommunity...</td>\n",
       "      <td>https://steamcdn-a.akamaihd.net/steamcommunity...</td>\n",
       "      <td>https://steamcdn-a.akamaihd.net/steamcommunity...</td>\n",
       "      <td>NaN</td>\n",
       "      <td>3.0</td>\n",
       "      <td>1.448199e+09</td>\n",
       "      <td>NaN</td>\n",
       "      <td>NaN</td>\n",
       "      <td>NaN</td>\n",
       "      <td>nuGAME</td>\n",
       "      <td>...</td>\n",
       "      <td>1.0</td>\n",
       "      <td>https://steamcommunity.com/id/nuGAME/</td>\n",
       "      <td>NaN</td>\n",
       "      <td>76561198199710782</td>\n",
       "      <td>1.433417e+09</td>\n",
       "      <td>NaN</td>\n",
       "      <td>NaN</td>\n",
       "      <td>NaN</td>\n",
       "      <td>NaN</td>\n",
       "      <td>NaN</td>\n",
       "    </tr>\n",
       "    <tr>\n",
       "      <th>1</th>\n",
       "      <td>https://steamcdn-a.akamaihd.net/steamcommunity...</td>\n",
       "      <td>https://steamcdn-a.akamaihd.net/steamcommunity...</td>\n",
       "      <td>https://steamcdn-a.akamaihd.net/steamcommunity...</td>\n",
       "      <td>1.0</td>\n",
       "      <td>3.0</td>\n",
       "      <td>1.560560e+09</td>\n",
       "      <td>NaN</td>\n",
       "      <td>GS</td>\n",
       "      <td>NaN</td>\n",
       "      <td>Suudioberglelemeistereehllu2K</td>\n",
       "      <td>...</td>\n",
       "      <td>1.0</td>\n",
       "      <td>https://steamcommunity.com/id/suudio/</td>\n",
       "      <td>Wil</td>\n",
       "      <td>76561198049785932</td>\n",
       "      <td>1.317413e+09</td>\n",
       "      <td>NaN</td>\n",
       "      <td>NaN</td>\n",
       "      <td>NaN</td>\n",
       "      <td>NaN</td>\n",
       "      <td>NaN</td>\n",
       "    </tr>\n",
       "    <tr>\n",
       "      <th>2</th>\n",
       "      <td>https://steamcdn-a.akamaihd.net/steamcommunity...</td>\n",
       "      <td>https://steamcdn-a.akamaihd.net/steamcommunity...</td>\n",
       "      <td>https://steamcdn-a.akamaihd.net/steamcommunity...</td>\n",
       "      <td>NaN</td>\n",
       "      <td>3.0</td>\n",
       "      <td>1.560634e+09</td>\n",
       "      <td>NaN</td>\n",
       "      <td>NaN</td>\n",
       "      <td>NaN</td>\n",
       "      <td>Ganzu</td>\n",
       "      <td>...</td>\n",
       "      <td>1.0</td>\n",
       "      <td>https://steamcommunity.com/id/iganzu/</td>\n",
       "      <td>NaN</td>\n",
       "      <td>76561198040753116</td>\n",
       "      <td>1.303060e+09</td>\n",
       "      <td>NaN</td>\n",
       "      <td>NaN</td>\n",
       "      <td>NaN</td>\n",
       "      <td>NaN</td>\n",
       "      <td>NaN</td>\n",
       "    </tr>\n",
       "    <tr>\n",
       "      <th>3</th>\n",
       "      <td>https://steamcdn-a.akamaihd.net/steamcommunity...</td>\n",
       "      <td>https://steamcdn-a.akamaihd.net/steamcommunity...</td>\n",
       "      <td>https://steamcdn-a.akamaihd.net/steamcommunity...</td>\n",
       "      <td>NaN</td>\n",
       "      <td>3.0</td>\n",
       "      <td>1.555126e+09</td>\n",
       "      <td>NaN</td>\n",
       "      <td>NaN</td>\n",
       "      <td>NaN</td>\n",
       "      <td>Super Hot Fire</td>\n",
       "      <td>...</td>\n",
       "      <td>1.0</td>\n",
       "      <td>https://steamcommunity.com/id/mjontrix/</td>\n",
       "      <td>Not Gabe</td>\n",
       "      <td>76561197990995276</td>\n",
       "      <td>1.183517e+09</td>\n",
       "      <td>NaN</td>\n",
       "      <td>NaN</td>\n",
       "      <td>NaN</td>\n",
       "      <td>NaN</td>\n",
       "      <td>NaN</td>\n",
       "    </tr>\n",
       "    <tr>\n",
       "      <th>4</th>\n",
       "      <td>https://steamcdn-a.akamaihd.net/steamcommunity...</td>\n",
       "      <td>https://steamcdn-a.akamaihd.net/steamcommunity...</td>\n",
       "      <td>https://steamcdn-a.akamaihd.net/steamcommunity...</td>\n",
       "      <td>1.0</td>\n",
       "      <td>3.0</td>\n",
       "      <td>1.560546e+09</td>\n",
       "      <td>45738.0</td>\n",
       "      <td>UA</td>\n",
       "      <td>05</td>\n",
       "      <td>★ krichfal ★</td>\n",
       "      <td>...</td>\n",
       "      <td>1.0</td>\n",
       "      <td>https://steamcommunity.com/profiles/7656119802...</td>\n",
       "      <td>Sergey</td>\n",
       "      <td>76561198025888135</td>\n",
       "      <td>1.274793e+09</td>\n",
       "      <td>NaN</td>\n",
       "      <td>NaN</td>\n",
       "      <td>NaN</td>\n",
       "      <td>NaN</td>\n",
       "      <td>NaN</td>\n",
       "    </tr>\n",
       "  </tbody>\n",
       "</table>\n",
       "<p>5 rows × 23 columns</p>\n",
       "</div>"
      ],
      "text/plain": [
       "                                              avatar  \\\n",
       "0  https://steamcdn-a.akamaihd.net/steamcommunity...   \n",
       "1  https://steamcdn-a.akamaihd.net/steamcommunity...   \n",
       "2  https://steamcdn-a.akamaihd.net/steamcommunity...   \n",
       "3  https://steamcdn-a.akamaihd.net/steamcommunity...   \n",
       "4  https://steamcdn-a.akamaihd.net/steamcommunity...   \n",
       "\n",
       "                                          avatarfull  \\\n",
       "0  https://steamcdn-a.akamaihd.net/steamcommunity...   \n",
       "1  https://steamcdn-a.akamaihd.net/steamcommunity...   \n",
       "2  https://steamcdn-a.akamaihd.net/steamcommunity...   \n",
       "3  https://steamcdn-a.akamaihd.net/steamcommunity...   \n",
       "4  https://steamcdn-a.akamaihd.net/steamcommunity...   \n",
       "\n",
       "                                        avatarmedium  commentpermission  \\\n",
       "0  https://steamcdn-a.akamaihd.net/steamcommunity...                NaN   \n",
       "1  https://steamcdn-a.akamaihd.net/steamcommunity...                1.0   \n",
       "2  https://steamcdn-a.akamaihd.net/steamcommunity...                NaN   \n",
       "3  https://steamcdn-a.akamaihd.net/steamcommunity...                NaN   \n",
       "4  https://steamcdn-a.akamaihd.net/steamcommunity...                1.0   \n",
       "\n",
       "   communityvisibilitystate    lastlogoff  loccityid loccountrycode  \\\n",
       "0                       3.0  1.448199e+09        NaN            NaN   \n",
       "1                       3.0  1.560560e+09        NaN             GS   \n",
       "2                       3.0  1.560634e+09        NaN            NaN   \n",
       "3                       3.0  1.555126e+09        NaN            NaN   \n",
       "4                       3.0  1.560546e+09    45738.0             UA   \n",
       "\n",
       "  locstatecode                    personaname  ...  profilestate  \\\n",
       "0          NaN                         nuGAME  ...           1.0   \n",
       "1          NaN  Suudioberglelemeistereehllu2K  ...           1.0   \n",
       "2          NaN                          Ganzu  ...           1.0   \n",
       "3          NaN                 Super Hot Fire  ...           1.0   \n",
       "4           05                   ★ krichfal ★  ...           1.0   \n",
       "\n",
       "                                          profileurl  realname  \\\n",
       "0              https://steamcommunity.com/id/nuGAME/       NaN   \n",
       "1              https://steamcommunity.com/id/suudio/       Wil   \n",
       "2              https://steamcommunity.com/id/iganzu/       NaN   \n",
       "3            https://steamcommunity.com/id/mjontrix/  Not Gabe   \n",
       "4  https://steamcommunity.com/profiles/7656119802...    Sergey   \n",
       "\n",
       "             steamid   timecreated gameextrainfo gameid  gameserverip  \\\n",
       "0  76561198199710782  1.433417e+09           NaN    NaN           NaN   \n",
       "1  76561198049785932  1.317413e+09           NaN    NaN           NaN   \n",
       "2  76561198040753116  1.303060e+09           NaN    NaN           NaN   \n",
       "3  76561197990995276  1.183517e+09           NaN    NaN           NaN   \n",
       "4  76561198025888135  1.274793e+09           NaN    NaN           NaN   \n",
       "\n",
       "  gameserversteamid lobbysteamid  \n",
       "0               NaN          NaN  \n",
       "1               NaN          NaN  \n",
       "2               NaN          NaN  \n",
       "3               NaN          NaN  \n",
       "4               NaN          NaN  \n",
       "\n",
       "[5 rows x 23 columns]"
      ]
     },
     "execution_count": 9,
     "metadata": {},
     "output_type": "execute_result"
    }
   ],
   "source": [
    "df_all_prof.head()"
   ]
  },
  {
   "cell_type": "code",
   "execution_count": 10,
   "metadata": {},
   "outputs": [
    {
     "name": "stdout",
     "output_type": "stream",
     "text": [
      "<class 'pandas.core.frame.DataFrame'>\n",
      "Int64Index: 199879 entries, 0 to 37305\n",
      "Data columns (total 23 columns):\n",
      "avatar                      199878 non-null object\n",
      "avatarfull                  199878 non-null object\n",
      "avatarmedium                199878 non-null object\n",
      "commentpermission           100342 non-null float64\n",
      "communityvisibilitystate    199878 non-null float64\n",
      "lastlogoff                  199711 non-null float64\n",
      "loccityid                   47627 non-null float64\n",
      "loccountrycode              133280 non-null object\n",
      "locstatecode                81830 non-null object\n",
      "personaname                 199866 non-null object\n",
      "personastate                199878 non-null float64\n",
      "personastateflags           177339 non-null float64\n",
      "primaryclanid               177339 non-null float64\n",
      "profilestate                199034 non-null float64\n",
      "profileurl                  199878 non-null object\n",
      "realname                    112760 non-null object\n",
      "steamid                     199878 non-null object\n",
      "timecreated                 177339 non-null float64\n",
      "gameextrainfo               4671 non-null object\n",
      "gameid                      69995 non-null object\n",
      "gameserverip                505 non-null object\n",
      "gameserversteamid           506 non-null float64\n",
      "lobbysteamid                427 non-null float64\n",
      "dtypes: float64(11), object(12)\n",
      "memory usage: 36.6+ MB\n"
     ]
    }
   ],
   "source": [
    "df_all_prof.info()"
   ]
  },
  {
   "cell_type": "code",
   "execution_count": 12,
   "metadata": {},
   "outputs": [
    {
     "data": {
      "text/plain": [
       "199878"
      ]
     },
     "execution_count": 12,
     "metadata": {},
     "output_type": "execute_result"
    }
   ],
   "source": [
    "df_all_prof['steamid'].nunique()"
   ]
  },
  {
   "cell_type": "code",
   "execution_count": 13,
   "metadata": {},
   "outputs": [],
   "source": [
    "df_all_prof.to_csv('player_info_200k.csv')"
   ]
  },
  {
   "cell_type": "code",
   "execution_count": null,
   "metadata": {},
   "outputs": [],
   "source": []
  },
  {
   "cell_type": "code",
   "execution_count": 1,
   "metadata": {},
   "outputs": [],
   "source": []
  },
  {
   "cell_type": "code",
   "execution_count": 15,
   "metadata": {},
   "outputs": [],
   "source": [
    "df_friend_Part2_step1 = pd.read_csv('player_friend_info_Step2_part1.csv',dtype={'steamid': str}).drop('Unnamed: 0',axis='columns')\n",
    "df_friend_Part2_step2 = pd.read_csv('player_friend_info_Step2_part2.csv',dtype={'steamid': str}).drop('Unnamed: 0',axis='columns')\n",
    "df_friend_Part2_step3 = pd.read_csv('player_friend_info_Step2_part3.csv',dtype={'steamid': str}).drop('Unnamed: 0',axis='columns')\n",
    "df_friend_Part1 = pd.read_csv('player_friend_info_100k.csv',dtype={'steamid': str}).drop('Unnamed: 0',axis='columns')\n",
    "\n"
   ]
  },
  {
   "cell_type": "code",
   "execution_count": 16,
   "metadata": {},
   "outputs": [],
   "source": [
    "df_all_friend = pd.concat([df_friend_Part1,df_friend_Part2_step3,df_friend_Part2_step2,df_friend_Part2_step1],sort=False)\n",
    "\n"
   ]
  },
  {
   "cell_type": "code",
   "execution_count": 17,
   "metadata": {},
   "outputs": [
    {
     "data": {
      "text/html": [
       "<div>\n",
       "<style scoped>\n",
       "    .dataframe tbody tr th:only-of-type {\n",
       "        vertical-align: middle;\n",
       "    }\n",
       "\n",
       "    .dataframe tbody tr th {\n",
       "        vertical-align: top;\n",
       "    }\n",
       "\n",
       "    .dataframe thead th {\n",
       "        text-align: right;\n",
       "    }\n",
       "</style>\n",
       "<table border=\"1\" class=\"dataframe\">\n",
       "  <thead>\n",
       "    <tr style=\"text-align: right;\">\n",
       "      <th></th>\n",
       "      <th>friend_since</th>\n",
       "      <th>relationship</th>\n",
       "      <th>steamid</th>\n",
       "      <th>steamid_orig</th>\n",
       "    </tr>\n",
       "  </thead>\n",
       "  <tbody>\n",
       "    <tr>\n",
       "      <th>0</th>\n",
       "      <td>1434524498</td>\n",
       "      <td>friend</td>\n",
       "      <td>76561198007070703</td>\n",
       "      <td>76561198199710782</td>\n",
       "    </tr>\n",
       "    <tr>\n",
       "      <th>1</th>\n",
       "      <td>1437740667</td>\n",
       "      <td>friend</td>\n",
       "      <td>76561198041503217</td>\n",
       "      <td>76561198199710782</td>\n",
       "    </tr>\n",
       "    <tr>\n",
       "      <th>2</th>\n",
       "      <td>1438264541</td>\n",
       "      <td>friend</td>\n",
       "      <td>76561198238259518</td>\n",
       "      <td>76561198199710782</td>\n",
       "    </tr>\n",
       "    <tr>\n",
       "      <th>3</th>\n",
       "      <td>1421677696</td>\n",
       "      <td>friend</td>\n",
       "      <td>76561197960448312</td>\n",
       "      <td>76561198049785932</td>\n",
       "    </tr>\n",
       "    <tr>\n",
       "      <th>4</th>\n",
       "      <td>1490267324</td>\n",
       "      <td>friend</td>\n",
       "      <td>76561197961426758</td>\n",
       "      <td>76561198049785932</td>\n",
       "    </tr>\n",
       "  </tbody>\n",
       "</table>\n",
       "</div>"
      ],
      "text/plain": [
       "   friend_since relationship            steamid       steamid_orig\n",
       "0    1434524498       friend  76561198007070703  76561198199710782\n",
       "1    1437740667       friend  76561198041503217  76561198199710782\n",
       "2    1438264541       friend  76561198238259518  76561198199710782\n",
       "3    1421677696       friend  76561197960448312  76561198049785932\n",
       "4    1490267324       friend  76561197961426758  76561198049785932"
      ]
     },
     "execution_count": 17,
     "metadata": {},
     "output_type": "execute_result"
    }
   ],
   "source": [
    "df_all_friend.head()"
   ]
  },
  {
   "cell_type": "code",
   "execution_count": 18,
   "metadata": {},
   "outputs": [
    {
     "name": "stdout",
     "output_type": "stream",
     "text": [
      "<class 'pandas.core.frame.DataFrame'>\n",
      "Int64Index: 23957908 entries, 0 to 4456227\n",
      "Data columns (total 4 columns):\n",
      "friend_since    int64\n",
      "relationship    object\n",
      "steamid         object\n",
      "steamid_orig    int64\n",
      "dtypes: int64(2), object(2)\n",
      "memory usage: 913.9+ MB\n"
     ]
    }
   ],
   "source": [
    "df_all_friend.info()"
   ]
  },
  {
   "cell_type": "code",
   "execution_count": 19,
   "metadata": {},
   "outputs": [
    {
     "data": {
      "text/plain": [
       "10187787"
      ]
     },
     "execution_count": 19,
     "metadata": {},
     "output_type": "execute_result"
    }
   ],
   "source": [
    "df_all_friend['steamid'].nunique()"
   ]
  },
  {
   "cell_type": "code",
   "execution_count": 20,
   "metadata": {},
   "outputs": [
    {
     "data": {
      "text/plain": [
       "171225"
      ]
     },
     "execution_count": 20,
     "metadata": {},
     "output_type": "execute_result"
    }
   ],
   "source": [
    "df_all_friend['steamid_orig'].nunique()"
   ]
  },
  {
   "cell_type": "code",
   "execution_count": 21,
   "metadata": {},
   "outputs": [],
   "source": [
    "df_all_friend.to_csv('player_friend_info_200k.csv')"
   ]
  },
  {
   "cell_type": "code",
   "execution_count": null,
   "metadata": {},
   "outputs": [],
   "source": []
  },
  {
   "cell_type": "code",
   "execution_count": null,
   "metadata": {},
   "outputs": [],
   "source": []
  },
  {
   "cell_type": "code",
   "execution_count": null,
   "metadata": {},
   "outputs": [],
   "source": []
  },
  {
   "cell_type": "code",
   "execution_count": 22,
   "metadata": {},
   "outputs": [],
   "source": [
    "df_game_Part2_step1 = pd.read_csv('player_game_info_Step2_part1.csv',dtype={'steamid': str}).drop('Unnamed: 0',axis='columns')\n",
    "df_game_Part2_step2 = pd.read_csv('player_game_info_Step2_part2.csv',dtype={'steamid': str}).drop('Unnamed: 0',axis='columns')\n",
    "df_game_Part2_step3 = pd.read_csv('player_game_info_Step2_part3.csv',dtype={'steamid': str}).drop('Unnamed: 0',axis='columns')\n",
    "df_game_Part1 = pd.read_csv('player_game_info_100k.csv',dtype={'steamid': str}).drop('Unnamed: 0',axis='columns')\n",
    "\n"
   ]
  },
  {
   "cell_type": "code",
   "execution_count": 23,
   "metadata": {},
   "outputs": [],
   "source": [
    "df_all_game = pd.concat([df_game_Part1,df_game_Part2_step3,df_game_Part2_step2,df_game_Part2_step1],sort=False)\n",
    "\n"
   ]
  },
  {
   "cell_type": "code",
   "execution_count": 24,
   "metadata": {},
   "outputs": [
    {
     "data": {
      "text/html": [
       "<div>\n",
       "<style scoped>\n",
       "    .dataframe tbody tr th:only-of-type {\n",
       "        vertical-align: middle;\n",
       "    }\n",
       "\n",
       "    .dataframe tbody tr th {\n",
       "        vertical-align: top;\n",
       "    }\n",
       "\n",
       "    .dataframe thead th {\n",
       "        text-align: right;\n",
       "    }\n",
       "</style>\n",
       "<table border=\"1\" class=\"dataframe\">\n",
       "  <thead>\n",
       "    <tr style=\"text-align: right;\">\n",
       "      <th></th>\n",
       "      <th>appid</th>\n",
       "      <th>playtime_2weeks</th>\n",
       "      <th>playtime_forever</th>\n",
       "      <th>steamid</th>\n",
       "    </tr>\n",
       "  </thead>\n",
       "  <tbody>\n",
       "    <tr>\n",
       "      <th>0</th>\n",
       "      <td>240</td>\n",
       "      <td>NaN</td>\n",
       "      <td>307</td>\n",
       "      <td>76561198049785932</td>\n",
       "    </tr>\n",
       "    <tr>\n",
       "      <th>1</th>\n",
       "      <td>2600</td>\n",
       "      <td>NaN</td>\n",
       "      <td>65</td>\n",
       "      <td>76561198049785932</td>\n",
       "    </tr>\n",
       "    <tr>\n",
       "      <th>2</th>\n",
       "      <td>6910</td>\n",
       "      <td>NaN</td>\n",
       "      <td>0</td>\n",
       "      <td>76561198049785932</td>\n",
       "    </tr>\n",
       "    <tr>\n",
       "      <th>3</th>\n",
       "      <td>15700</td>\n",
       "      <td>NaN</td>\n",
       "      <td>0</td>\n",
       "      <td>76561198049785932</td>\n",
       "    </tr>\n",
       "    <tr>\n",
       "      <th>4</th>\n",
       "      <td>500</td>\n",
       "      <td>NaN</td>\n",
       "      <td>1</td>\n",
       "      <td>76561198049785932</td>\n",
       "    </tr>\n",
       "  </tbody>\n",
       "</table>\n",
       "</div>"
      ],
      "text/plain": [
       "   appid  playtime_2weeks  playtime_forever            steamid\n",
       "0    240              NaN               307  76561198049785932\n",
       "1   2600              NaN                65  76561198049785932\n",
       "2   6910              NaN                 0  76561198049785932\n",
       "3  15700              NaN                 0  76561198049785932\n",
       "4    500              NaN                 1  76561198049785932"
      ]
     },
     "execution_count": 24,
     "metadata": {},
     "output_type": "execute_result"
    }
   ],
   "source": [
    "df_all_game.head()"
   ]
  },
  {
   "cell_type": "code",
   "execution_count": 25,
   "metadata": {},
   "outputs": [
    {
     "name": "stdout",
     "output_type": "stream",
     "text": [
      "<class 'pandas.core.frame.DataFrame'>\n",
      "Int64Index: 36481847 entries, 0 to 6382638\n",
      "Data columns (total 4 columns):\n",
      "appid               int64\n",
      "playtime_2weeks     float64\n",
      "playtime_forever    int64\n",
      "steamid             object\n",
      "dtypes: float64(1), int64(2), object(1)\n",
      "memory usage: 1.4+ GB\n"
     ]
    }
   ],
   "source": [
    "df_all_game.info()"
   ]
  },
  {
   "cell_type": "code",
   "execution_count": 26,
   "metadata": {},
   "outputs": [
    {
     "data": {
      "text/plain": [
       "54863"
      ]
     },
     "execution_count": 26,
     "metadata": {},
     "output_type": "execute_result"
    }
   ],
   "source": [
    "df_all_game['steamid'].nunique()"
   ]
  },
  {
   "cell_type": "code",
   "execution_count": null,
   "metadata": {},
   "outputs": [],
   "source": []
  },
  {
   "cell_type": "code",
   "execution_count": 27,
   "metadata": {},
   "outputs": [],
   "source": [
    "df_all_game.to_csv('player_game_info_200k.csv')"
   ]
  },
  {
   "cell_type": "code",
   "execution_count": null,
   "metadata": {},
   "outputs": [],
   "source": []
  }
 ],
 "metadata": {
  "kernelspec": {
   "display_name": "Python 3",
   "language": "python",
   "name": "python3"
  },
  "language_info": {
   "codemirror_mode": {
    "name": "ipython",
    "version": 3
   },
   "file_extension": ".py",
   "mimetype": "text/x-python",
   "name": "python",
   "nbconvert_exporter": "python",
   "pygments_lexer": "ipython3",
   "version": "3.6.8"
  }
 },
 "nbformat": 4,
 "nbformat_minor": 2
}
