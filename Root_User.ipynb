{
 "cells": [
  {
   "cell_type": "markdown",
   "metadata": {},
   "source": [
    "# Get Root User to Start Looking at Steam Community\n",
    "\n",
    "This will produce the files needed to start itteraitng through the steam community starting with the base user \"smiley\".\n",
    "The starting steamid is hard coded here, but I have omitted the key which you will need to request from Steamworks.\n",
    "https://steamcommunity.com/dev/registerkey"
   ]
  },
  {
   "cell_type": "code",
   "execution_count": 1,
   "metadata": {},
   "outputs": [],
   "source": [
    "import pandas as pd\n",
    "import requests"
   ]
  },
  {
   "cell_type": "code",
   "execution_count": 2,
   "metadata": {},
   "outputs": [],
   "source": [
    "url_player_info = \"http://api.steampowered.com/ISteamUser/GetPlayerSummaries/v0002/?key=075E68972FAEC0C52785DF3F56F6F9E7&steamids=76561197960434622\"\n",
    "url_player_game_info = \"http://api.steampowered.com/IPlayerService/GetOwnedGames/v0001/?key=075E68972FAEC0C52785DF3F56F6F9E7&steamid=76561197960434622&include_played_free_games=true\"\n",
    "url_player_friend_info = \"http://api.steampowered.com/ISteamUser/GetFriendList/v0001/?key=075E68972FAEC0C52785DF3F56F6F9E7&steamid=76561197960434622&relationship=friend\""
   ]
  },
  {
   "cell_type": "code",
   "execution_count": 3,
   "metadata": {},
   "outputs": [],
   "source": [
    "response_player_info = requests.get(url_player_info)\n",
    "response_player_game_info = requests.get(url_player_game_info)\n",
    "response_player_friend_info = requests.get(url_player_friend_info)"
   ]
  },
  {
   "cell_type": "code",
   "execution_count": 4,
   "metadata": {},
   "outputs": [],
   "source": [
    "player_info_json = response_player_info.json()\n",
    "player_game_info_json = response_player_game_info.json()\n",
    "player_friend_info_json = response_player_friend_info.json()"
   ]
  },
  {
   "cell_type": "code",
   "execution_count": 5,
   "metadata": {},
   "outputs": [],
   "source": [
    "player_info_df = pd.DataFrame(player_info_json.get('response',{}).get('players'))\n",
    "player_game_info_df = pd.DataFrame(player_game_info_json.get('response',{}).get('games'))\n",
    "player_friend_info_df = pd.DataFrame(player_friend_info_json.get('friendslist',{}).get('friends'))"
   ]
  },
  {
   "cell_type": "code",
   "execution_count": 6,
   "metadata": {},
   "outputs": [],
   "source": [
    "player_game_info_df['steamid'] = str(76561197960434622)\n",
    "player_friend_info_df['steamid_orig'] = str(76561197960434622)"
   ]
  },
  {
   "cell_type": "code",
   "execution_count": 7,
   "metadata": {},
   "outputs": [],
   "source": [
    "player_info_df.to_csv('player_info.csv',encoding='utf-8')\n",
    "player_game_info_df.to_csv('player_game_info.csv',encoding='utf-8')\n",
    "player_friend_info_df.to_csv('player_friend_info.csv',encoding='utf-8')"
   ]
  },
  {
   "cell_type": "code",
   "execution_count": 8,
   "metadata": {},
   "outputs": [],
   "source": [
    "new_ids = player_friend_info_df['steamid'].to_list()"
   ]
  },
  {
   "cell_type": "code",
   "execution_count": 9,
   "metadata": {},
   "outputs": [
    {
     "name": "stdout",
     "output_type": "stream",
     "text": [
      "76561197960265738\n",
      "76561197960265740\n",
      "76561197960265743\n",
      "76561197960265754\n",
      "76561197960265838\n",
      "76561197960275076\n",
      "76561197960276281\n",
      "76561197960327485\n",
      "76561197960381818\n",
      "76561197960408176\n",
      "76561197960435530\n",
      "76561197960446640\n",
      "76561197960794555\n",
      "76561197960852588\n",
      "76561197960860649\n",
      "76561197960941034\n",
      "76561197960951084\n",
      "76561197961108628\n",
      "76561197961159426\n",
      "76561197961298542\n",
      "76561197961301890\n",
      "76561197961366266\n",
      "76561197961569090\n",
      "76561197961766833\n",
      "76561197961786669\n",
      "76561197961963491\n",
      "76561197962146232\n",
      "76561197962313932\n",
      "76561197962813469\n",
      "76561197963135603\n",
      "76561197963267557\n",
      "76561197963535400\n",
      "76561197963989951\n",
      "76561197963997393\n",
      "76561197964093969\n",
      "76561197964106646\n",
      "76561197964110039\n",
      "76561197964111921\n",
      "76561197964607739\n",
      "76561197964770089\n",
      "76561197965193428\n",
      "76561197965312278\n",
      "76561197965978376\n",
      "76561197966598809\n",
      "76561197967599040\n",
      "76561197967653490\n",
      "76561197968152886\n",
      "76561197968406363\n",
      "76561197968459473\n",
      "76561197968570218\n",
      "76561197968575517\n",
      "76561197968729431\n",
      "76561197968781961\n",
      "76561197968979144\n",
      "76561197969400141\n",
      "76561197969518075\n",
      "76561197969918174\n",
      "76561197970110818\n",
      "76561197970166754\n",
      "76561197970323416\n",
      "76561197970487939\n",
      "76561197970510942\n",
      "76561197970530062\n",
      "76561197970546541\n",
      "76561197970565175\n",
      "76561197970576753\n",
      "76561197970917552\n",
      "76561197970961357\n",
      "76561197971011821\n",
      "76561197971373352\n",
      "76561197971424010\n",
      "76561197972494985\n",
      "76561197972495328\n",
      "76561197972892924\n",
      "76561197973839319\n",
      "76561197974593417\n",
      "76561197975029215\n",
      "76561197975664861\n",
      "76561197977113234\n",
      "76561197977521239\n",
      "76561197978136978\n",
      "76561197978236369\n",
      "76561197979363296\n",
      "76561197980007984\n",
      "76561197980028792\n",
      "76561197980258575\n",
      "76561197980632230\n",
      "76561197981291930\n",
      "76561197982003783\n",
      "76561197983340435\n",
      "76561197983756359\n",
      "76561197985262494\n",
      "76561197985434818\n",
      "76561197985454791\n",
      "76561197985607672\n",
      "76561197986793405\n",
      "76561197987090062\n",
      "76561197987535732\n",
      "76561197987851988\n",
      "76561197988042654\n",
      "76561197989222171\n",
      "76561197989427836\n",
      "76561197989577350\n",
      "76561197989665859\n",
      "76561197989808853\n",
      "76561197991899002\n",
      "76561197992219796\n",
      "76561197992385461\n",
      "76561197992607375\n",
      "76561197992681877\n",
      "76561197993032363\n",
      "76561197993405229\n",
      "76561197994308495\n",
      "76561197994632741\n",
      "76561197995008105\n",
      "76561197995062119\n",
      "76561197995731212\n",
      "76561197996059662\n",
      "76561197996744676\n",
      "76561197997076043\n",
      "76561197997296694\n",
      "76561197997728531\n",
      "76561197998773074\n",
      "76561197999045991\n",
      "76561197999665262\n",
      "76561198000175595\n",
      "76561198000928595\n",
      "76561198000974417\n",
      "76561198001482509\n",
      "76561198001549544\n",
      "76561198001980643\n",
      "76561198002451738\n",
      "76561198002461124\n",
      "76561198002555892\n",
      "76561198004296213\n",
      "76561198004465195\n",
      "76561198004957592\n",
      "76561198005121830\n",
      "76561198007202016\n",
      "76561198007337015\n",
      "76561198007622651\n",
      "76561198007622817\n",
      "76561198008486962\n",
      "76561198009095613\n",
      "76561198010062752\n",
      "76561198011361633\n",
      "76561198011782379\n",
      "76561198012034243\n",
      "76561198015082085\n",
      "76561198015331771\n",
      "76561198015659913\n",
      "76561198016220076\n",
      "76561198021939543\n",
      "76561198022184697\n",
      "76561198024187698\n",
      "76561198024402255\n",
      "76561198027226081\n",
      "76561198028024321\n",
      "76561198028573551\n",
      "76561198038253992\n",
      "76561198039765267\n",
      "76561198040900440\n",
      "76561198043141041\n",
      "76561198044805548\n",
      "76561198046744887\n",
      "76561198050190541\n",
      "76561198053398526\n",
      "76561198055824854\n",
      "76561198057071041\n",
      "76561198057252542\n",
      "76561198098294496\n",
      "76561198105633837\n",
      "76561198112219279\n",
      "76561198264031608\n",
      "76561198293448642\n"
     ]
    }
   ],
   "source": [
    "for x in new_ids:\n",
    "    print(x)"
   ]
  },
  {
   "cell_type": "code",
   "execution_count": 10,
   "metadata": {},
   "outputs": [],
   "source": [
    "first = [76561197960434622]\n",
    "with open(\"Steam_User_Input.txt\",\"w+\", encoding='utf-8') as file2:\n",
    "        processed_ids = list(set(first + new_ids))\n",
    "        for s in processed_ids:\n",
    "            file2.write(\"%s\\n\" % s)"
   ]
  },
  {
   "cell_type": "code",
   "execution_count": 11,
   "metadata": {},
   "outputs": [
    {
     "data": {
      "text/plain": [
       "175"
      ]
     },
     "execution_count": 11,
     "metadata": {},
     "output_type": "execute_result"
    }
   ],
   "source": [
    "len(new_ids)"
   ]
  },
  {
   "cell_type": "code",
   "execution_count": null,
   "metadata": {},
   "outputs": [],
   "source": []
  },
  {
   "cell_type": "code",
   "execution_count": null,
   "metadata": {},
   "outputs": [],
   "source": []
  },
  {
   "cell_type": "code",
   "execution_count": null,
   "metadata": {},
   "outputs": [],
   "source": []
  },
  {
   "cell_type": "code",
   "execution_count": null,
   "metadata": {},
   "outputs": [],
   "source": []
  },
  {
   "cell_type": "code",
   "execution_count": null,
   "metadata": {},
   "outputs": [],
   "source": []
  },
  {
   "cell_type": "code",
   "execution_count": null,
   "metadata": {},
   "outputs": [],
   "source": []
  },
  {
   "cell_type": "code",
   "execution_count": null,
   "metadata": {},
   "outputs": [],
   "source": []
  },
  {
   "cell_type": "code",
   "execution_count": null,
   "metadata": {},
   "outputs": [],
   "source": []
  },
  {
   "cell_type": "code",
   "execution_count": null,
   "metadata": {},
   "outputs": [],
   "source": []
  },
  {
   "cell_type": "code",
   "execution_count": null,
   "metadata": {},
   "outputs": [],
   "source": []
  },
  {
   "cell_type": "code",
   "execution_count": null,
   "metadata": {},
   "outputs": [],
   "source": []
  },
  {
   "cell_type": "code",
   "execution_count": null,
   "metadata": {},
   "outputs": [],
   "source": []
  },
  {
   "cell_type": "code",
   "execution_count": null,
   "metadata": {},
   "outputs": [],
   "source": []
  },
  {
   "cell_type": "code",
   "execution_count": null,
   "metadata": {},
   "outputs": [],
   "source": []
  },
  {
   "cell_type": "code",
   "execution_count": null,
   "metadata": {},
   "outputs": [],
   "source": []
  },
  {
   "cell_type": "code",
   "execution_count": null,
   "metadata": {},
   "outputs": [],
   "source": []
  },
  {
   "cell_type": "code",
   "execution_count": null,
   "metadata": {},
   "outputs": [],
   "source": []
  }
 ],
 "metadata": {
  "kernelspec": {
   "display_name": "Python 3",
   "language": "python",
   "name": "python3"
  },
  "language_info": {
   "codemirror_mode": {
    "name": "ipython",
    "version": 3
   },
   "file_extension": ".py",
   "mimetype": "text/x-python",
   "name": "python",
   "nbconvert_exporter": "python",
   "pygments_lexer": "ipython3",
   "version": "3.6.8"
  }
 },
 "nbformat": 4,
 "nbformat_minor": 2
}
